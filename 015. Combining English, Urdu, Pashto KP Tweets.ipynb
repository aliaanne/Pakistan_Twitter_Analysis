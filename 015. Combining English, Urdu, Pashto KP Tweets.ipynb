{
 "cells": [
  {
   "cell_type": "code",
   "execution_count": 1,
   "metadata": {},
   "outputs": [],
   "source": [
    "import os\n",
    "import numpy as np\n",
    "import pandas as pd\n",
    "import matplotlib.pyplot as plt\n",
    "import seaborn as sns\n",
    "import itertools\n",
    "import collections\n",
    "\n",
    "import nltk\n",
    "from nltk import bigrams\n",
    "from nltk.corpus import stopwords\n",
    "import re\n",
    "import networkx as nx\n",
    "\n",
    "import warnings\n",
    "warnings.filterwarnings(\"ignore\")\n",
    "\n",
    "sns.set(font_scale=1.5)\n",
    "sns.set_style(\"whitegrid\")\n",
    "\n",
    "import pickle"
   ]
  },
  {
   "cell_type": "code",
   "execution_count": 4,
   "metadata": {},
   "outputs": [],
   "source": [
    "with open('kp_english_tweets_sentiments_current.pickle', \"rb\") as f:\n",
    "    english = pickle.load(f)"
   ]
  },
  {
   "cell_type": "code",
   "execution_count": 11,
   "metadata": {},
   "outputs": [],
   "source": [
    "with open('kp_pashto_tweets_sentiments_current.pickle', \"rb\") as f:\n",
    "    pashto = pickle.load(f)"
   ]
  },
  {
   "cell_type": "code",
   "execution_count": 12,
   "metadata": {},
   "outputs": [],
   "source": [
    "with open('kp_urdu_tweets_sentiments_current.pickle', \"rb\") as f:\n",
    "    urdu = pickle.load(f)"
   ]
  },
  {
   "cell_type": "code",
   "execution_count": 7,
   "metadata": {},
   "outputs": [],
   "source": [
    "with open('kp_tweets_hashtags_only.pickle', \"rb\") as f:\n",
    "    hashtags_only = pickle.load(f)"
   ]
  },
  {
   "cell_type": "code",
   "execution_count": 27,
   "metadata": {},
   "outputs": [],
   "source": [
    "#Select columns from each language df for final combined df\n",
    "kp_pashto = pashto[[\"datetime\", \"hashtags\", \"user_id\", \"user_location\", \"sentiment\", \"clean_translation\"]]\n",
    "kp_urdu = urdu[[\"datetime\", \"hashtags\", \"user_id\", \"user_location\", \"sentiment\", \"clean_translation\"]]\n",
    "kp_english = english[[\"clean_text\", \"created_at\", \"hashtags\", \"user_id\", \"user_location\", \"sentiment\"]]\n",
    "kp_english.columns = [\"clean_translation\", \"datetime\", \"hashtags\", \"user_id\", \"user_location\", \"sentiment\"]"
   ]
  },
  {
   "cell_type": "code",
   "execution_count": 31,
   "metadata": {},
   "outputs": [],
   "source": [
    "#Combine and save kp all languages dataframe\n",
    "kp = pd.concat([kp_english, kp_urdu, kp_pashto])\n",
    "with open(\"kp_all_sentiments_translations.pickle\", \"wb\") as f:\n",
    "    pickle.dump(kp, f)"
   ]
  }
 ],
 "metadata": {
  "kernelspec": {
   "display_name": "Python 3",
   "language": "python",
   "name": "python3"
  },
  "language_info": {
   "codemirror_mode": {
    "name": "ipython",
    "version": 3
   },
   "file_extension": ".py",
   "mimetype": "text/x-python",
   "name": "python",
   "nbconvert_exporter": "python",
   "pygments_lexer": "ipython3",
   "version": "3.5.5"
  }
 },
 "nbformat": 4,
 "nbformat_minor": 4
}
