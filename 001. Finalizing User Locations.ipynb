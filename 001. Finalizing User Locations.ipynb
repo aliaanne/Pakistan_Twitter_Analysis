{
 "cells": [
  {
   "cell_type": "code",
   "execution_count": 1,
   "metadata": {},
   "outputs": [],
   "source": [
    "import pandas as pd\n",
    "import pickle\n",
    "import string\n",
    "import matplotlib.pyplot as plt\n",
    "import seaborn as sns\n",
    "from langdetect import detect\n",
    "import numpy as np"
   ]
  },
  {
   "cell_type": "code",
   "execution_count": 2,
   "metadata": {},
   "outputs": [],
   "source": [
    "with open('all_pk_tweets_all.pickle', \"rb\") as f:\n",
    "    tweets = pickle.load(f)"
   ]
  },
  {
   "cell_type": "code",
   "execution_count": 3,
   "metadata": {},
   "outputs": [],
   "source": [
    "with open(\"geolocated_users.pickle\", \"rb\") as f:\n",
    "    geo = pickle.load(f)"
   ]
  },
  {
   "cell_type": "code",
   "execution_count": 6,
   "metadata": {},
   "outputs": [],
   "source": [
    "#Clean text of self-defined user locations\n",
    "tweets[\"user_location\"] = tweets[\"user_location\"].str.lower()\n",
    "tweets[\"user_location\"] = tweets[\"user_location\"].str.replace('[{}]'.format(string.punctuation), '')\n",
    "tweets[\"user_location\"] = tweets[\"user_location\"].str.strip()"
   ]
  },
  {
   "cell_type": "code",
   "execution_count": 7,
   "metadata": {},
   "outputs": [],
   "source": [
    "#Identify users who indicate they are in pakistan\n",
    "tweets[\"country\"] = tweets[\"user_location\"].str.find(\"pakistan\")\n",
    "conditions = [\n",
    "    (tweets['country'] >= 0),\n",
    "    (tweets[\"country\"] < 0)]\n",
    "choices = [\"pakistan\", \"None\"]\n",
    "\n",
    "tweets[\"country\"] = np.select(conditions, choices, default='null')\n",
    "tweets[\"user_location\"] = tweets[\"user_location\"].str.replace(\"pakistan\", \"\")"
   ]
  },
  {
   "cell_type": "code",
   "execution_count": 12,
   "metadata": {},
   "outputs": [],
   "source": [
    "#Merge geocoordinated user locations with main dataframe\n",
    "location = tweets[[\"user_id\", \"user_location\", \"country\"]]\n",
    "location = location.groupby([\"user_id\"]).head(1)\n",
    "geo = geo[[\"NAME_3\", \"index_right\"]]\n",
    "merged = location.merge(geo, how='left', left_on=\"user_id\", right_on=\"index_right\")"
   ]
  },
  {
   "cell_type": "code",
   "execution_count": 22,
   "metadata": {},
   "outputs": [],
   "source": [
    "#Select users with self-reported locations, clean the text, and substitute geolocated locations where available\n",
    "users_nan = merged[merged['NAME_3'].isnull()]\n",
    "users_notnan = merged[merged.NAME_3.notnull()]\n",
    "users_notnan[\"NAME_3\"] = users_notnan[\"NAME_3\"].str.lower()\n",
    "users_notnan[\"NAME_3\"] = users_notnan[\"NAME_3\"].str.replace('[{}]'.format(string.punctuation), '')\n",
    "users_notnan[\"NAME_3\"] = users_notnan[\"NAME_3\"].str.strip()\n",
    "users_notnan[\"user_location\"] = users_notnan[\"NAME_3\"]\n",
    "new_users = pd.concat([users_nan, users_notnan], ignore_index = True)\n",
    "new_users = new_users.drop(columns=[\"NAME_3\", \"index_right\"])"
   ]
  },
  {
   "cell_type": "code",
   "execution_count": 43,
   "metadata": {},
   "outputs": [],
   "source": [
    "#Set Pakistan as location for users located in pakistan without more detailed location info\n",
    "pakistan_locations = location_check[location_check[\"country\"] == \"pakistan\"]\n",
    "pakistan_locations[\"user_location\"] = \"pakistan\"\n",
    "pakistan_locations = pakistan_locations.drop(columns = [\"country\"])"
   ]
  },
  {
   "cell_type": "code",
   "execution_count": null,
   "metadata": {},
   "outputs": [],
   "source": [
    "#Combine users with country only data and city level data and determine if city-level data is in english\n",
    "semi_final_users = pd.concat([location_fine, pakistan_locations], ignore_index = True)\n",
    "\n",
    "def isEnglish(s):\n",
    "    try:\n",
    "        s.encode(encoding='utf-8').decode('ascii')\n",
    "    except UnicodeDecodeError:\n",
    "        return False\n",
    "    else:\n",
    "        return True\n",
    "    \n",
    "semi_final_users['english'] = semi_final_users['user_location'].apply(isEnglish)\n",
    "english_users = semi_final_users[semi_final_users[\"english\"] == True]\n",
    "non_english_users = semi_final_users[semi_final_users[\"english\"] == False]"
   ]
  },
  {
   "cell_type": "code",
   "execution_count": 78,
   "metadata": {},
   "outputs": [
    {
     "data": {
      "text/plain": [
       "پاکستان                          3361\n",
       "لاہور پاکستان                    2749\n",
       "پنجاب پاکستان                    2335\n",
       "کراچی پاکستان                    1883\n",
       "اسلام آباد پاکستان               1542\n",
       "پشاور پاکستان                      26\n",
       "راولپنڈی پاکستان                   18\n",
       "گوجرانوالہ پاکستان                 15\n",
       "ملتان پاکستان                      13\n",
       "سیالکوٹ پاکستان                    10\n",
       "حیدر آباد پاکستان                  10\n",
       "دبي الامارات العربية المتحدة       10\n",
       "🇵🇰                                 10\n",
       "سندھ پاکستان                        8\n",
       "سرگودھا پاکستان                     6\n",
       "ایبٹ آباد پاکستان                   5\n",
       "کوئٹہ پاکستان                       5\n",
       "i̇stanbul türkiye                   5\n",
       "الامارات العربية المتحدة            5\n",
       "karachi  🇵🇰                         3\n",
       "شال                                 2\n",
       "lahore 🇵🇰                           2\n",
       "بہاولپور پاکستان                    2\n",
       "भारत                                2\n",
       "𝕷𝖆𝖍𝖔𝖗𝖊                              1\n",
       "مے خانے میں                         1\n",
       "españa                              1\n",
       "مظفرگڑھ،پنجاب،پاکستان               1\n",
       "🙋💖🙋🎈🙋💖🙋                             1\n",
       "vormir ⚠                            1\n",
       "                                 ... \n",
       "❤❤                                  1\n",
       "بہاولپور لاہور، پاکستان             1\n",
       "gujranwala🇵🇰                        1\n",
       "پشین                                1\n",
       "مے کدہ                              1\n",
       "درویشاں دے ڈیرے تے                  1\n",
       "جدة المملكة العربية السعودية        1\n",
       "رأس الخيمة الامارات العربية ا       1\n",
       "city of lights👉                     1\n",
       "أبوظبي الامارات العربية المتح       1\n",
       "türkiye                             1\n",
       "i🇵🇰🇸🇦                               1\n",
       "لاڑکانہ پاکستان                     1\n",
       "🏚️🏚️🏚️                              1\n",
       "ساہیوال پاکستان                     1\n",
       "جہانیاں پنجاب پاکستان               1\n",
       "بنوں گل خیبر پختونخواہ              1\n",
       "پاکستان faisalabad                  1\n",
       "بلوچستان                            1\n",
       "مقبوضہ پاکستان                      1\n",
       "namjoon’s heart                     1\n",
       "جھنگ صدر پاکستان                    1\n",
       "میانوالی پاکستان                    1\n",
       "منڈی بوریوالہ پاکستان               1\n",
       "multanpk job europ cyprus🇨🇾         1\n",
       "دنیا کے رش میں                      1\n",
       "apka dil main ❤                     1\n",
       "traffic 🚗🚗🚦🚦                        1\n",
       "in your heart ❤                     1\n",
       "سلطنتِ عثمانیہ                      1\n",
       "Name: user_location, Length: 144, dtype: int64"
      ]
     },
     "execution_count": 78,
     "metadata": {},
     "output_type": "execute_result"
    }
   ],
   "source": [
    "#Translated non-english location names\n",
    "non_english_users[\"user_location\"].value_counts()\n",
    "pakistan_users = non_english_users[non_english_users[\"user_location\"] == \"پاکستان\"]\n",
    "pakistan_users[\"user_location\"] = \"pakistan\"\n",
    "lahore_users = non_english_users[non_english_users[\"user_location\"] == \"لاہور پاکستان\"]\n",
    "lahore_users[\"user_location\"] = \"lahore\"\n",
    "punjab_users = non_english_users[non_english_users[\"user_location\"] == \"پنجاب پاکستان\"]\n",
    "punjab_users[\"user_location\"] = \"punjab\"\n",
    "karachi_users = non_english_users[non_english_users[\"user_location\"] == \"کراچی پاکستان\"]\n",
    "karachi_users[\"user_location\"] = \"karachi\"\n",
    "islamabad_users = non_english_users[non_english_users[\"user_location\"] == \"اسلام آباد پاکستان\"]\n",
    "islamabad_users[\"user_location\"] = \"islamabad\"\n",
    "peshawar_users = non_english_users[non_english_users[\"user_location\"] == \"پشاور پاکستان\"]\n",
    "peshawar_users[\"user_location\"] = \"peshawar\"\n",
    "rawalpindi_users = non_english_users[non_english_users[\"user_location\"] == \"راولپنڈی پاکستان\"]\n",
    "rawalpindi_users[\"user_location\"] = \"rawalpindi\"\n",
    "gujranwala_users = non_english_users[non_english_users[\"user_location\"] == \"گوجرانوالہ پاکستان\"]\n",
    "gujranwala_users[\"user_location\"] = \"gujranwala\"\n",
    "multan_users = non_english_users[non_english_users[\"user_location\"] == \"ملتان پاکستان\"]\n",
    "multan_users[\"user_location\"] = \"multan\"\n",
    "hyderabad_users = non_english_users[non_english_users[\"user_location\"] == \"حیدر آباد پاکستان\"]\n",
    "hyderabad_users[\"user_location\"] = \"hyderabad\"\n",
    "sindh_users = non_english_users[non_english_users[\"user_location\"] == \"سندھ پاکستان\"]\n",
    "sindh_users[\"user_location\"] = \"sindh\"\n",
    "sargodha_users = non_english_users[non_english_users[\"user_location\"] == \"سرگودھا پاکستان\"]\n",
    "sargodha_users[\"user_location\"] = \"sargodha\"\n",
    "abbottabad_users = non_english_users[non_english_users[\"user_location\"] == \"ایبٹ آباد پاکستان\"]\n",
    "abbottabad_users[\"user_location\"] = \"abbottabad\"\n",
    "quetta_users = non_english_users[non_english_users[\"user_location\"] == \"کوئٹہ پاکستان\"]\n",
    "quetta_users[\"user_location\"] = \"quetta\"\n",
    "karachi2_users = non_english_users[non_english_users[\"user_location\"] == \"karachi  🇵🇰\"]\n",
    "karachi2_users[\"user_location\"] = \"karachi\"\n",
    "lahore2_users = non_english_users[non_english_users[\"user_location\"] == \"lahore 🇵🇰\"]\n",
    "lahore2_users[\"user_location\"] = \"lahore\""
   ]
  },
  {
   "cell_type": "code",
   "execution_count": 99,
   "metadata": {},
   "outputs": [],
   "source": [
    "#Concatenate all user-location translated users and english language users and clean up final dataframe\n",
    "translated_users = pd.concat([pakistan_users, lahore_users, karachi_users, punjab_users, islamabad_users, peshawar_users, rawalpindi_users, gujranwala_users, multan_users, hyderabad_users, sindh_users, sargodha_users, abbottabad_users, quetta_users, karachi2_users, lahore2_users], ignore_index = True)\n",
    "final_users = pd.concat([english_users, translated_users], ignore_index =True)\n",
    "final_users = final_users.drop(columns = [\"english\"])\n",
    "tweets = tweets.drop(columns = [\"tweet_id\", \"user_location\", \"tweet_longitude\", \"tweet_latitude\", \"country\"])"
   ]
  },
  {
   "cell_type": "code",
   "execution_count": 136,
   "metadata": {},
   "outputs": [],
   "source": [
    "#Merge user location data back with tweet data and save\n",
    "cleaned_users_locations = tweets.merge(final_users, how='left', left_on=\"user_id\", right_on=\"user_id\")\n",
    "with open(\"all_tweets_location_cleaned.pickle\", \"wb\") as f:\n",
    "    pickle.dump(cleaned_users_locations, f)"
   ]
  }
 ],
 "metadata": {
  "kernelspec": {
   "display_name": "Python 3",
   "language": "python",
   "name": "python3"
  },
  "language_info": {
   "codemirror_mode": {
    "name": "ipython",
    "version": 3
   },
   "file_extension": ".py",
   "mimetype": "text/x-python",
   "name": "python",
   "nbconvert_exporter": "python",
   "pygments_lexer": "ipython3",
   "version": "3.5.5"
  }
 },
 "nbformat": 4,
 "nbformat_minor": 4
}
