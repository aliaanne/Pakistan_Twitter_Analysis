{
 "cells": [
  {
   "cell_type": "code",
   "execution_count": 1,
   "metadata": {},
   "outputs": [
    {
     "name": "stdout",
     "output_type": "stream",
     "text": [
      "[nltk_data] Downloading package punkt to /home/dval/nltk_data...\n",
      "[nltk_data]   Package punkt is already up-to-date!\n"
     ]
    }
   ],
   "source": [
    "import pandas as pd\n",
    "import pickle\n",
    "import string\n",
    "import matplotlib.pyplot as plt\n",
    "import seaborn as sns\n",
    "import nltk\n",
    "from nltk.tokenize import sent_tokenize\n",
    "nltk.download('punkt')\n",
    "import re\n",
    "import numpy as np\n",
    "import multiprocessing \n",
    "from multiprocessing import Pool\n",
    "import seaborn as sns\n",
    "import geopandas as gpd\n",
    "import rtree"
   ]
  },
  {
   "cell_type": "code",
   "execution_count": 2,
   "metadata": {},
   "outputs": [],
   "source": [
    "with open(\"non_kp_tweets_pashto.pickle\", \"rb\") as f:\n",
    "    tweets = pickle.load(f)"
   ]
  },
  {
   "cell_type": "code",
   "execution_count": 6,
   "metadata": {},
   "outputs": [],
   "source": [
    "#create dataframe to plot pashtun users outside of KP\n",
    "users = users.drop_duplicates(['user_id'])\n",
    "users[\"users_count\"] = 1\n",
    "locations = users[[\"user_location\", \"users_count\"]]\n",
    "locations = locations.groupby([\"user_location\"]).sum()\n",
    "locations = locations.sort_values(by='users_count', ascending=False)"
   ]
  },
  {
   "cell_type": "code",
   "execution_count": 8,
   "metadata": {},
   "outputs": [],
   "source": [
    "#Import and clean Pakistan population by city data\n",
    "df = pd.read_excel(\"pakistan population.xlsx\", header=None)\n",
    "df.columns = [\"city\", \"population\"]\n",
    "df[\"city\"] = df[\"city\"].apply(lambda x: x.lower())\n",
    "df = df.set_index(\"city\")"
   ]
  },
  {
   "cell_type": "code",
   "execution_count": 9,
   "metadata": {},
   "outputs": [],
   "source": [
    "#Merge Pashtun diaspora data with population data\n",
    "locations = locations.merge(df, left_index=True, right_index=True)"
   ]
  },
  {
   "cell_type": "code",
   "execution_count": 10,
   "metadata": {},
   "outputs": [],
   "source": [
    "#Calculate percents of Pashtun users per location to plot\n",
    "locations[\"users_percent\"] = (locations[\"users_count\"] / locations[\"population\"]) * 100\n",
    "plot = locations[[\"users_percent\"]]\n",
    "plot = plot.head(15)\n",
    "plot = plot.sort_values(\"users_percent\", ascending=False)"
   ]
  },
  {
   "cell_type": "code",
   "execution_count": 11,
   "metadata": {},
   "outputs": [],
   "source": [
    "#Plot percent of pashtun users per location\n",
    "with sns.axes_style(\"white\"):\n",
    "    sns.set_style(\"ticks\")\n",
    "\n",
    "    fig,ax = plt.subplots(figsize=(10,5))\n",
    "    data_to_plot=plot\n",
    "    data_to_plot.plot(ax=ax,kind='bar')\n",
    "    ax.set_ylabel('Percent',fontweight='bold', labelpad = 14, fontsize = 16)\n",
    "    ax.set_xlabel('',fontweight='bold', labelpad = 14, fontsize = 16)\n",
    "    ax.tick_params(which='y',direction='in',pad=3)\n",
    "    ax.tick_params(which='x', labelsize=14, pad=3)\n",
    "    fig.autofmt_xdate(rotation=45)\n",
    "    ax.set_title(\"Locations of Pashto Speakers Outside KP\", fontweight=\"bold\", fontsize=20)\n",
    "    ax.get_legend().remove()\n",
    "    \n",
    "plt.savefig(\"Number of Pashto Users Outside of KP.pdf\", dpi=300, bbox_inches =\"tight\", transparent = True)"
   ]
  }
 ],
 "metadata": {
  "kernelspec": {
   "display_name": "Python 3",
   "language": "python",
   "name": "python3"
  },
  "language_info": {
   "codemirror_mode": {
    "name": "ipython",
    "version": 3
   },
   "file_extension": ".py",
   "mimetype": "text/x-python",
   "name": "python",
   "nbconvert_exporter": "python",
   "pygments_lexer": "ipython3",
   "version": "3.5.5"
  }
 },
 "nbformat": 4,
 "nbformat_minor": 4
}
