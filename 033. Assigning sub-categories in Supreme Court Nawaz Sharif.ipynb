{
 "cells": [
  {
   "cell_type": "code",
   "execution_count": 20,
   "metadata": {},
   "outputs": [],
   "source": [
    "import plotly\n",
    "import os\n",
    "import numpy as np\n",
    "import pandas as pd\n",
    "import matplotlib.pyplot as plt\n",
    "import seaborn as sns\n",
    "import itertools\n",
    "import collections\n",
    "\n",
    "import nltk\n",
    "from nltk import bigrams\n",
    "from nltk.corpus import stopwords\n",
    "import re\n",
    "import networkx as nx\n",
    "\n",
    "import warnings\n",
    "warnings.filterwarnings(\"ignore\")\n",
    "\n",
    "sns.set(font_scale=1.5)\n",
    "sns.set_style(\"whitegrid\")\n",
    "\n",
    "import pickle\n",
    "\n",
    "\n",
    "\n",
    "import os\n",
    "import pandas as pd\n",
    "import matplotlib.pyplot as plt\n",
    "import seaborn as sns\n",
    "import itertools\n",
    "import collections\n",
    "import pickle\n",
    "import geopandas as gpd\n",
    "\n",
    "import nltk\n",
    "from nltk.corpus import stopwords\n",
    "import re\n",
    "\n",
    "import warnings\n",
    "warnings.filterwarnings(\"ignore\")\n",
    "\n",
    "sns.set(font_scale=1.5)\n",
    "sns.set_style(\"whitegrid\")\n",
    "\n",
    "import multiprocessing \n",
    "from multiprocessing import Pool"
   ]
  },
  {
   "cell_type": "code",
   "execution_count": 2,
   "metadata": {},
   "outputs": [],
   "source": [
    "with open('FINAL_KP_TWEETS_WITH_TOPICS_SENTIMENTS.pickle', \"rb\") as f:\n",
    "    total_tweets = pickle.load(f)"
   ]
  },
  {
   "cell_type": "code",
   "execution_count": 3,
   "metadata": {},
   "outputs": [],
   "source": [
    "#Set max columns/rows\n",
    "pd.set_option('display.max_rows', None)\n",
    "pd.set_option('display.max_columns', None)\n",
    "pd.set_option('display.width', None)\n",
    "pd.set_option('display.max_colwidth', -1)"
   ]
  },
  {
   "cell_type": "code",
   "execution_count": 8,
   "metadata": {},
   "outputs": [],
   "source": [
    "#Select only supreme court nawaz sharif tweets since 2018\n",
    "tweets = total_tweets[total_tweets[\"topic_name\"]==\"supreme court nawaz sharif\"]\n",
    "tweets = tweets.set_index(\"index\")\n",
    "tweets = tweets[\"2018-01-01\":]"
   ]
  },
  {
   "cell_type": "code",
   "execution_count": null,
   "metadata": {},
   "outputs": [],
   "source": [
    "#Use keyword search to create dataframes of sub-topics in tweets and remove each categorized tweet from main dataframe.\n",
    "#Combine related tweets into sub-topic dataframes."
   ]
  },
  {
   "cell_type": "code",
   "execution_count": 13,
   "metadata": {},
   "outputs": [],
   "source": [
    "nawaz = tweets[tweets[\"clean_translation\"].str.contains(\"nawaz\", na=False)]\n",
    "tweets = tweets[~tweets[\"clean_translation\"].str.contains(\"nawaz\", na=False)]"
   ]
  },
  {
   "cell_type": "code",
   "execution_count": 14,
   "metadata": {},
   "outputs": [],
   "source": [
    "sharif = tweets[tweets[\"clean_translation\"].str.contains(\"sharif\", na=False)]\n",
    "tweets = tweets[~tweets[\"clean_translation\"].str.contains(\"sharif\", na=False)]"
   ]
  },
  {
   "cell_type": "code",
   "execution_count": 15,
   "metadata": {},
   "outputs": [],
   "source": [
    "imran = tweets[tweets[\"clean_translation\"].str.contains(\"imran\", na=False)]\n",
    "tweets = tweets[~tweets[\"clean_translation\"].str.contains(\"imran\", na=False)]"
   ]
  },
  {
   "cell_type": "code",
   "execution_count": 16,
   "metadata": {},
   "outputs": [],
   "source": [
    "khan = tweets[tweets[\"clean_translation\"].str.contains(\"khan\", na=False)]\n",
    "tweets = tweets[~tweets[\"clean_translation\"].str.contains(\"khan\", na=False)]"
   ]
  },
  {
   "cell_type": "code",
   "execution_count": 17,
   "metadata": {},
   "outputs": [],
   "source": [
    "supreme = tweets[tweets[\"clean_translation\"].str.contains(\"supreme\", na=False)]\n",
    "tweets = tweets[~tweets[\"clean_translation\"].str.contains(\"supreme\", na=False)]"
   ]
  },
  {
   "cell_type": "code",
   "execution_count": 18,
   "metadata": {},
   "outputs": [],
   "source": [
    "court = tweets[tweets[\"clean_translation\"].str.contains(\"court\", na=False)]\n",
    "tweets = tweets[~tweets[\"clean_translation\"].str.contains(\"court\", na=False)]"
   ]
  },
  {
   "cell_type": "code",
   "execution_count": 19,
   "metadata": {},
   "outputs": [],
   "source": [
    "chief_justice  = tweets[tweets[\"clean_translation\"].str.contains(\"chief justice\", na=False)]\n",
    "tweets = tweets[~tweets[\"clean_translation\"].str.contains(\"chief justice\", na=False)]"
   ]
  },
  {
   "cell_type": "code",
   "execution_count": 24,
   "metadata": {},
   "outputs": [],
   "source": [
    "prime_minister = tweets[tweets[\"clean_translation\"].str.contains(\"prime minister\", na=False)]\n",
    "tweets = tweets[~tweets[\"clean_translation\"].str.contains(\"prime minister\", na=False)]"
   ]
  },
  {
   "cell_type": "code",
   "execution_count": 28,
   "metadata": {},
   "outputs": [],
   "source": [
    "justice = tweets[tweets[\"clean_translation\"].str.contains(\"justice\", na=False)]\n",
    "tweets = tweets[~tweets[\"clean_translation\"].str.contains(\"justice\", na=False)]"
   ]
  },
  {
   "cell_type": "code",
   "execution_count": 29,
   "metadata": {},
   "outputs": [],
   "source": [
    "case = tweets[tweets[\"clean_translation\"].str.contains(\"case\", na=False)]\n",
    "tweets = tweets[~tweets[\"clean_translation\"].str.contains(\"case\", na=False)]"
   ]
  },
  {
   "cell_type": "code",
   "execution_count": 30,
   "metadata": {},
   "outputs": [],
   "source": [
    "nab = tweets[tweets[\"clean_translation\"].str.contains(\"nab\", na=False)]\n",
    "tweets = tweets[~tweets[\"clean_translation\"].str.contains(\"nab\", na=False)]"
   ]
  },
  {
   "cell_type": "code",
   "execution_count": 31,
   "metadata": {},
   "outputs": [],
   "source": [
    "pti = tweets[tweets[\"clean_translation\"].str.contains(\"pti\", na=False)]\n",
    "tweets = tweets[~tweets[\"clean_translation\"].str.contains(\"pti\", na=False)]"
   ]
  },
  {
   "cell_type": "code",
   "execution_count": 32,
   "metadata": {},
   "outputs": [],
   "source": [
    "pmln = tweets[tweets[\"clean_translation\"].str.contains(\"pmln\", na=False)]\n",
    "tweets = tweets[~tweets[\"clean_translation\"].str.contains(\"pmln\", na=False)]"
   ]
  },
  {
   "cell_type": "code",
   "execution_count": 33,
   "metadata": {},
   "outputs": [],
   "source": [
    "general = tweets[tweets[\"clean_translation\"].str.contains(\"general\", na=False)]\n",
    "tweets = tweets[~tweets[\"clean_translation\"].str.contains(\"general\", na=False)]"
   ]
  },
  {
   "cell_type": "code",
   "execution_count": 34,
   "metadata": {},
   "outputs": [],
   "source": [
    "army = tweets[tweets[\"clean_translation\"].str.contains(\"army\", na=False)]\n",
    "tweets = tweets[~tweets[\"clean_translation\"].str.contains(\"army\", na=False)]"
   ]
  },
  {
   "cell_type": "code",
   "execution_count": 35,
   "metadata": {},
   "outputs": [],
   "source": [
    "media = tweets[tweets[\"clean_translation\"].str.contains(\"media\", na=False)]\n",
    "tweets = tweets[~tweets[\"clean_translation\"].str.contains(\"media\", na=False)]"
   ]
  },
  {
   "cell_type": "code",
   "execution_count": 36,
   "metadata": {},
   "outputs": [],
   "source": [
    "law = tweets[tweets[\"clean_translation\"].str.contains(\"law\", na=False)]\n",
    "tweets = tweets[~tweets[\"clean_translation\"].str.contains(\"law\", na=False)]"
   ]
  },
  {
   "cell_type": "code",
   "execution_count": 51,
   "metadata": {},
   "outputs": [],
   "source": [
    "corruption = tweets[tweets[\"clean_translation\"].str.contains(\"corrupt\", na=False)]\n",
    "tweets = tweets[~tweets[\"clean_translation\"].str.contains(\"corrupt\", na=False)]"
   ]
  },
  {
   "cell_type": "code",
   "execution_count": 38,
   "metadata": {},
   "outputs": [],
   "source": [
    "judge = tweets[tweets[\"clean_translation\"].str.contains(\"judge\", na=False)]\n",
    "tweets = tweets[~tweets[\"clean_translation\"].str.contains(\"judge\", na=False)]"
   ]
  },
  {
   "cell_type": "code",
   "execution_count": 39,
   "metadata": {},
   "outputs": [],
   "source": [
    "go = tweets[tweets[\"clean_translation\"].str.contains(\"go\", na=False)]\n",
    "tweets = tweets[~tweets[\"clean_translation\"].str.contains(\"go\", na=False)]"
   ]
  },
  {
   "cell_type": "code",
   "execution_count": 40,
   "metadata": {},
   "outputs": [],
   "source": [
    "jail = tweets[tweets[\"clean_translation\"].str.contains(\"jail\", na=False)]\n",
    "tweets = tweets[~tweets[\"clean_translation\"].str.contains(\"jail\", na=False)]"
   ]
  },
  {
   "cell_type": "code",
   "execution_count": 41,
   "metadata": {},
   "outputs": [],
   "source": [
    "election = tweets[tweets[\"clean_translation\"].str.contains(\"election\", na=False)]\n",
    "tweets = tweets[~tweets[\"clean_translation\"].str.contains(\"election\", na=False)]"
   ]
  },
  {
   "cell_type": "code",
   "execution_count": 42,
   "metadata": {},
   "outputs": [],
   "source": [
    "opposition = tweets[tweets[\"clean_translation\"].str.contains(\"opposition\", na=False)]\n",
    "tweets = tweets[~tweets[\"clean_translation\"].str.contains(\"opposition\", na=False)]"
   ]
  },
  {
   "cell_type": "code",
   "execution_count": 43,
   "metadata": {},
   "outputs": [],
   "source": [
    "money = tweets[tweets[\"clean_translation\"].str.contains(\"money\", na=False)]\n",
    "tweets = tweets[~tweets[\"clean_translation\"].str.contains(\"money\", na=False)]"
   ]
  },
  {
   "cell_type": "code",
   "execution_count": 44,
   "metadata": {},
   "outputs": [],
   "source": [
    "arrest = tweets[tweets[\"clean_translation\"].str.contains(\"arrest\", na=False)]\n",
    "tweets = tweets[~tweets[\"clean_translation\"].str.contains(\"arrest\", na=False)]"
   ]
  },
  {
   "cell_type": "code",
   "execution_count": 45,
   "metadata": {},
   "outputs": [],
   "source": [
    "judiciary = tweets[tweets[\"clean_translation\"].str.contains(\"judiciary\", na=False)]\n",
    "tweets = tweets[~tweets[\"clean_translation\"].str.contains(\"judiciary\", na=False)]"
   ]
  },
  {
   "cell_type": "code",
   "execution_count": 46,
   "metadata": {},
   "outputs": [],
   "source": [
    "constitution = tweets[tweets[\"clean_translation\"].str.contains(\"constitution\", na=False)]\n",
    "tweets = tweets[~tweets[\"clean_translation\"].str.contains(\"constitution\", na=False)]"
   ]
  },
  {
   "cell_type": "code",
   "execution_count": 47,
   "metadata": {},
   "outputs": [],
   "source": [
    "accountability = tweets[tweets[\"clean_translation\"].str.contains(\"account\", na=False)]\n",
    "tweets = tweets[~tweets[\"clean_translation\"].str.contains(\"account\", na=False)]"
   ]
  },
  {
   "cell_type": "code",
   "execution_count": 50,
   "metadata": {},
   "outputs": [],
   "source": [
    "minister = tweets[tweets[\"clean_translation\"].str.contains(\"minister\", na=False)]\n",
    "tweets = tweets[~tweets[\"clean_translation\"].str.contains(\"minister\", na=False)]"
   ]
  },
  {
   "cell_type": "code",
   "execution_count": 52,
   "metadata": {},
   "outputs": [],
   "source": [
    "pm = tweets[tweets[\"clean_translation\"].str.contains(\"pm\", na=False)]\n",
    "tweets = tweets[~tweets[\"clean_translation\"].str.contains(\"pm\", na=False)]"
   ]
  },
  {
   "cell_type": "code",
   "execution_count": 59,
   "metadata": {},
   "outputs": [],
   "source": [
    "journalist = tweets[tweets[\"clean_translation\"].str.contains(\"journal\", na=False)]\n",
    "tweets = tweets[~tweets[\"clean_translation\"].str.contains(\"journal\", na=False)]"
   ]
  },
  {
   "cell_type": "code",
   "execution_count": 63,
   "metadata": {},
   "outputs": [],
   "source": [
    "vote = tweets[tweets[\"clean_translation\"].str.contains(\"vote\", na=False)]\n",
    "tweets = tweets[~tweets[\"clean_translation\"].str.contains(\"vote\", na=False)]"
   ]
  },
  {
   "cell_type": "code",
   "execution_count": 54,
   "metadata": {},
   "outputs": [],
   "source": [
    "nawaz_sharif = pd.concat([nawaz, sharif, pmln])\n",
    "nawaz_sharif[\"category\"] = \"nawaz sharif\""
   ]
  },
  {
   "cell_type": "code",
   "execution_count": 55,
   "metadata": {},
   "outputs": [],
   "source": [
    "imran_khan = pd.concat([imran, khan, pti])\n",
    "imran_khan[\"category\"] = \"imran khan\""
   ]
  },
  {
   "cell_type": "code",
   "execution_count": 56,
   "metadata": {},
   "outputs": [],
   "source": [
    "supreme_court = pd.concat([judiciary, supreme, court, chief_justice, justice, case, judge])\n",
    "supreme_court[\"category\"] = \"supreme court\""
   ]
  },
  {
   "cell_type": "code",
   "execution_count": 57,
   "metadata": {},
   "outputs": [],
   "source": [
    "prime_minister = pd.concat([prime_minister, minister, pm])\n",
    "prime_minister[\"category\"] = \"prime minister\""
   ]
  },
  {
   "cell_type": "code",
   "execution_count": 58,
   "metadata": {},
   "outputs": [],
   "source": [
    "army = pd.concat([general, army])\n",
    "army[\"category\"] = \"army\""
   ]
  },
  {
   "cell_type": "code",
   "execution_count": 60,
   "metadata": {},
   "outputs": [],
   "source": [
    "media = pd.concat([media, journalist])\n",
    "media[\"category\"] = \"media\""
   ]
  },
  {
   "cell_type": "code",
   "execution_count": 61,
   "metadata": {},
   "outputs": [],
   "source": [
    "corruption = pd.concat([nab, corruption, accountability, money])\n",
    "corruption[\"category\"] = \"corruption\""
   ]
  },
  {
   "cell_type": "code",
   "execution_count": 62,
   "metadata": {},
   "outputs": [],
   "source": [
    "law = pd.concat([law, jail, arrest, constitution])\n",
    "law[\"category\"] = \"law\""
   ]
  },
  {
   "cell_type": "code",
   "execution_count": 64,
   "metadata": {},
   "outputs": [],
   "source": [
    "election = pd.concat([election, opposition, vote])\n",
    "election[\"category\"] = \"election\""
   ]
  },
  {
   "cell_type": "code",
   "execution_count": 65,
   "metadata": {},
   "outputs": [],
   "source": [
    "#Combine all categorized tweets and drop duplicates\n",
    "cat_tweets = pd.concat([nawaz_sharif, imran_khan, supreme_court, prime_minister, army, media, corruption, law, election])\n",
    "cat_tweets = cat_tweets.reset_index()\n",
    "cat_tweets = cat_tweets.drop_duplicates([\"index\", \"clean_translation\", \"hashtags\", \"user_id\", \"user_location\"])"
   ]
  },
  {
   "cell_type": "code",
   "execution_count": 66,
   "metadata": {},
   "outputs": [],
   "source": [
    "#Set uncategorized tweets equal to \"None\" and combine categorized and uncategorized dataframes and save\n",
    "uncat = tweets\n",
    "uncat[\"category\"] = \"None\"\n",
    "tweets = pd.concat([cat_tweets, uncat])\n",
    "with open(\"kp_supremecourt_nawazsharif_tweets_categorized.pickle\", \"wb\") as f:\n",
    "    pickle.dump(tweets, f)"
   ]
  }
 ],
 "metadata": {
  "kernelspec": {
   "display_name": "Python 3",
   "language": "python",
   "name": "python3"
  },
  "language_info": {
   "codemirror_mode": {
    "name": "ipython",
    "version": 3
   },
   "file_extension": ".py",
   "mimetype": "text/x-python",
   "name": "python",
   "nbconvert_exporter": "python",
   "pygments_lexer": "ipython3",
   "version": "3.5.5"
  }
 },
 "nbformat": 4,
 "nbformat_minor": 4
}
