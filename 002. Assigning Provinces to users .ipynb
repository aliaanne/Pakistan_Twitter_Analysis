{
 "cells": [
  {
   "cell_type": "code",
   "execution_count": 1,
   "metadata": {},
   "outputs": [],
   "source": [
    "import pandas as pd\n",
    "import pickle\n",
    "import string\n",
    "import matplotlib.pyplot as plt\n",
    "import seaborn as sns\n",
    "from langdetect import detect\n",
    "import numpy as np"
   ]
  },
  {
   "cell_type": "code",
   "execution_count": 2,
   "metadata": {},
   "outputs": [],
   "source": [
    "with open('all_tweets_location_cleaned.pickle', \"rb\") as f:\n",
    "    tweets = pickle.load(f)"
   ]
  },
  {
   "cell_type": "code",
   "execution_count": 19,
   "metadata": {},
   "outputs": [],
   "source": [
    "#Make sure spelling and identification of user locations is consisent across users\n",
    "tweets.loc[tweets.user_location == \"abbottabd\", 'user_location'] = \"abbottabad\"\n",
    "tweets.loc[tweets.user_location == \"baluchistan\", 'user_location'] = \"balochistan\"\n",
    "tweets.loc[tweets.user_location == \"lyallpur\", 'user_location'] = \"faisalabad\"\n",
    "\n",
    "tweets.loc[tweets.user_location == \"sangla\", 'user_location'] = \"faisalabad\"\n",
    "tweets.loc[tweets.user_location == \"gujarat\", 'user_location'] = \"gujrat\"\n",
    "tweets.loc[tweets.user_location == \"Islamabad\", 'user_location'] = \"islamabad\"\n",
    "\n",
    "tweets.loc[tweets.user_location == \"karachi sindh\", 'user_location'] = \"karachi\"\n",
    "tweets.loc[tweets.user_location == \"shikarpurkarachi\", 'user_location'] = \"karachi\"\n",
    "tweets.loc[tweets.user_location == \"azad kashmir\", 'user_location'] = \"kashmir\"\n",
    "\n",
    "tweets.loc[tweets.user_location == \"gilgit baltistan\", 'user_location'] = \"kashmir\"\n",
    "tweets.loc[tweets.user_location == \"naudero sindh\", 'user_location'] = \"sindh\"\n",
    "tweets.loc[tweets.user_location == \"shergarh okara\", 'user_location'] = \"okara\"\n",
    "\n",
    "tweets.loc[tweets.user_location == \"sohni dharti\", 'user_location'] = \"pakistan\"\n",
    "tweets.loc[tweets.user_location == \"kyun btayein\", 'user_location'] = \"pakistan\"\n",
    "tweets.loc[tweets.user_location == \"kya kro gy\", 'user_location'] = \"pakistan\"\n",
    "tweets.loc[tweets.user_location == \"shehereiqbal\", 'user_location'] = \"pakistan\"\n",
    "tweets.loc[tweets.user_location == \"sohna shehar pindi\", 'user_location'] = \"pakistan\"\n",
    "tweets.loc[tweets.user_location == \"naya\", 'user_location'] = \"pakistan\"\n",
    "\n",
    "tweets.loc[tweets.user_location == \"south punjab\", 'user_location'] = \"punjab\"\n",
    "tweets.loc[tweets.user_location == \"pindi\", 'user_location'] = \"rawalpindi\"\n",
    "tweets.loc[tweets.user_location == \"sailkot\", 'user_location'] = \"sialkot\"\n",
    "tweets.loc[tweets.user_location == \"wasziristan\", 'user_location'] = \"waziristan\"\n",
    "tweets.loc[tweets.user_location == \"Waziristan\", 'user_location'] = \"waziristan\"\n",
    "tweets.loc[tweets.user_location == \"naya\", 'user_location'] = \"pakistan\""
   ]
  },
  {
   "cell_type": "code",
   "execution_count": 9,
   "metadata": {},
   "outputs": [],
   "source": [
    "#Remove any oustanding user locations not in pakistan\n",
    "tweets = tweets[tweets['user_location'] != \"leicester england\"]\n",
    "tweets = tweets[tweets['user_location'] != \"hangzhou\"] \n",
    "tweets = tweets[tweets['user_location'] != \"manila\"] \n",
    "tweets = tweets[tweets['user_location'] != \"sverige\"] \n",
    "tweets = tweets[tweets['user_location'] != \"landon\"] \n",
    "tweets = tweets[tweets['user_location'] != \"norway\"]"
   ]
  },
  {
   "cell_type": "code",
   "execution_count": 22,
   "metadata": {},
   "outputs": [],
   "source": [
    "#Match cities in the dataset to provinces in Pakistan\n",
    "balochistan_list = [\"quetta\", \"lasbela\", \"dera bugti\", \"kharan\", \"chagai\", \"zhob\", \"khuzdar\", \"loralai\", \"awaran\", \"kholu\", \"pishin\", \"musakhel\", \"panjgur\", \"gwadar\", \"sibi\", \"qilla saifullah\", \"mastung\", \"kech\", \"barkhan\", \"bolan\", \"kalat\", \"qilla abdullah\", \"ziarat\", \"largha shirani\", \"nasirabad\", \"jhal magsi\", \"south pashtoonkhwa\", \"kalmat\"]\n",
    "islamabad_list = [\"islamabad\"]\n",
    "sindh_list = [\"karachi\", \"hyderabad\", \"karachi south\", \"karachi east\", \"malir\", \"karachi central\", \"karachi west\", \"jamshoro\", \"khairpur\", \"thatta\", \"nawab shah\", \"sukkur\", \"larkana\", \"ghotki\", \"dadu\", \"naushahro firoz\", \"mirphurkhas\", \"sanghar\", \"shikarpur\", \"kashmore\", \"badin\", \"mithi\", \"matiari\", \"jakobabad\", \"tando m khan\", \"umerkot\", \"tando allahyar\", \"shahdadpur\", \"khairpur\", \"karachi\", \"shahdadpur\", \"jacobabad\", \"bhiria\"]\n",
    "kashmir_list = [\"muzaffarabad\", \"mirpur\", \"gilgit\", \"bhimber\", \"bagh\", \"kotli\", \"chilas\", \"kargil\", \"neelum\", \"poonch\", \"sudhnati\", \"jafarabad\", \"ladakh leh\"]\n",
    "khyber_pakhtunkhwa_list = [\"peshawar\", \"abbottabad\", \"haripur\",\"nowshera\", \"swabi\", \"mansehra\", \"swat\", \"mardan\", \"dir\", \"charsadda\", \"dera ismail khan\", \"kohat\", \"bannu\", \"buner\", \"lakki marwat\", \"karak\", \"malakand\", \"chitral\", \"waziristan\", \"hangu\", \"tank\", \"bajaur\", \"shangla\", \"adam khel\", \"mohmand\", \"orakzai\", \"battagram\", \"kurram\", \"kohistan\", \"bhittani\", \"khanpur\", \"shewa\", \"chokara\", \"musa khel\"]\n",
    "punjab_list = [\"lahore\", \"rawalpindi\", \"multan\", \"gujranwala\", \"sialkot\", \"faisalabad\", \"sargodha\", \"bahawalpur\", \"sheikhupura\", \"gujrat\", \"chakwal\", \"attok\", \"jhang\", \"kasur\", \"nankana sahib\", \"jhelum\", \"rahimyar khan\", \"dera ghazi kha\", \"okara\", \"khanewal\", \"muzaffargarh\", \"khushab\", \"toba tek singh\", \"sahiwal\", \"hafizabad\", \"vehari\", \"layyah\", \"mianwali\", \"bhakkar\", \"rajan pur\", \"bahawalnagar\", \"pakpattan\", \"narowal\", \"lodhran\", \"attock\", \"sahiwal\", \"liaquatpur\", \"chistian\", \"dera ghazi khan\", \"shekhupura\", \"chiniot\", \"mian channu\", \"jauharabad\", \"kamalia\", \"lalamusa\", \"shakar garh\"]"
   ]
  },
  {
   "cell_type": "code",
   "execution_count": 23,
   "metadata": {},
   "outputs": [],
   "source": [
    "#Assign users to provinces based on city\n",
    "balochistan = tweets[tweets['user_location'].isin(balochistan_list)]\n",
    "islamabad = tweets[tweets[\"user_location\"].isin(islamabad_list)]\n",
    "sindh = tweets[tweets[\"user_location\"].isin(sindh_list)]\n",
    "kashmir = tweets[tweets[\"user_location\"].isin(kashmir_list)]\n",
    "khyber_pakhtunkhwa = tweets[tweets[\"user_location\"].isin(khyber_pakhtunkhwa_list)]\n",
    "punjab = tweets[tweets[\"user_location\"].isin(punjab_list)]\n",
    "pakistan = tweets[tweets[\"user_location\"].isin([\"pakistan\"])]"
   ]
  },
  {
   "cell_type": "code",
   "execution_count": 24,
   "metadata": {},
   "outputs": [],
   "source": [
    "#Create a series in the dataframe with province data and save\n",
    "balochistan[\"province\"] = \"balochistan\"\n",
    "islamabad[\"province\"] = \"islamabad capital territory\"\n",
    "sindh[\"province\"] = \"sindh\"\n",
    "kashmir[\"province\"] = \"kashmir\"\n",
    "khyber_pakhtunkhwa[\"province\"] = \"khyber pakhtunkhwa\"\n",
    "punjab[\"province\"] = \"punjab\"\n",
    "pakistan[\"province\"] = \"pakistan\"\n",
    "final_tweets = pd.concat([balochistan, islamabad, sindh, kashmir, khyber_pakhtunkhwa, punjab, pakistan], ignore_index =True)\n",
    "with open(\"all_tweets_locations_final.pickle\", \"wb\") as f:\n",
    "    pickle.dump(final_tweets, f)"
   ]
  }
 ],
 "metadata": {
  "kernelspec": {
   "display_name": "Python 3",
   "language": "python",
   "name": "python3"
  },
  "language_info": {
   "codemirror_mode": {
    "name": "ipython",
    "version": 3
   },
   "file_extension": ".py",
   "mimetype": "text/x-python",
   "name": "python",
   "nbconvert_exporter": "python",
   "pygments_lexer": "ipython3",
   "version": "3.5.5"
  }
 },
 "nbformat": 4,
 "nbformat_minor": 4
}
