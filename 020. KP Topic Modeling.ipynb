{
 "cells": [
  {
   "cell_type": "code",
   "execution_count": 48,
   "metadata": {},
   "outputs": [],
   "source": [
    "import pandas as pd\n",
    "import nltk\n",
    "from nltk.corpus import stopwords \n",
    "from sklearn.preprocessing import scale\n",
    "import numpy as np\n",
    "# Gensim\n",
    "import gensim\n",
    "import gensim.corpora as corpora\n",
    "from gensim.utils import simple_preprocess\n",
    "from gensim.models import CoherenceModel\n",
    "from matplotlib import pyplot as plt\n",
    "import pickle\n",
    "import time\n",
    "start = time.time()\n",
    "import re\n",
    "# Useful libs\n",
    "from sklearn.datasets import fetch_20newsgroups\n",
    "import pickle\n",
    "import pandas as pd\n",
    "import numpy as np\n",
    "# STTM lib from Github\n",
    "from gsdmm import MovieGroupProcess\n",
    "#from topic_allocation import top_words, topic_attribution\n",
    "import spacy\n",
    "nlp = spacy.load('en_core_web_sm')"
   ]
  },
  {
   "cell_type": "code",
   "execution_count": 49,
   "metadata": {},
   "outputs": [],
   "source": [
    "#Import and expand on stopwords\n",
    "import spacy\n",
    "from nltk.corpus import stopwords\n",
    "stop_words = stopwords.words('english')\n",
    "stop_words.extend(['from', 'subject', 're', 'edu', 'use', \"amp\"])"
   ]
  },
  {
   "cell_type": "code",
   "execution_count": 50,
   "metadata": {},
   "outputs": [],
   "source": [
    "#define functions to remove stopwords, make bigrams, make trigrams, and lemmatize words\n",
    "def remove_stopwords(texts):\n",
    "    return [[word for word in simple_preprocess(str(doc)) if word not in stop_words] for doc in texts]\n",
    "def remove_stopwords_tokenized(doc):\n",
    "    return [word for word in simple_preprocess(str(doc)) if word not in stop_words]\n",
    "\n",
    "def make_bigrams(texts):\n",
    "    return [bigram_mod[doc] for doc in texts]\n",
    "\n",
    "def make_trigrams(texts):\n",
    "    return [trigram_mod[bigram_mod[doc]] for doc in texts]\n",
    "\n",
    "def lemmatization(texts, allowed_postags=['NOUN', 'ADJ', 'VERB', 'ADV']):\n",
    "    \"\"\"https://spacy.io/api/annotation\"\"\"\n",
    "    texts_out = []\n",
    "    for sent in texts:\n",
    "        doc = nlp(\" \".join(sent)) \n",
    "        texts_out.append([token.lemma_ for token in doc if token.pos_ in allowed_postags])\n",
    "    return texts_out"
   ]
  },
  {
   "cell_type": "code",
   "execution_count": 51,
   "metadata": {},
   "outputs": [],
   "source": [
    "#Define function to put sentences to words\n",
    "def sent_to_words(sentences):\n",
    "    for sentence in sentences:\n",
    "        yield(gensim.utils.simple_preprocess(str(sentence), deacc=True))"
   ]
  },
  {
   "cell_type": "code",
   "execution_count": 54,
   "metadata": {},
   "outputs": [],
   "source": [
    "#Define stemming function\n",
    "from nltk.stem.snowball import SnowballStemmer\n",
    "stemmer = SnowballStemmer(language='english')\n",
    "def stem(text_list):\n",
    "    return [stemmer.stem(item) for item in text_list]"
   ]
  },
  {
   "cell_type": "code",
   "execution_count": 55,
   "metadata": {},
   "outputs": [],
   "source": [
    "#Define function to remove \"amp\" which stands for ampersands in the text data\n",
    "amp = [\"amp\"]\n",
    "def remove_amp_tokenized(doc):\n",
    "    return [word for word in simple_preprocess(str(doc)) if word not in amp]"
   ]
  },
  {
   "cell_type": "code",
   "execution_count": 56,
   "metadata": {},
   "outputs": [],
   "source": [
    "#Load data\n",
    "with open('KP_Tweets_For_SSTM_Topic_Modeling.pickle', \"rb\") as f:\n",
    "    tweets = pickle.load(f)"
   ]
  },
  {
   "cell_type": "code",
   "execution_count": 58,
   "metadata": {},
   "outputs": [
    {
     "data": {
      "text/plain": [
       "200"
      ]
     },
     "execution_count": 58,
     "metadata": {},
     "output_type": "execute_result"
    }
   ],
   "source": [
    "#Tokenize tweets\n",
    "data = tweets.clean_translation_tokenized.values.tolist()\n",
    "data_bis = [item for sublist in data for item in sublist]\n",
    "#len(data)"
   ]
  },
  {
   "cell_type": "code",
   "execution_count": 59,
   "metadata": {},
   "outputs": [],
   "source": [
    "#Remove unique tokens\n",
    "from collections import Counter\n",
    "duplicates = {k for k, v in Counter(data_bis).items() if v > 1}\n",
    "for i in range(len(data)):\n",
    "    data[i] = [el for el in data[i] if el in duplicates]\n",
    "#len(result)"
   ]
  },
  {
   "cell_type": "code",
   "execution_count": 60,
   "metadata": {},
   "outputs": [
    {
     "name": "stdout",
     "output_type": "stream",
     "text": [
      "Vocab size: 288\n",
      "Number of documents: 200\n"
     ]
    }
   ],
   "source": [
    "#Create input to model\n",
    "docs = data\n",
    "vocab = set(x for doc in docs for x in doc)\n",
    "n_terms = len(vocab)\n",
    "\n",
    "print(\"Vocab size:\", n_terms)\n",
    "print(\"Number of documents:\", len(docs))\n"
   ]
  },
  {
   "cell_type": "code",
   "execution_count": 61,
   "metadata": {},
   "outputs": [
    {
     "name": "stdout",
     "output_type": "stream",
     "text": [
      "In stage 0: transferred 134 clusters with 5 clusters populated\n",
      "In stage 1: transferred 76 clusters with 5 clusters populated\n",
      "In stage 2: transferred 61 clusters with 5 clusters populated\n",
      "In stage 3: transferred 61 clusters with 5 clusters populated\n",
      "In stage 4: transferred 61 clusters with 5 clusters populated\n",
      "In stage 5: transferred 62 clusters with 5 clusters populated\n",
      "In stage 6: transferred 63 clusters with 5 clusters populated\n",
      "In stage 7: transferred 48 clusters with 5 clusters populated\n",
      "In stage 8: transferred 61 clusters with 5 clusters populated\n",
      "In stage 9: transferred 62 clusters with 5 clusters populated\n"
     ]
    }
   ],
   "source": [
    "# Train STTM model\n",
    "# Init of the Gibbs Sampling Dirichlet Mixture Model algorithm\n",
    "# K = number of potential topic (which we don't know a priori)\n",
    "# alpha = \n",
    "# beta = \n",
    "# n_iters = number of iterations to \n",
    "mgp = MovieGroupProcess(K=25, alpha=0.1, beta=0.1, n_iters=10)\n",
    "tffuytfy = mgp.fit(docs, n_terms)\n"
   ]
  },
  {
   "cell_type": "code",
   "execution_count": 62,
   "metadata": {},
   "outputs": [
    {
     "name": "stdout",
     "output_type": "stream",
     "text": [
      "Number of documents per topic : [46 49 25 36 44]\n",
      "********************\n",
      "Most important clusters (by number of docs inside): [1 0 4 3 2]\n",
      "********************\n"
     ]
    }
   ],
   "source": [
    "#Show clusters and top words per cluster\n",
    "doc_count = np.array(mgp.cluster_doc_count)\n",
    "print('Number of documents per topic :', doc_count)\n",
    "print('*'*20)# Topics sorted by the number of document they are allocated to\n",
    "top_index = doc_count.argsort()[-10:][::-1]\n",
    "print('Most important clusters (by number of docs inside):', top_index)\n",
    "print('*'*20)# Show the top 8 words in term frequency for each cluster "
   ]
  },
  {
   "cell_type": "code",
   "execution_count": 80,
   "metadata": {},
   "outputs": [],
   "source": [
    "#Store word clusters in list\n",
    "result = []\n",
    "\n",
    "for i in range(len(mgp.cluster_word_distribution)):\n",
    "    cluster_dict = mgp.cluster_word_distribution[i]\n",
    "    result.append(sorted(cluster_dict, key=cluster_dict.get, reverse=True)[:8])"
   ]
  },
  {
   "cell_type": "code",
   "execution_count": 82,
   "metadata": {},
   "outputs": [],
   "source": [
    "#Convert word lists to dataframe\n",
    "result = pd.DataFrame(result)"
   ]
  },
  {
   "cell_type": "code",
   "execution_count": 83,
   "metadata": {},
   "outputs": [],
   "source": [
    "#Convert number of documents per cluster to dataframe\n",
    "doc_count = pd.DataFrame(doc_count)"
   ]
  },
  {
   "cell_type": "code",
   "execution_count": 84,
   "metadata": {},
   "outputs": [],
   "source": [
    "#Merge and save the dataframe of results\n",
    "result = doc_count.merge(result, left_index=True, right_index=True)\n",
    "result.columns = [\"tweets\", \"word1\", \"word2\", \"word3\", \"word4\", \"word5\", \"word6\", \"word7\", \"word8\"]\n",
    "with open(\"KP_TOPICS_FINAL.pickle\", \"wb\") as f:\n",
    "    pickle.dump(result, f)"
   ]
  },
  {
   "cell_type": "code",
   "execution_count": 88,
   "metadata": {},
   "outputs": [],
   "source": [
    "#Define a function to assign a topic to each tweet\n",
    "def topic(x):\n",
    "    (y,z) = mgp.choose_best_label(x)\n",
    "    return y"
   ]
  },
  {
   "cell_type": "code",
   "execution_count": 89,
   "metadata": {},
   "outputs": [],
   "source": [
    "#Define a function to assign percent fit for each tweet per topic\n",
    "def percent(x):\n",
    "    (y,z) = mgp.choose_best_label(x)\n",
    "    return z"
   ]
  },
  {
   "cell_type": "code",
   "execution_count": 90,
   "metadata": {},
   "outputs": [],
   "source": [
    "#Assign topics to tweets\n",
    "tweets[\"topic\"] = tweets[\"clean_translation_tokenized\"].apply(lambda x: topic(x))"
   ]
  },
  {
   "cell_type": "code",
   "execution_count": 91,
   "metadata": {},
   "outputs": [],
   "source": [
    "#Assign percents to tweets\n",
    "tweets[\"percent\"] = tweets[\"clean_translation_tokenized\"].apply(lambda x: percent(x))"
   ]
  },
  {
   "cell_type": "code",
   "execution_count": null,
   "metadata": {},
   "outputs": [],
   "source": [
    "#Save tweets with topics assigned\n",
    "with open(\"kp_tweets_topics_assigned.pickle\", \"wb\") as f:\n",
    "    pickle.dump(tweets, f)"
   ]
  }
 ],
 "metadata": {
  "kernelspec": {
   "display_name": "Python 3",
   "language": "python",
   "name": "python3"
  },
  "language_info": {
   "codemirror_mode": {
    "name": "ipython",
    "version": 3
   },
   "file_extension": ".py",
   "mimetype": "text/x-python",
   "name": "python",
   "nbconvert_exporter": "python",
   "pygments_lexer": "ipython3",
   "version": "3.5.5"
  }
 },
 "nbformat": 4,
 "nbformat_minor": 4
}
