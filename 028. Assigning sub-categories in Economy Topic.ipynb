{
 "cells": [
  {
   "cell_type": "code",
   "execution_count": 1,
   "metadata": {},
   "outputs": [],
   "source": [
    "import plotly\n",
    "import os\n",
    "import numpy as np\n",
    "import pandas as pd\n",
    "import matplotlib.pyplot as plt\n",
    "import seaborn as sns\n",
    "import itertools\n",
    "import collections\n",
    "\n",
    "import nltk\n",
    "from nltk import bigrams\n",
    "from nltk.corpus import stopwords\n",
    "import re\n",
    "import networkx as nx\n",
    "\n",
    "import warnings\n",
    "warnings.filterwarnings(\"ignore\")\n",
    "\n",
    "sns.set(font_scale=1.5)\n",
    "sns.set_style(\"whitegrid\")\n",
    "\n",
    "import pickle\n",
    "\n",
    "\n",
    "\n",
    "import os\n",
    "import pandas as pd\n",
    "import matplotlib.pyplot as plt\n",
    "import seaborn as sns\n",
    "import itertools\n",
    "import collections\n",
    "import pickle\n",
    "import geopandas as gpd\n",
    "\n",
    "import nltk\n",
    "from nltk.corpus import stopwords\n",
    "import re\n",
    "\n",
    "import warnings\n",
    "warnings.filterwarnings(\"ignore\")\n",
    "\n",
    "sns.set(font_scale=1.5)\n",
    "sns.set_style(\"whitegrid\")\n",
    "\n",
    "import multiprocessing \n",
    "from multiprocessing import Pool"
   ]
  },
  {
   "cell_type": "code",
   "execution_count": 2,
   "metadata": {},
   "outputs": [],
   "source": [
    "with open('FINAL_KP_TWEETS_WITH_TOPICS_SENTIMENTS.pickle', \"rb\") as f:\n",
    "    total_tweets = pickle.load(f)"
   ]
  },
  {
   "cell_type": "code",
   "execution_count": 94,
   "metadata": {},
   "outputs": [],
   "source": [
    "#View all rows and columns\n",
    "pd.set_option('display.max_rows', None)\n",
    "pd.set_option('display.max_columns', None)\n",
    "pd.set_option('display.width', None)\n",
    "pd.set_option('display.max_colwidth', -1)"
   ]
  },
  {
   "cell_type": "code",
   "execution_count": 95,
   "metadata": {},
   "outputs": [],
   "source": [
    "#Select economy tweets since 2018\n",
    "tweets = total_tweets[total_tweets[\"topic_name\"]==\"economy\"]\n",
    "tweets = tweets.set_index(\"index\")\n",
    "tweets = tweets[\"2018-01-01\":]"
   ]
  },
  {
   "cell_type": "code",
   "execution_count": null,
   "metadata": {},
   "outputs": [],
   "source": [
    "#Use keyword search to create dataframes of sub-topics in tweets and remove each categorized tweet from main dataframe.\n",
    "#Combine related tweets into sub-topic dataframes."
   ]
  },
  {
   "cell_type": "code",
   "execution_count": 101,
   "metadata": {},
   "outputs": [],
   "source": [
    "stocks = tweets[tweets[\"clean_translation\"].str.contains(\"stock\", na=False)]\n",
    "tweets = tweets[~tweets[\"clean_translation\"].str.contains(\"stock\", na=False)]"
   ]
  },
  {
   "cell_type": "code",
   "execution_count": 102,
   "metadata": {},
   "outputs": [],
   "source": [
    "tax = tweets[tweets[\"clean_translation\"].str.contains(\"tax\", na=False)]\n",
    "tweets = tweets[~tweets[\"clean_translation\"].str.contains(\"tax\", na=False)]"
   ]
  },
  {
   "cell_type": "code",
   "execution_count": 103,
   "metadata": {},
   "outputs": [],
   "source": [
    "inflation = tweets[tweets[\"clean_translation\"].str.contains(\"inflation\", na=False)]\n",
    "tweets = tweets[~tweets[\"clean_translation\"].str.contains(\"inflation\", na=False)]"
   ]
  },
  {
   "cell_type": "code",
   "execution_count": 104,
   "metadata": {},
   "outputs": [],
   "source": [
    "gas = tweets[tweets[\"clean_translation\"].str.contains(\"gas\", na=False)]\n",
    "tweets = tweets[~tweets[\"clean_translation\"].str.contains(\"gas\", na=False)]"
   ]
  },
  {
   "cell_type": "code",
   "execution_count": 105,
   "metadata": {},
   "outputs": [],
   "source": [
    "electricity = tweets[tweets[\"clean_translation\"].str.contains(\"electricy\", na=False)]\n",
    "tweets = tweets[~tweets[\"clean_translation\"].str.contains(\"electricity\", na=False)]"
   ]
  },
  {
   "cell_type": "code",
   "execution_count": 106,
   "metadata": {},
   "outputs": [],
   "source": [
    "petrol = tweets[tweets[\"clean_translation\"].str.contains(\"petrol\", na=False)]\n",
    "tweets = tweets[~tweets[\"clean_translation\"].str.contains(\"petrol\", na=False)]"
   ]
  },
  {
   "cell_type": "code",
   "execution_count": 107,
   "metadata": {},
   "outputs": [],
   "source": [
    "oil = tweets[tweets[\"clean_translation\"].str.contains(\"oil\", na=False)]\n",
    "tweets = tweets[~tweets[\"clean_translation\"].str.contains(\"oil\", na=False)]"
   ]
  },
  {
   "cell_type": "code",
   "execution_count": 108,
   "metadata": {},
   "outputs": [],
   "source": [
    "flour = tweets[tweets[\"clean_translation\"].str.contains(\"flour\", na=False)]\n",
    "tweets = tweets[~tweets[\"clean_translation\"].str.contains(\"flour\", na=False)]"
   ]
  },
  {
   "cell_type": "code",
   "execution_count": 109,
   "metadata": {},
   "outputs": [],
   "source": [
    "food = tweets[tweets[\"clean_translation\"].str.contains(\"food\", na=False)]\n",
    "tweets = tweets[~tweets[\"clean_translation\"].str.contains(\"food\", na=False)]"
   ]
  },
  {
   "cell_type": "code",
   "execution_count": 110,
   "metadata": {},
   "outputs": [],
   "source": [
    "water = tweets[tweets[\"clean_translation\"].str.contains(\"water\", na=False)]\n",
    "tweets = tweets[~tweets[\"clean_translation\"].str.contains(\"water\", na=False)]"
   ]
  },
  {
   "cell_type": "code",
   "execution_count": 111,
   "metadata": {},
   "outputs": [],
   "source": [
    "debt = tweets[tweets[\"clean_translation\"].str.contains(\"debt\", na=False)]\n",
    "tweets = tweets[~tweets[\"clean_translation\"].str.contains(\"debt\", na=False)]"
   ]
  },
  {
   "cell_type": "code",
   "execution_count": 112,
   "metadata": {},
   "outputs": [],
   "source": [
    "deficit = tweets[tweets[\"clean_translation\"].str.contains(\"deficit\", na=False)]\n",
    "tweets = tweets[~tweets[\"clean_translation\"].str.contains(\"deficit\", na=False)]"
   ]
  },
  {
   "cell_type": "code",
   "execution_count": 113,
   "metadata": {},
   "outputs": [],
   "source": [
    "load = tweets[tweets[\"clean_translation\"].str.contains(\"load\", na=False)]\n",
    "tweets = tweets[~tweets[\"clean_translation\"].str.contains(\"load\", na=False)]"
   ]
  },
  {
   "cell_type": "code",
   "execution_count": 114,
   "metadata": {},
   "outputs": [],
   "source": [
    "sugar = tweets[tweets[\"clean_translation\"].str.contains(\"sugar\", na=False)]\n",
    "tweets = tweets[~tweets[\"clean_translation\"].str.contains(\"sugar\", na=False)]"
   ]
  },
  {
   "cell_type": "code",
   "execution_count": 115,
   "metadata": {},
   "outputs": [],
   "source": [
    "government = tweets[tweets[\"clean_translation\"].str.contains(\"government\", na=False)]\n",
    "tweets = tweets[~tweets[\"clean_translation\"].str.contains(\"government\", na=False)]"
   ]
  },
  {
   "cell_type": "code",
   "execution_count": 116,
   "metadata": {},
   "outputs": [],
   "source": [
    "imran = tweets[tweets[\"clean_translation\"].str.contains(\"imran\", na=False)]\n",
    "tweets = tweets[~tweets[\"clean_translation\"].str.contains(\"imran\", na=False)]"
   ]
  },
  {
   "cell_type": "code",
   "execution_count": 117,
   "metadata": {},
   "outputs": [],
   "source": [
    "khan = tweets[tweets[\"clean_translation\"].str.contains(\"khan\", na=False)]\n",
    "tweets = tweets[~tweets[\"clean_translation\"].str.contains(\"khan\", na=False)]"
   ]
  },
  {
   "cell_type": "code",
   "execution_count": 118,
   "metadata": {},
   "outputs": [],
   "source": [
    "pti = tweets[tweets[\"clean_translation\"].str.contains(\"pti\", na=False)]\n",
    "tweets = tweets[~tweets[\"clean_translation\"].str.contains(\"pti\", na=False)]"
   ]
  },
  {
   "cell_type": "code",
   "execution_count": 119,
   "metadata": {},
   "outputs": [],
   "source": [
    "us = tweets[tweets[\"clean_translation\"].str.contains(\"us\", na=False)]\n",
    "tweets = tweets[~tweets[\"clean_translation\"].str.contains(\"us\", na=False)]"
   ]
  },
  {
   "cell_type": "code",
   "execution_count": 120,
   "metadata": {},
   "outputs": [],
   "source": [
    "united = tweets[tweets[\"clean_translation\"].str.contains(\"united\", na=False)]\n",
    "tweets = tweets[~tweets[\"clean_translation\"].str.contains(\"united\", na=False)]"
   ]
  },
  {
   "cell_type": "code",
   "execution_count": 121,
   "metadata": {},
   "outputs": [],
   "source": [
    "trump = tweets[tweets[\"clean_translation\"].str.contains(\"trump\", na=False)]\n",
    "tweets = tweets[~tweets[\"clean_translation\"].str.contains(\"trump\", na=False)]"
   ]
  },
  {
   "cell_type": "code",
   "execution_count": 122,
   "metadata": {},
   "outputs": [],
   "source": [
    "american = tweets[tweets[\"clean_translation\"].str.contains(\"america\", na=False)]\n",
    "tweets = tweets[~tweets[\"clean_translation\"].str.contains(\"america\", na=False)]"
   ]
  },
  {
   "cell_type": "code",
   "execution_count": 123,
   "metadata": {},
   "outputs": [],
   "source": [
    "aid = tweets[tweets[\"clean_translation\"].str.contains(\"aid\", na=False)]\n",
    "tweets = tweets[~tweets[\"clean_translation\"].str.contains(\"aid\", na=False)]"
   ]
  },
  {
   "cell_type": "code",
   "execution_count": 124,
   "metadata": {},
   "outputs": [],
   "source": [
    "stock = tweets[tweets[\"clean_translation\"].str.contains(\"stock\", na=False)]\n",
    "tweets = tweets[~tweets[\"clean_translation\"].str.contains(\"stock\", na=False)]"
   ]
  },
  {
   "cell_type": "code",
   "execution_count": 125,
   "metadata": {},
   "outputs": [],
   "source": [
    "exchange = tweets[tweets[\"clean_translation\"].str.contains(\"exchange\", na=False)]\n",
    "tweets = tweets[~tweets[\"clean_translation\"].str.contains(\"exchange\", na=False)]"
   ]
  },
  {
   "cell_type": "code",
   "execution_count": 126,
   "metadata": {},
   "outputs": [],
   "source": [
    "imf = tweets[tweets[\"clean_translation\"].str.contains(\"imf\", na=False)]\n",
    "tweets = tweets[~tweets[\"clean_translation\"].str.contains(\"imf\", na=False)]"
   ]
  },
  {
   "cell_type": "code",
   "execution_count": 127,
   "metadata": {},
   "outputs": [],
   "source": [
    "trade = tweets[tweets[\"clean_translation\"].str.contains(\"trad\", na=False)]\n",
    "tweets = tweets[~tweets[\"clean_translation\"].str.contains(\"trad\", na=False)]"
   ]
  },
  {
   "cell_type": "code",
   "execution_count": 128,
   "metadata": {},
   "outputs": [],
   "source": [
    "imports = tweets[tweets[\"clean_translation\"].str.contains(\"import\", na=False)]\n",
    "tweets = tweets[~tweets[\"clean_translation\"].str.contains(\"import\", na=False)]"
   ]
  },
  {
   "cell_type": "code",
   "execution_count": 129,
   "metadata": {},
   "outputs": [],
   "source": [
    "exports = tweets[tweets[\"clean_translation\"].str.contains(\"export\", na=False)]\n",
    "tweets = tweets[~tweets[\"clean_translation\"].str.contains(\"export\", na=False)]"
   ]
  },
  {
   "cell_type": "code",
   "execution_count": 130,
   "metadata": {},
   "outputs": [],
   "source": [
    "price = tweets[tweets[\"clean_translation\"].str.contains(\"price\", na=False)]\n",
    "tweets = tweets[~tweets[\"clean_translation\"].str.contains(\"price\", na=False)]"
   ]
  },
  {
   "cell_type": "code",
   "execution_count": 131,
   "metadata": {},
   "outputs": [],
   "source": [
    "poor = tweets[tweets[\"clean_translation\"].str.contains(\"poor\", na=False)]\n",
    "tweets = tweets[~tweets[\"clean_translation\"].str.contains(\"poor\", na=False)]"
   ]
  },
  {
   "cell_type": "code",
   "execution_count": 132,
   "metadata": {},
   "outputs": [],
   "source": [
    "poverty = tweets[tweets[\"clean_translation\"].str.contains(\"poverty\", na=False)]\n",
    "tweets = tweets[~tweets[\"clean_translation\"].str.contains(\"poverty\", na=False)]"
   ]
  },
  {
   "cell_type": "code",
   "execution_count": 133,
   "metadata": {},
   "outputs": [],
   "source": [
    "market = tweets[tweets[\"clean_translation\"].str.contains(\"market\", na=False)]\n",
    "tweets = tweets[~tweets[\"clean_translation\"].str.contains(\"market\", na=False)]"
   ]
  },
  {
   "cell_type": "code",
   "execution_count": 134,
   "metadata": {},
   "outputs": [],
   "source": [
    "taxes = pd.concat([tax])\n",
    "taxes[\"category\"] = \"tax\""
   ]
  },
  {
   "cell_type": "code",
   "execution_count": 135,
   "metadata": {},
   "outputs": [],
   "source": [
    "electricity = pd.concat([gas, electricity, petrol, oil, load])\n",
    "electricity[\"category\"] = \"electricity\""
   ]
  },
  {
   "cell_type": "code",
   "execution_count": 136,
   "metadata": {},
   "outputs": [],
   "source": [
    "food = pd.concat([flour, food, water, sugar, price])\n",
    "food[\"category\"] = \"food\""
   ]
  },
  {
   "cell_type": "code",
   "execution_count": 137,
   "metadata": {},
   "outputs": [],
   "source": [
    "debt = pd.concat([debt])\n",
    "debt[\"category\"] = \"debt\""
   ]
  },
  {
   "cell_type": "code",
   "execution_count": 138,
   "metadata": {},
   "outputs": [],
   "source": [
    "deficit = pd.concat([deficit])\n",
    "deficit[\"category\"] = \"deficit\""
   ]
  },
  {
   "cell_type": "code",
   "execution_count": 139,
   "metadata": {},
   "outputs": [],
   "source": [
    "stocks = pd.concat([stocks, trade, exchange, inflation, market])\n",
    "stocks[\"category\"] = \"stocks\""
   ]
  },
  {
   "cell_type": "code",
   "execution_count": 140,
   "metadata": {},
   "outputs": [],
   "source": [
    "import_export = pd.concat([imports, exports])\n",
    "import_export[\"category\"] = \"imports and exports\""
   ]
  },
  {
   "cell_type": "code",
   "execution_count": 141,
   "metadata": {},
   "outputs": [],
   "source": [
    "united_states = pd.concat([us, united, trump, american, aid, united_states])\n",
    "united_states[\"category\"] = \"united_states\""
   ]
  },
  {
   "cell_type": "code",
   "execution_count": 142,
   "metadata": {},
   "outputs": [],
   "source": [
    "imf = pd.concat([imf])\n",
    "imf[\"category\"] = \"imf\""
   ]
  },
  {
   "cell_type": "code",
   "execution_count": 143,
   "metadata": {},
   "outputs": [],
   "source": [
    "government = pd.concat([government, imran, khan, pti])\n",
    "government[\"category\"] = \"government\""
   ]
  },
  {
   "cell_type": "code",
   "execution_count": 144,
   "metadata": {},
   "outputs": [],
   "source": [
    "poverty = pd.concat([poor, poverty])\n",
    "poverty[\"category\"] = \"poverty\""
   ]
  },
  {
   "cell_type": "code",
   "execution_count": 145,
   "metadata": {},
   "outputs": [],
   "source": [
    "countries = tweets[tweets[\"clean_translation\"].str.contains(\"countr\", na=False)]\n",
    "tweets = tweets[~tweets[\"clean_translation\"].str.contains(\"countr\", na=False)]"
   ]
  },
  {
   "cell_type": "code",
   "execution_count": 146,
   "metadata": {},
   "outputs": [],
   "source": [
    "india = tweets[tweets[\"clean_translation\"].str.contains(\"india\", na=False)]\n",
    "tweets = tweets[~tweets[\"clean_translation\"].str.contains(\"india\", na=False)]"
   ]
  },
  {
   "cell_type": "code",
   "execution_count": 147,
   "metadata": {},
   "outputs": [],
   "source": [
    "china = tweets[tweets[\"clean_translation\"].str.contains(\"china\", na=False)]\n",
    "tweets = tweets[~tweets[\"clean_translation\"].str.contains(\"china\", na=False)]"
   ]
  },
  {
   "cell_type": "code",
   "execution_count": 148,
   "metadata": {},
   "outputs": [],
   "source": [
    "afghan = tweets[tweets[\"clean_translation\"].str.contains(\"afghan\", na=False)]\n",
    "tweets = tweets[~tweets[\"clean_translation\"].str.contains(\"afghan\", na=False)]"
   ]
  },
  {
   "cell_type": "code",
   "execution_count": 149,
   "metadata": {},
   "outputs": [],
   "source": [
    "countries = pd.concat([countries, india, china, afghan])\n",
    "countries[\"category\"] = \"countries\""
   ]
  },
  {
   "cell_type": "code",
   "execution_count": 150,
   "metadata": {},
   "outputs": [],
   "source": [
    "#Combine all categorized tweets and drop duplicates\n",
    "cat_tweets = pd.concat([taxes, electricity, food, debt, deficit, stocks, import_export, imf, united_states, poverty, government, countries])\n",
    "cat_tweets = cat_tweets.reset_index()\n",
    "cat_tweets = cat_tweets.drop_duplicates([\"index\", \"clean_translation\", \"hashtags\", \"user_id\", \"user_location\"])"
   ]
  },
  {
   "cell_type": "code",
   "execution_count": 154,
   "metadata": {},
   "outputs": [],
   "source": [
    "#Set uncategorized tweets equal to \"None\" and combine categorized and uncategorized dataframes and save\n",
    "uncat = tweets\n",
    "uncat[\"category\"] = \"None\"\n",
    "tweets = pd.concat([cat_tweets, uncat])\n",
    "\n",
    "with open(\"kp_economy_tweets_categorized.pickle\", \"wb\") as f:\n",
    "    pickle.dump(tweets, f)"
   ]
  }
 ],
 "metadata": {
  "kernelspec": {
   "display_name": "Python 3",
   "language": "python",
   "name": "python3"
  },
  "language_info": {
   "codemirror_mode": {
    "name": "ipython",
    "version": 3
   },
   "file_extension": ".py",
   "mimetype": "text/x-python",
   "name": "python",
   "nbconvert_exporter": "python",
   "pygments_lexer": "ipython3",
   "version": "3.5.5"
  }
 },
 "nbformat": 4,
 "nbformat_minor": 4
}
