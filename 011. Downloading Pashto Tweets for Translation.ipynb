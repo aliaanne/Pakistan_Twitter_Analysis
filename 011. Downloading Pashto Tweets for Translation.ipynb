{
 "cells": [
  {
   "cell_type": "code",
   "execution_count": 1,
   "metadata": {},
   "outputs": [
    {
     "name": "stderr",
     "output_type": "stream",
     "text": [
      "[nltk_data] Downloading package punkt to /home/dval/nltk_data...\n",
      "[nltk_data]   Package punkt is already up-to-date!\n"
     ]
    }
   ],
   "source": [
    "from googletrans import Translator\n",
    "import pandas as pd\n",
    "import pickle\n",
    "import string\n",
    "import matplotlib.pyplot as plt\n",
    "import seaborn as sns\n",
    "import nltk\n",
    "from nltk.tokenize import word_tokenize\n",
    "nltk.download('punkt')\n",
    "import re\n",
    "import numpy as np\n",
    "from wordcloud import WordCloud, STOPWORDS, ImageColorGenerator\n",
    "import re \n",
    "from textblob import TextBlob\n",
    "from nltk.corpus import stopwords\n",
    "from nltk.stem import PorterStemmer\n",
    "from nltk.stem.wordnet import WordNetLemmatizer"
   ]
  },
  {
   "cell_type": "code",
   "execution_count": null,
   "metadata": {},
   "outputs": [],
   "source": [
    "with open('pashto_tweets_cleaned.pickle', \"rb\") as f:\n",
    "    tweets = pickle.load(f)"
   ]
  },
  {
   "cell_type": "code",
   "execution_count": 7,
   "metadata": {},
   "outputs": [],
   "source": [
    "tweets = tweets.set_index(\"created_at\")"
   ]
  },
  {
   "cell_type": "code",
   "execution_count": null,
   "metadata": {},
   "outputs": [],
   "source": [
    "#Download 50K only text of pashto tweets at a time for translation in google translate"
   ]
  },
  {
   "cell_type": "code",
   "execution_count": 13,
   "metadata": {},
   "outputs": [],
   "source": [
    "only_text = tweets[[\"clean_text\"]]"
   ]
  },
  {
   "cell_type": "code",
   "execution_count": 14,
   "metadata": {},
   "outputs": [
    {
     "data": {
      "text/html": [
       "<div>\n",
       "<style scoped>\n",
       "    .dataframe tbody tr th:only-of-type {\n",
       "        vertical-align: middle;\n",
       "    }\n",
       "\n",
       "    .dataframe tbody tr th {\n",
       "        vertical-align: top;\n",
       "    }\n",
       "\n",
       "    .dataframe thead th {\n",
       "        text-align: right;\n",
       "    }\n",
       "</style>\n",
       "<table border=\"1\" class=\"dataframe\">\n",
       "  <thead>\n",
       "    <tr style=\"text-align: right;\">\n",
       "      <th></th>\n",
       "      <th>clean_text</th>\n",
       "    </tr>\n",
       "    <tr>\n",
       "      <th>created_at</th>\n",
       "      <th></th>\n",
       "    </tr>\n",
       "  </thead>\n",
       "  <tbody>\n",
       "    <tr>\n",
       "      <th>2018-05-25 15:16:23</th>\n",
       "      <td>ده ازادي علمبردارو د ڼړي قامونواوس د ڼړي نقشه ...</td>\n",
       "    </tr>\n",
       "    <tr>\n",
       "      <th>2018-05-26 02:25:08</th>\n",
       "      <td>نړي کي د يو قام انقلاب هم د بل په شان نه دي شو...</td>\n",
       "    </tr>\n",
       "    <tr>\n",
       "      <th>2018-05-29 19:57:24</th>\n",
       "      <td>د پښتو ژبې د ورځې په مناسبت زه ټولو پښتنو ته پ...</td>\n",
       "    </tr>\n",
       "    <tr>\n",
       "      <th>2018-05-30 07:33:02</th>\n",
       "      <td>پښتو لیکلې نه شم خو پښتو ماته ګوډه وایم او الب...</td>\n",
       "    </tr>\n",
       "    <tr>\n",
       "      <th>2018-05-30 19:21:52</th>\n",
       "      <td>مونږ انتظار نه ھم خوندونه اخلوکه ھغه نه راځې ن...</td>\n",
       "    </tr>\n",
       "  </tbody>\n",
       "</table>\n",
       "</div>"
      ],
      "text/plain": [
       "                                                            clean_text\n",
       "created_at                                                            \n",
       "2018-05-25 15:16:23  ده ازادي علمبردارو د ڼړي قامونواوس د ڼړي نقشه ...\n",
       "2018-05-26 02:25:08  نړي کي د يو قام انقلاب هم د بل په شان نه دي شو...\n",
       "2018-05-29 19:57:24  د پښتو ژبې د ورځې په مناسبت زه ټولو پښتنو ته پ...\n",
       "2018-05-30 07:33:02  پښتو لیکلې نه شم خو پښتو ماته ګوډه وایم او الب...\n",
       "2018-05-30 19:21:52  مونږ انتظار نه ھم خوندونه اخلوکه ھغه نه راځې ن..."
      ]
     },
     "execution_count": 14,
     "metadata": {},
     "output_type": "execute_result"
    }
   ],
   "source": [
    "only_text.head()"
   ]
  },
  {
   "cell_type": "code",
   "execution_count": 15,
   "metadata": {},
   "outputs": [],
   "source": [
    "only_text = only_text[50000:100000]"
   ]
  },
  {
   "cell_type": "code",
   "execution_count": 16,
   "metadata": {},
   "outputs": [],
   "source": [
    "import openpyxl\n",
    "only_text.to_excel(\"pashto_text.xlsx\")  "
   ]
  }
 ],
 "metadata": {
  "kernelspec": {
   "display_name": "Python 3",
   "language": "python",
   "name": "python3"
  },
  "language_info": {
   "codemirror_mode": {
    "name": "ipython",
    "version": 3
   },
   "file_extension": ".py",
   "mimetype": "text/x-python",
   "name": "python",
   "nbconvert_exporter": "python",
   "pygments_lexer": "ipython3",
   "version": "3.5.5"
  }
 },
 "nbformat": 4,
 "nbformat_minor": 4
}
