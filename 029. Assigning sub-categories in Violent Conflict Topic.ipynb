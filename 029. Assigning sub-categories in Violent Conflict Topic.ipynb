{
 "cells": [
  {
   "cell_type": "code",
   "execution_count": 1,
   "metadata": {},
   "outputs": [],
   "source": [
    "import plotly\n",
    "import os\n",
    "import numpy as np\n",
    "import pandas as pd\n",
    "import matplotlib.pyplot as plt\n",
    "import seaborn as sns\n",
    "import itertools\n",
    "import collections\n",
    "\n",
    "import nltk\n",
    "from nltk import bigrams\n",
    "from nltk.corpus import stopwords\n",
    "import re\n",
    "import networkx as nx\n",
    "\n",
    "import warnings\n",
    "warnings.filterwarnings(\"ignore\")\n",
    "\n",
    "sns.set(font_scale=1.5)\n",
    "sns.set_style(\"whitegrid\")\n",
    "\n",
    "import pickle\n",
    "\n",
    "\n",
    "\n",
    "import os\n",
    "import pandas as pd\n",
    "import matplotlib.pyplot as plt\n",
    "import seaborn as sns\n",
    "import itertools\n",
    "import collections\n",
    "import pickle\n",
    "import geopandas as gpd\n",
    "\n",
    "import nltk\n",
    "from nltk.corpus import stopwords\n",
    "import re\n",
    "\n",
    "import warnings\n",
    "warnings.filterwarnings(\"ignore\")\n",
    "\n",
    "sns.set(font_scale=1.5)\n",
    "sns.set_style(\"whitegrid\")\n",
    "\n",
    "import multiprocessing \n",
    "from multiprocessing import Pool"
   ]
  },
  {
   "cell_type": "code",
   "execution_count": 2,
   "metadata": {},
   "outputs": [],
   "source": [
    "with open('FINAL_KP_TWEETS_WITH_TOPICS_SENTIMENTS.pickle', \"rb\") as f:\n",
    "    total_tweets = pickle.load(f)"
   ]
  },
  {
   "cell_type": "code",
   "execution_count": 3,
   "metadata": {},
   "outputs": [],
   "source": [
    "#Display max rows/columns\n",
    "pd.set_option('display.max_rows', None)\n",
    "pd.set_option('display.max_columns', None)\n",
    "pd.set_option('display.width', None)\n",
    "pd.set_option('display.max_colwidth', -1)"
   ]
  },
  {
   "cell_type": "code",
   "execution_count": 156,
   "metadata": {},
   "outputs": [],
   "source": [
    "#Select only violent conflict tweets since 2018\n",
    "tweets = total_tweets[total_tweets[\"topic_name\"]==\"violent conflict in KP\"]\n",
    "tweets = tweets.set_index(\"index\")\n",
    "tweets = tweets[\"2018-01-01\":]"
   ]
  },
  {
   "cell_type": "code",
   "execution_count": null,
   "metadata": {},
   "outputs": [],
   "source": [
    "#Use keyword search to create dataframes of sub-topics in tweets and remove each categorized tweet from main dataframe.\n",
    "#Combine related tweets into sub-topic dataframes."
   ]
  },
  {
   "cell_type": "code",
   "execution_count": 158,
   "metadata": {},
   "outputs": [],
   "source": [
    "police = tweets[tweets[\"clean_translation\"].str.contains(\"police\", na=False)]\n",
    "tweets = tweets[~tweets[\"clean_translation\"].str.contains(\"police\", na=False)]"
   ]
  },
  {
   "cell_type": "code",
   "execution_count": 159,
   "metadata": {},
   "outputs": [],
   "source": [
    "security = tweets[tweets[\"clean_translation\"].str.contains(\"security\", na=False)]\n",
    "tweets = tweets[~tweets[\"clean_translation\"].str.contains(\"security\", na=False)]"
   ]
  },
  {
   "cell_type": "code",
   "execution_count": 160,
   "metadata": {},
   "outputs": [],
   "source": [
    "force = tweets[tweets[\"clean_translation\"].str.contains(\"force\", na=False)]\n",
    "tweets = tweets[~tweets[\"clean_translation\"].str.contains(\"force\", na=False)]"
   ]
  },
  {
   "cell_type": "code",
   "execution_count": 161,
   "metadata": {},
   "outputs": [],
   "source": [
    "state = tweets[tweets[\"clean_translation\"].str.contains(\"state\", na=False)]\n",
    "tweets = tweets[~tweets[\"clean_translation\"].str.contains(\"state\", na=False)]"
   ]
  },
  {
   "cell_type": "code",
   "execution_count": 162,
   "metadata": {},
   "outputs": [],
   "source": [
    "army = tweets[tweets[\"clean_translation\"].str.contains(\"army\", na=False)]\n",
    "tweets = tweets[~tweets[\"clean_translation\"].str.contains(\"army\", na=False)]"
   ]
  },
  {
   "cell_type": "code",
   "execution_count": 163,
   "metadata": {},
   "outputs": [],
   "source": [
    "terror = tweets[tweets[\"clean_translation\"].str.contains(\"terror\", na=False)]\n",
    "tweets = tweets[~tweets[\"clean_translation\"].str.contains(\"terror\", na=False)]"
   ]
  },
  {
   "cell_type": "code",
   "execution_count": 164,
   "metadata": {},
   "outputs": [],
   "source": [
    "taliban = tweets[tweets[\"clean_translation\"].str.contains(\"taliban\", na=False)]\n",
    "tweets = tweets[~tweets[\"clean_translation\"].str.contains(\"taliban\", na=False)]"
   ]
  },
  {
   "cell_type": "code",
   "execution_count": 165,
   "metadata": {},
   "outputs": [],
   "source": [
    "extremist = tweets[tweets[\"clean_translation\"].str.contains(\"extrem\", na=False)]\n",
    "tweets = tweets[~tweets[\"clean_translation\"].str.contains(\"extrem\", na=False)]"
   ]
  },
  {
   "cell_type": "code",
   "execution_count": 166,
   "metadata": {},
   "outputs": [],
   "source": [
    "ptm = tweets[tweets[\"clean_translation\"].str.contains(\"ptm\", na=False)]\n",
    "tweets = tweets[~tweets[\"clean_translation\"].str.contains(\"ptm\", na=False)]"
   ]
  },
  {
   "cell_type": "code",
   "execution_count": 167,
   "metadata": {},
   "outputs": [],
   "source": [
    "pashtun = tweets[tweets[\"clean_translation\"].str.contains(\"pasht\", na=False)]\n",
    "tweets = tweets[~tweets[\"clean_translation\"].str.contains(\"pasht\", na=False)]"
   ]
  },
  {
   "cell_type": "code",
   "execution_count": 168,
   "metadata": {},
   "outputs": [],
   "source": [
    "khan = tweets[tweets[\"clean_translation\"].str.contains(\"khan\", na=False)]\n",
    "tweets = tweets[~tweets[\"clean_translation\"].str.contains(\"khan\", na=False)]"
   ]
  },
  {
   "cell_type": "code",
   "execution_count": 169,
   "metadata": {},
   "outputs": [],
   "source": [
    "protest = tweets[tweets[\"clean_translation\"].str.contains(\"protest\", na=False)]\n",
    "tweets = tweets[~tweets[\"clean_translation\"].str.contains(\"protest\", na=False)]"
   ]
  },
  {
   "cell_type": "code",
   "execution_count": 170,
   "metadata": {},
   "outputs": [],
   "source": [
    "ali = tweets[tweets[\"clean_translation\"].str.contains(\"ali\", na=False)]\n",
    "tweets = tweets[~tweets[\"clean_translation\"].str.contains(\"ali\", na=False)]"
   ]
  },
  {
   "cell_type": "code",
   "execution_count": 171,
   "metadata": {},
   "outputs": [],
   "source": [
    "dawar = tweets[tweets[\"clean_translation\"].str.contains(\"dawar\", na=False)]\n",
    "tweets = tweets[~tweets[\"clean_translation\"].str.contains(\"dawar\", na=False)]"
   ]
  },
  {
   "cell_type": "code",
   "execution_count": 172,
   "metadata": {},
   "outputs": [],
   "source": [
    "manzoor = tweets[tweets[\"clean_translation\"].str.contains(\"manzoor\", na=False)]\n",
    "tweets = tweets[~tweets[\"clean_translation\"].str.contains(\"manzoor\", na=False)]"
   ]
  },
  {
   "cell_type": "code",
   "execution_count": 173,
   "metadata": {},
   "outputs": [],
   "source": [
    "wazir = tweets[tweets[\"clean_translation\"].str.contains(\"wazir\", na=False)]\n",
    "tweets = tweets[~tweets[\"clean_translation\"].str.contains(\"wazir\", na=False)]"
   ]
  },
  {
   "cell_type": "code",
   "execution_count": 174,
   "metadata": {},
   "outputs": [],
   "source": [
    "mohsin = tweets[tweets[\"clean_translation\"].str.contains(\"mohsin\", na=False)]\n",
    "tweets = tweets[~tweets[\"clean_translation\"].str.contains(\"mohsin\", na=False)]"
   ]
  },
  {
   "cell_type": "code",
   "execution_count": 175,
   "metadata": {},
   "outputs": [],
   "source": [
    "government = tweets[tweets[\"clean_translation\"].str.contains(\"government\", na=False)]\n",
    "tweets = tweets[~tweets[\"clean_translation\"].str.contains(\"government\", na=False)]"
   ]
  },
  {
   "cell_type": "code",
   "execution_count": 176,
   "metadata": {},
   "outputs": [],
   "source": [
    "arrest = tweets[tweets[\"clean_translation\"].str.contains(\"arrest\", na=False)]\n",
    "tweets = tweets[~tweets[\"clean_translation\"].str.contains(\"arrest\", na=False)]"
   ]
  },
  {
   "cell_type": "code",
   "execution_count": 177,
   "metadata": {},
   "outputs": [],
   "source": [
    "killed = tweets[tweets[\"clean_translation\"].str.contains(\"kill\", na=False)]\n",
    "tweets = tweets[~tweets[\"clean_translation\"].str.contains(\"kill\", na=False)]"
   ]
  },
  {
   "cell_type": "code",
   "execution_count": 178,
   "metadata": {},
   "outputs": [],
   "source": [
    "attack = tweets[tweets[\"clean_translation\"].str.contains(\"attack\", na=False)]\n",
    "tweets = tweets[~tweets[\"clean_translation\"].str.contains(\"attack\", na=False)]"
   ]
  },
  {
   "cell_type": "code",
   "execution_count": 179,
   "metadata": {},
   "outputs": [],
   "source": [
    "death = tweets[tweets[\"clean_translation\"].str.contains(\"death\", na=False)]\n",
    "tweets = tweets[~tweets[\"clean_translation\"].str.contains(\"death\", na=False)]"
   ]
  },
  {
   "cell_type": "code",
   "execution_count": 180,
   "metadata": {},
   "outputs": [],
   "source": [
    "injured = tweets[tweets[\"clean_translation\"].str.contains(\"injur\", na=False)]\n",
    "tweets = tweets[~tweets[\"clean_translation\"].str.contains(\"injur\", na=False)]"
   ]
  },
  {
   "cell_type": "code",
   "execution_count": 181,
   "metadata": {},
   "outputs": [],
   "source": [
    "incident = tweets[tweets[\"clean_translation\"].str.contains(\"incident\", na=False)]\n",
    "tweets = tweets[~tweets[\"clean_translation\"].str.contains(\"incident\", na=False)]"
   ]
  },
  {
   "cell_type": "code",
   "execution_count": 182,
   "metadata": {},
   "outputs": [],
   "source": [
    "martyr = tweets[tweets[\"clean_translation\"].str.contains(\"martyr\", na=False)]\n",
    "tweets = tweets[~tweets[\"clean_translation\"].str.contains(\"martyr\", na=False)]"
   ]
  },
  {
   "cell_type": "code",
   "execution_count": 183,
   "metadata": {},
   "outputs": [],
   "source": [
    "murder = tweets[tweets[\"clean_translation\"].str.contains(\"murder\", na=False)]\n",
    "tweets = tweets[~tweets[\"clean_translation\"].str.contains(\"murder\", na=False)]"
   ]
  },
  {
   "cell_type": "code",
   "execution_count": 184,
   "metadata": {},
   "outputs": [],
   "source": [
    "dead = tweets[tweets[\"clean_translation\"].str.contains(\"dead\", na=False)]\n",
    "tweets = tweets[~tweets[\"clean_translation\"].str.contains(\"dead\", na=False)]"
   ]
  },
  {
   "cell_type": "code",
   "execution_count": 185,
   "metadata": {},
   "outputs": [],
   "source": [
    "missing = tweets[tweets[\"clean_translation\"].str.contains(\"missing\", na=False)]\n",
    "tweets = tweets[~tweets[\"clean_translation\"].str.contains(\"missing\", na=False)]"
   ]
  },
  {
   "cell_type": "code",
   "execution_count": 186,
   "metadata": {},
   "outputs": [],
   "source": [
    "blast = tweets[tweets[\"clean_translation\"].str.contains(\"blast\", na=False)]\n",
    "tweets = tweets[~tweets[\"clean_translation\"].str.contains(\"blast\", na=False)]"
   ]
  },
  {
   "cell_type": "code",
   "execution_count": 187,
   "metadata": {},
   "outputs": [],
   "source": [
    "shot = tweets[tweets[\"clean_translation\"].str.contains(\"shot\", na=False)]\n",
    "tweets = tweets[~tweets[\"clean_translation\"].str.contains(\"shot\", na=False)]"
   ]
  },
  {
   "cell_type": "code",
   "execution_count": 188,
   "metadata": {},
   "outputs": [],
   "source": [
    "died = tweets[tweets[\"clean_translation\"].str.contains(\"died\", na=False)]\n",
    "tweets = tweets[~tweets[\"clean_translation\"].str.contains(\"died\", na=False)]"
   ]
  },
  {
   "cell_type": "code",
   "execution_count": 189,
   "metadata": {},
   "outputs": [],
   "source": [
    "taken = tweets[tweets[\"clean_translation\"].str.contains(\"taken\", na=False)]\n",
    "tweets = tweets[~tweets[\"clean_translation\"].str.contains(\"taken\", na=False)]"
   ]
  },
  {
   "cell_type": "code",
   "execution_count": 190,
   "metadata": {},
   "outputs": [],
   "source": [
    "abducted = tweets[tweets[\"clean_translation\"].str.contains(\"abduct\", na=False)]\n",
    "tweets = tweets[~tweets[\"clean_translation\"].str.contains(\"abduct\", na=False)]"
   ]
  },
  {
   "cell_type": "code",
   "execution_count": 191,
   "metadata": {},
   "outputs": [],
   "source": [
    "child = tweets[tweets[\"clean_translation\"].str.contains(\"child\", na=False)]\n",
    "tweets = tweets[~tweets[\"clean_translation\"].str.contains(\"child\", na=False)]"
   ]
  },
  {
   "cell_type": "code",
   "execution_count": 192,
   "metadata": {},
   "outputs": [],
   "source": [
    "girl = tweets[tweets[\"clean_translation\"].str.contains(\"girl\", na=False)]\n",
    "tweets = tweets[~tweets[\"clean_translation\"].str.contains(\"girl\", na=False)]"
   ]
  },
  {
   "cell_type": "code",
   "execution_count": 193,
   "metadata": {},
   "outputs": [],
   "source": [
    "young = tweets[tweets[\"clean_translation\"].str.contains(\"young\", na=False)]\n",
    "tweets = tweets[~tweets[\"clean_translation\"].str.contains(\"young\", na=False)]"
   ]
  },
  {
   "cell_type": "code",
   "execution_count": 194,
   "metadata": {},
   "outputs": [],
   "source": [
    "student = tweets[tweets[\"clean_translation\"].str.contains(\"student\", na=False)]\n",
    "tweets = tweets[~tweets[\"clean_translation\"].str.contains(\"student\", na=False)]"
   ]
  },
  {
   "cell_type": "code",
   "execution_count": 195,
   "metadata": {},
   "outputs": [],
   "source": [
    "school = tweets[tweets[\"clean_translation\"].str.contains(\"school\", na=False)]\n",
    "tweets = tweets[~tweets[\"clean_translation\"].str.contains(\"school\", na=False)]"
   ]
  },
  {
   "cell_type": "code",
   "execution_count": 196,
   "metadata": {},
   "outputs": [],
   "source": [
    "women = tweets[tweets[\"clean_translation\"].str.contains(\"wom\", na=False)]\n",
    "tweets = tweets[~tweets[\"clean_translation\"].str.contains(\"wom\", na=False)]"
   ]
  },
  {
   "cell_type": "code",
   "execution_count": 197,
   "metadata": {},
   "outputs": [],
   "source": [
    "prison = tweets[tweets[\"clean_translation\"].str.contains(\"prison\", na=False)]\n",
    "tweets = tweets[~tweets[\"clean_translation\"].str.contains(\"prison\", na=False)]"
   ]
  },
  {
   "cell_type": "code",
   "execution_count": 198,
   "metadata": {},
   "outputs": [],
   "source": [
    "jail = tweets[tweets[\"clean_translation\"].str.contains(\"jail\", na=False)]\n",
    "tweets = tweets[~tweets[\"clean_translation\"].str.contains(\"jail\", na=False)]"
   ]
  },
  {
   "cell_type": "code",
   "execution_count": 199,
   "metadata": {},
   "outputs": [],
   "source": [
    "justice = tweets[tweets[\"clean_translation\"].str.contains(\"justice\", na=False)]\n",
    "tweets = tweets[~tweets[\"clean_translation\"].str.contains(\"justice\", na=False)]"
   ]
  },
  {
   "cell_type": "code",
   "execution_count": 200,
   "metadata": {},
   "outputs": [],
   "source": [
    "release = tweets[tweets[\"clean_translation\"].str.contains(\"release\", na=False)]\n",
    "tweets = tweets[~tweets[\"clean_translation\"].str.contains(\"release\", na=False)]"
   ]
  },
  {
   "cell_type": "code",
   "execution_count": 201,
   "metadata": {},
   "outputs": [],
   "source": [
    "state_forces = pd.concat([police, security, force, state, army, khan, government])\n",
    "state_forces[\"category\"] = \"state_forces\""
   ]
  },
  {
   "cell_type": "code",
   "execution_count": 202,
   "metadata": {},
   "outputs": [],
   "source": [
    "terrorism = pd.concat([terror, taliban, extremist])\n",
    "terrorism[\"category\"] = \"terrorism\""
   ]
  },
  {
   "cell_type": "code",
   "execution_count": 203,
   "metadata": {},
   "outputs": [],
   "source": [
    "ptm = pd.concat([ptm, pashtun, protest, ali, dawar, manzoor, wazir, mohsin])\n",
    "ptm[\"category\"] = \"ptm\""
   ]
  },
  {
   "cell_type": "code",
   "execution_count": 204,
   "metadata": {},
   "outputs": [],
   "source": [
    "arrests = pd.concat([arrest, release, jail, prison])\n",
    "arrests[\"category\"] = \"arrests\""
   ]
  },
  {
   "cell_type": "code",
   "execution_count": 205,
   "metadata": {},
   "outputs": [],
   "source": [
    "violent_attacks = pd.concat([killed, attack, death, injured, incident, martyr, murder, dead, blast, shot, died])\n",
    "violent_attacks[\"category\"] = \"violent_attacks\""
   ]
  },
  {
   "cell_type": "code",
   "execution_count": 206,
   "metadata": {},
   "outputs": [],
   "source": [
    "abductions = pd.concat([missing, taken, abducted])\n",
    "abductions[\"category\"] = \"abductions\""
   ]
  },
  {
   "cell_type": "code",
   "execution_count": 207,
   "metadata": {},
   "outputs": [],
   "source": [
    "children = pd.concat([child, girl, young, school])\n",
    "children[\"category\"] = \"children\""
   ]
  },
  {
   "cell_type": "code",
   "execution_count": 208,
   "metadata": {},
   "outputs": [],
   "source": [
    "#Combine all categorized tweets and drop duplicates\n",
    "cat_tweets = pd.concat([state_forces, terrorism, ptm, arrests, violent_attacks, abductions, children])\n",
    "cat_tweets = cat_tweets.reset_index()\n",
    "cat_tweets = cat_tweets.drop_duplicates([\"index\", \"clean_translation\", \"hashtags\", \"user_id\", \"user_location\"])"
   ]
  },
  {
   "cell_type": "code",
   "execution_count": 209,
   "metadata": {},
   "outputs": [],
   "source": [
    "#Set uncategorized tweets equal to \"None\" and combine categorized and uncategorized dataframes and save\n",
    "uncat = tweets\n",
    "uncat[\"category\"] = \"None\"\n",
    "tweets = pd.concat([cat_tweets, uncat])\n",
    "\n",
    "with open(\"kp_violence_tweets_categorized.pickle\", \"wb\") as f:\n",
    "    pickle.dump(tweets, f)"
   ]
  }
 ],
 "metadata": {
  "kernelspec": {
   "display_name": "Python 3",
   "language": "python",
   "name": "python3"
  },
  "language_info": {
   "codemirror_mode": {
    "name": "ipython",
    "version": 3
   },
   "file_extension": ".py",
   "mimetype": "text/x-python",
   "name": "python",
   "nbconvert_exporter": "python",
   "pygments_lexer": "ipython3",
   "version": "3.5.5"
  }
 },
 "nbformat": 4,
 "nbformat_minor": 4
}
