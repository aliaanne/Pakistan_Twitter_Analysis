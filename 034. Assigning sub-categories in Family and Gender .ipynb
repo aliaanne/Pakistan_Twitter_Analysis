{
 "cells": [
  {
   "cell_type": "code",
   "execution_count": 56,
   "metadata": {},
   "outputs": [],
   "source": [
    "import plotly\n",
    "import os\n",
    "import numpy as np\n",
    "import pandas as pd\n",
    "import matplotlib.pyplot as plt\n",
    "import seaborn as sns\n",
    "import itertools\n",
    "import collections\n",
    "\n",
    "import nltk\n",
    "from nltk import bigrams\n",
    "from nltk.corpus import stopwords\n",
    "import re\n",
    "import networkx as nx\n",
    "\n",
    "import warnings\n",
    "warnings.filterwarnings(\"ignore\")\n",
    "\n",
    "sns.set(font_scale=1.5)\n",
    "sns.set_style(\"whitegrid\")\n",
    "\n",
    "import pickle\n",
    "\n",
    "\n",
    "\n",
    "import os\n",
    "import pandas as pd\n",
    "import matplotlib.pyplot as plt\n",
    "import seaborn as sns\n",
    "import itertools\n",
    "import collections\n",
    "import pickle\n",
    "import geopandas as gpd\n",
    "\n",
    "import nltk\n",
    "from nltk.corpus import stopwords\n",
    "import re\n",
    "\n",
    "import warnings\n",
    "warnings.filterwarnings(\"ignore\")\n",
    "\n",
    "sns.set(font_scale=1.5)\n",
    "sns.set_style(\"whitegrid\")\n",
    "\n",
    "import multiprocessing \n",
    "from multiprocessing import Pool"
   ]
  },
  {
   "cell_type": "code",
   "execution_count": 2,
   "metadata": {},
   "outputs": [],
   "source": [
    "with open('FINAL_KP_TWEETS_WITH_TOPICS_SENTIMENTS.pickle', \"rb\") as f:\n",
    "    total_tweets = pickle.load(f)"
   ]
  },
  {
   "cell_type": "code",
   "execution_count": 3,
   "metadata": {},
   "outputs": [],
   "source": [
    "#Set max columns/rows\n",
    "pd.set_option('display.max_rows', None)\n",
    "pd.set_option('display.max_columns', None)\n",
    "pd.set_option('display.width', None)\n",
    "pd.set_option('display.max_colwidth', -1)"
   ]
  },
  {
   "cell_type": "code",
   "execution_count": 5,
   "metadata": {},
   "outputs": [],
   "source": [
    "#Select only family and gender tweets since 2018\n",
    "tweets = total_tweets[total_tweets[\"topic_name\"]==\"family and gender issues\"]\n",
    "tweets = tweets.set_index(\"index\")\n",
    "tweets = tweets[\"2018-01-01\":]"
   ]
  },
  {
   "cell_type": "code",
   "execution_count": null,
   "metadata": {},
   "outputs": [],
   "source": [
    "#Use keyword search to create dataframes of sub-topics in tweets and remove each categorized tweet from main dataframe.\n",
    "#Combine related tweets into sub-topic dataframes."
   ]
  },
  {
   "cell_type": "code",
   "execution_count": 13,
   "metadata": {},
   "outputs": [],
   "source": [
    "poor = tweets[tweets[\"clean_translation\"].str.contains(\"poor\", na=False)]\n",
    "tweets = tweets[~tweets[\"clean_translation\"].str.contains(\"poor\", na=False)]"
   ]
  },
  {
   "cell_type": "code",
   "execution_count": 18,
   "metadata": {},
   "outputs": [],
   "source": [
    "women = tweets[tweets[\"clean_translation\"].str.contains(\"wom\", na=False)]\n",
    "tweets = tweets[~tweets[\"clean_translation\"].str.contains(\"wom\", na=False)]"
   ]
  },
  {
   "cell_type": "code",
   "execution_count": 19,
   "metadata": {},
   "outputs": [],
   "source": [
    "children = tweets[tweets[\"clean_translation\"].str.contains(\"child\", na=False)]\n",
    "tweets = tweets[~tweets[\"clean_translation\"].str.contains(\"child\", na=False)]"
   ]
  },
  {
   "cell_type": "code",
   "execution_count": 20,
   "metadata": {},
   "outputs": [],
   "source": [
    "man = tweets[tweets[\"clean_translation\"].str.contains(\"man\", na=False)]\n",
    "tweets = tweets[~tweets[\"clean_translation\"].str.contains(\"man\", na=False)]"
   ]
  },
  {
   "cell_type": "code",
   "execution_count": 21,
   "metadata": {},
   "outputs": [],
   "source": [
    "mother = tweets[tweets[\"clean_translation\"].str.contains(\"mother\", na=False)]\n",
    "tweets = tweets[~tweets[\"clean_translation\"].str.contains(\"mother\", na=False)]"
   ]
  },
  {
   "cell_type": "code",
   "execution_count": 22,
   "metadata": {},
   "outputs": [],
   "source": [
    "father = tweets[tweets[\"clean_translation\"].str.contains(\"father\", na=False)]\n",
    "tweets = tweets[~tweets[\"clean_translation\"].str.contains(\"father\", na=False)]"
   ]
  },
  {
   "cell_type": "code",
   "execution_count": 23,
   "metadata": {},
   "outputs": [],
   "source": [
    "daughter  = tweets[tweets[\"clean_translation\"].str.contains(\"daughter\", na=False)]\n",
    "tweets = tweets[~tweets[\"clean_translation\"].str.contains(\"daughter\", na=False)]"
   ]
  },
  {
   "cell_type": "code",
   "execution_count": 24,
   "metadata": {},
   "outputs": [],
   "source": [
    "son = tweets[tweets[\"clean_translation\"].str.contains(\"son\", na=False)]\n",
    "tweets = tweets[~tweets[\"clean_translation\"].str.contains(\"son\", na=False)]"
   ]
  },
  {
   "cell_type": "code",
   "execution_count": 25,
   "metadata": {},
   "outputs": [],
   "source": [
    "wife = tweets[tweets[\"clean_translation\"].str.contains(\"wife\", na=False)]\n",
    "tweets = tweets[~tweets[\"clean_translation\"].str.contains(\"wife\", na=False)]"
   ]
  },
  {
   "cell_type": "code",
   "execution_count": 26,
   "metadata": {},
   "outputs": [],
   "source": [
    "girl = tweets[tweets[\"clean_translation\"].str.contains(\"girl\", na=False)]\n",
    "tweets = tweets[~tweets[\"clean_translation\"].str.contains(\"girl\", na=False)]"
   ]
  },
  {
   "cell_type": "code",
   "execution_count": 27,
   "metadata": {},
   "outputs": [],
   "source": [
    "brother = tweets[tweets[\"clean_translation\"].str.contains(\"brother\", na=False)]\n",
    "tweets = tweets[~tweets[\"clean_translation\"].str.contains(\"brother\", na=False)]"
   ]
  },
  {
   "cell_type": "code",
   "execution_count": 28,
   "metadata": {},
   "outputs": [],
   "source": [
    "men = tweets[tweets[\"clean_translation\"].str.contains(\"men\", na=False)]\n",
    "tweets = tweets[~tweets[\"clean_translation\"].str.contains(\"men\", na=False)]"
   ]
  },
  {
   "cell_type": "code",
   "execution_count": 29,
   "metadata": {},
   "outputs": [],
   "source": [
    "sister = tweets[tweets[\"clean_translation\"].str.contains(\"sister\", na=False)]\n",
    "tweets = tweets[~tweets[\"clean_translation\"].str.contains(\"sister\", na=False)]"
   ]
  },
  {
   "cell_type": "code",
   "execution_count": 30,
   "metadata": {},
   "outputs": [],
   "source": [
    "family = tweets[tweets[\"clean_translation\"].str.contains(\"family\", na=False)]\n",
    "tweets = tweets[~tweets[\"clean_translation\"].str.contains(\"family\", na=False)]"
   ]
  },
  {
   "cell_type": "code",
   "execution_count": 31,
   "metadata": {},
   "outputs": [],
   "source": [
    "home = tweets[tweets[\"clean_translation\"].str.contains(\"home\", na=False)]\n",
    "tweets = tweets[~tweets[\"clean_translation\"].str.contains(\"home\", na=False)]"
   ]
  },
  {
   "cell_type": "code",
   "execution_count": 32,
   "metadata": {},
   "outputs": [],
   "source": [
    "husband = tweets[tweets[\"clean_translation\"].str.contains(\"husband\", na=False)]\n",
    "tweets = tweets[~tweets[\"clean_translation\"].str.contains(\"husband\", na=False)]"
   ]
  },
  {
   "cell_type": "code",
   "execution_count": 33,
   "metadata": {},
   "outputs": [],
   "source": [
    "young = tweets[tweets[\"clean_translation\"].str.contains(\"young\", na=False)]\n",
    "tweets = tweets[~tweets[\"clean_translation\"].str.contains(\"young\", na=False)]"
   ]
  },
  {
   "cell_type": "code",
   "execution_count": 34,
   "metadata": {},
   "outputs": [],
   "source": [
    "marriage = tweets[tweets[\"clean_translation\"].str.contains(\"marr\", na=False)]\n",
    "tweets = tweets[~tweets[\"clean_translation\"].str.contains(\"marr\", na=False)]"
   ]
  },
  {
   "cell_type": "code",
   "execution_count": 35,
   "metadata": {},
   "outputs": [],
   "source": [
    "parent = tweets[tweets[\"clean_translation\"].str.contains(\"parent\", na=False)]\n",
    "tweets = tweets[~tweets[\"clean_translation\"].str.contains(\"parent\", na=False)]"
   ]
  },
  {
   "cell_type": "code",
   "execution_count": 40,
   "metadata": {},
   "outputs": [],
   "source": [
    "god = tweets[tweets[\"clean_translation\"].str.contains(\"god\", na=False)]\n",
    "tweets = tweets[~tweets[\"clean_translation\"].str.contains(\"god\", na=False)]"
   ]
  },
  {
   "cell_type": "code",
   "execution_count": 41,
   "metadata": {},
   "outputs": [],
   "source": [
    "honor = tweets[tweets[\"clean_translation\"].str.contains(\"honor\", na=False)]\n",
    "tweets = tweets[~tweets[\"clean_translation\"].str.contains(\"honor\", na=False)]"
   ]
  },
  {
   "cell_type": "code",
   "execution_count": 43,
   "metadata": {},
   "outputs": [],
   "source": [
    "shame = tweets[tweets[\"clean_translation\"].str.contains(\"shame\", na=False)]\n",
    "tweets = tweets[~tweets[\"clean_translation\"].str.contains(\"shame\", na=False)]"
   ]
  },
  {
   "cell_type": "code",
   "execution_count": 44,
   "metadata": {},
   "outputs": [],
   "source": [
    "us = tweets[tweets[\"clean_translation\"].str.contains(\"us\", na=False)]\n",
    "tweets = tweets[~tweets[\"clean_translation\"].str.contains(\"us\", na=False)]"
   ]
  },
  {
   "cell_type": "code",
   "execution_count": 45,
   "metadata": {},
   "outputs": [],
   "source": [
    "house = tweets[tweets[\"clean_translation\"].str.contains(\"house\", na=False)]\n",
    "tweets = tweets[~tweets[\"clean_translation\"].str.contains(\"house\", na=False)]"
   ]
  },
  {
   "cell_type": "code",
   "execution_count": 46,
   "metadata": {},
   "outputs": [],
   "source": [
    "curse = tweets[tweets[\"clean_translation\"].str.contains(\"curse\", na=False)]\n",
    "tweets = tweets[~tweets[\"clean_translation\"].str.contains(\"curse\", na=False)]"
   ]
  },
  {
   "cell_type": "code",
   "execution_count": 48,
   "metadata": {},
   "outputs": [],
   "source": [
    "allah = tweets[tweets[\"clean_translation\"].str.contains(\"allah\", na=False)]\n",
    "tweets = tweets[~tweets[\"clean_translation\"].str.contains(\"allah\", na=False)]"
   ]
  },
  {
   "cell_type": "code",
   "execution_count": 49,
   "metadata": {},
   "outputs": [],
   "source": [
    "haraam = tweets[tweets[\"clean_translation\"].str.contains(\"haraam\", na=False)]\n",
    "tweets = tweets[~tweets[\"clean_translation\"].str.contains(\"haraam\", na=False)]"
   ]
  },
  {
   "cell_type": "code",
   "execution_count": 50,
   "metadata": {},
   "outputs": [],
   "source": [
    "religion = tweets[tweets[\"clean_translation\"].str.contains(\"religion\", na=False)]\n",
    "tweets = tweets[~tweets[\"clean_translation\"].str.contains(\"religion\", na=False)]"
   ]
  },
  {
   "cell_type": "code",
   "execution_count": 51,
   "metadata": {},
   "outputs": [],
   "source": [
    "islam = tweets[tweets[\"clean_translation\"].str.contains(\"islam\", na=False)]\n",
    "tweets = tweets[~tweets[\"clean_translation\"].str.contains(\"islam\", na=False)]"
   ]
  },
  {
   "cell_type": "code",
   "execution_count": 52,
   "metadata": {},
   "outputs": [],
   "source": [
    "muslim = tweets[tweets[\"clean_translation\"].str.contains(\"muslim\", na=False)]\n",
    "tweets = tweets[~tweets[\"clean_translation\"].str.contains(\"muslim\", na=False)]"
   ]
  },
  {
   "cell_type": "code",
   "execution_count": 69,
   "metadata": {},
   "outputs": [],
   "source": [
    "boy = tweets[tweets[\"clean_translation\"].str.contains(\"boy\", na=False)]\n",
    "tweets = tweets[~tweets[\"clean_translation\"].str.contains(\"boy\", na=False)]"
   ]
  },
  {
   "cell_type": "code",
   "execution_count": 72,
   "metadata": {},
   "outputs": [],
   "source": [
    "trump = tweets[tweets[\"clean_translation\"].str.contains(\"trump\", na=False)]\n",
    "tweets = tweets[~tweets[\"clean_translation\"].str.contains(\"trump\", na=False)]"
   ]
  },
  {
   "cell_type": "code",
   "execution_count": 63,
   "metadata": {},
   "outputs": [],
   "source": [
    "poverty = pd.concat([poor])\n",
    "poverty[\"category\"] = \"poverty\""
   ]
  },
  {
   "cell_type": "code",
   "execution_count": 64,
   "metadata": {},
   "outputs": [],
   "source": [
    "womens_roles = pd.concat([women, mother, wife])\n",
    "womens_roles[\"category\"] = \"womens roles\""
   ]
  },
  {
   "cell_type": "code",
   "execution_count": 65,
   "metadata": {},
   "outputs": [],
   "source": [
    "mens_roles = pd.concat([man, father, men, husband])\n",
    "mens_roles[\"category\"] = \"mens roles\""
   ]
  },
  {
   "cell_type": "code",
   "execution_count": 68,
   "metadata": {},
   "outputs": [],
   "source": [
    "girls_roles = pd.concat([daughter, girl, sister])\n",
    "girls_roles[\"category\"] = \"girls roles\""
   ]
  },
  {
   "cell_type": "code",
   "execution_count": 70,
   "metadata": {},
   "outputs": [],
   "source": [
    "boys_roles = pd.concat([son, brother, boy])\n",
    "boys_roles[\"category\"] = \"boys roles\""
   ]
  },
  {
   "cell_type": "code",
   "execution_count": 71,
   "metadata": {},
   "outputs": [],
   "source": [
    "household_roles = pd.concat([parent, children, young, family, home, marriage, house])\n",
    "household_roles[\"category\"] = \"household roles\""
   ]
  },
  {
   "cell_type": "code",
   "execution_count": 73,
   "metadata": {},
   "outputs": [],
   "source": [
    "united_states = pd.concat([us, trump])\n",
    "united_states[\"category\"] = \"united states\""
   ]
  },
  {
   "cell_type": "code",
   "execution_count": 74,
   "metadata": {},
   "outputs": [],
   "source": [
    "honor_shame_curse = pd.concat([honor, shame, curse])\n",
    "honor_shame_curse[\"category\"] = \"honor shame curse\""
   ]
  },
  {
   "cell_type": "code",
   "execution_count": 75,
   "metadata": {},
   "outputs": [],
   "source": [
    "religion = pd.concat([god, allah, haraam, religion, islam, muslim])\n",
    "religion[\"category\"] = \"religion\""
   ]
  },
  {
   "cell_type": "code",
   "execution_count": 76,
   "metadata": {},
   "outputs": [],
   "source": [
    "#Combine all categorized tweets and drop duplicates\n",
    "cat_tweets = pd.concat([poverty, womens_roles, mens_roles, girls_roles, boys_roles, household_roles, united_states, honor_shame_curse, religion])\n",
    "cat_tweets = cat_tweets.reset_index()\n",
    "cat_tweets = cat_tweets.drop_duplicates([\"index\", \"clean_translation\", \"hashtags\", \"user_id\", \"user_location\"])"
   ]
  },
  {
   "cell_type": "code",
   "execution_count": 77,
   "metadata": {},
   "outputs": [],
   "source": [
    "#Set uncategorized tweets equal to \"None\" and combine categorized and uncategorized dataframes and save\n",
    "uncat = tweets\n",
    "uncat[\"category\"] = \"None\"\n",
    "tweets = pd.concat([cat_tweets, uncat])\n",
    "\n",
    "with open(\"kp_family_and_gender_tweets_categorized.pickle\", \"wb\") as f:\n",
    "    pickle.dump(tweets, f)"
   ]
  }
 ],
 "metadata": {
  "kernelspec": {
   "display_name": "Python 3",
   "language": "python",
   "name": "python3"
  },
  "language_info": {
   "codemirror_mode": {
    "name": "ipython",
    "version": 3
   },
   "file_extension": ".py",
   "mimetype": "text/x-python",
   "name": "python",
   "nbconvert_exporter": "python",
   "pygments_lexer": "ipython3",
   "version": "3.5.5"
  }
 },
 "nbformat": 4,
 "nbformat_minor": 4
}
