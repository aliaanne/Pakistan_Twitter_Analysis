{
 "cells": [
  {
   "cell_type": "code",
   "execution_count": 1,
   "metadata": {},
   "outputs": [],
   "source": [
    "import os\n",
    "import numpy as np\n",
    "import pandas as pd\n",
    "import matplotlib.pyplot as plt\n",
    "import seaborn as sns\n",
    "import itertools\n",
    "import collections\n",
    "\n",
    "import nltk\n",
    "from nltk import bigrams\n",
    "from nltk.corpus import stopwords\n",
    "import re\n",
    "import networkx as nx\n",
    "\n",
    "import warnings\n",
    "warnings.filterwarnings(\"ignore\")\n",
    "\n",
    "sns.set(font_scale=1.5)\n",
    "sns.set_style(\"whitegrid\")\n",
    "\n",
    "import pickle\n",
    "\n",
    "\n",
    "import os\n",
    "import pandas as pd\n",
    "import matplotlib.pyplot as plt\n",
    "import seaborn as sns\n",
    "import itertools\n",
    "import collections\n",
    "import pickle\n",
    "\n",
    "import nltk\n",
    "from nltk.corpus import stopwords\n",
    "import re\n",
    "\n",
    "import warnings\n",
    "warnings.filterwarnings(\"ignore\")\n",
    "\n",
    "sns.set(font_scale=1.5)\n",
    "sns.set_style(\"whitegrid\")"
   ]
  },
  {
   "cell_type": "code",
   "execution_count": 2,
   "metadata": {},
   "outputs": [],
   "source": [
    "with open('FINAL_KP_TWEETS_NO_2019_BOTS.pickle', \"rb\") as f:\n",
    "    tweets = pickle.load(f)"
   ]
  },
  {
   "cell_type": "code",
   "execution_count": 4,
   "metadata": {},
   "outputs": [],
   "source": [
    "#Select tweets in KP since 2018\n",
    "tweets = tweets.set_index(\"index\")\n",
    "tweets = tweets[\"2018-01-01\":\"2020-05-31\"]"
   ]
  },
  {
   "cell_type": "code",
   "execution_count": 121,
   "metadata": {},
   "outputs": [],
   "source": [
    "#Use keyword searches to create dataframes of by keyword, group keywords into sub-topics, group sub-topics into main topics.\n",
    "#Create counts in the dataframes for sub-topics,\n",
    "#Remove assigned tweets from main dataframe."
   ]
  },
  {
   "cell_type": "code",
   "execution_count": null,
   "metadata": {},
   "outputs": [],
   "source": [
    "#Service Delivery Keywords "
   ]
  },
  {
   "cell_type": "code",
   "execution_count": null,
   "metadata": {},
   "outputs": [],
   "source": [
    "tweets = tweets[~tweets[\"clean_translation\"].str.contains(\"water\", na=False)]"
   ]
  },
  {
   "cell_type": "code",
   "execution_count": 122,
   "metadata": {},
   "outputs": [],
   "source": [
    "dam = tweets[tweets[\"clean_translation\"].str.contains(\"dam\", na=False)]"
   ]
  },
  {
   "cell_type": "code",
   "execution_count": 123,
   "metadata": {},
   "outputs": [],
   "source": [
    "dam[\"dam\"] = 1"
   ]
  },
  {
   "cell_type": "code",
   "execution_count": 124,
   "metadata": {},
   "outputs": [],
   "source": [
    "tweets = tweets[~tweets[\"clean_translation\"].str.contains(\"dam\", na=False)]"
   ]
  },
  {
   "cell_type": "code",
   "execution_count": 125,
   "metadata": {},
   "outputs": [],
   "source": [
    "water = pd.concat([water, dam])"
   ]
  },
  {
   "cell_type": "code",
   "execution_count": 126,
   "metadata": {},
   "outputs": [],
   "source": [
    "water[\"water\"] = water[\"water\"].fillna(0)"
   ]
  },
  {
   "cell_type": "code",
   "execution_count": 127,
   "metadata": {},
   "outputs": [],
   "source": [
    "water[\"dam\"] = water[\"dam\"].fillna(0)"
   ]
  },
  {
   "cell_type": "code",
   "execution_count": 128,
   "metadata": {},
   "outputs": [],
   "source": [
    "food = tweets[tweets[\"clean_translation\"].str.contains(\"hunger\", na=False)]"
   ]
  },
  {
   "cell_type": "code",
   "execution_count": 129,
   "metadata": {},
   "outputs": [],
   "source": [
    "food = food[~food.clean_translation.str.contains(\"strike\")]"
   ]
  },
  {
   "cell_type": "code",
   "execution_count": 130,
   "metadata": {},
   "outputs": [],
   "source": [
    "food[\"hunger\"] = 1"
   ]
  },
  {
   "cell_type": "code",
   "execution_count": 131,
   "metadata": {},
   "outputs": [],
   "source": [
    "tweets = tweets[~tweets[\"clean_translation\"].str.contains(\"hunger\", na=False)]"
   ]
  },
  {
   "cell_type": "code",
   "execution_count": 132,
   "metadata": {},
   "outputs": [],
   "source": [
    "security = tweets[tweets[\"clean_translation\"].str.contains(\"food security\", na=False)]"
   ]
  },
  {
   "cell_type": "code",
   "execution_count": 133,
   "metadata": {},
   "outputs": [],
   "source": [
    "security[\"food security\"] = 1"
   ]
  },
  {
   "cell_type": "code",
   "execution_count": 134,
   "metadata": {},
   "outputs": [],
   "source": [
    "tweets = tweets[~tweets[\"clean_translation\"].str.contains(\"food security\", na=False)]"
   ]
  },
  {
   "cell_type": "code",
   "execution_count": 135,
   "metadata": {},
   "outputs": [],
   "source": [
    "prices = tweets[tweets[\"clean_translation\"].str.contains(\"food price\", na=False)]"
   ]
  },
  {
   "cell_type": "code",
   "execution_count": 136,
   "metadata": {},
   "outputs": [],
   "source": [
    "prices[\"prices\"] = 1"
   ]
  },
  {
   "cell_type": "code",
   "execution_count": 137,
   "metadata": {},
   "outputs": [],
   "source": [
    "tweets = tweets[~tweets[\"clean_translation\"].str.contains(\"food price\", na=False)]"
   ]
  },
  {
   "cell_type": "code",
   "execution_count": 138,
   "metadata": {},
   "outputs": [],
   "source": [
    "hungry = tweets[tweets[\"clean_translation\"].str.contains(\"hungry\", na=False)]"
   ]
  },
  {
   "cell_type": "code",
   "execution_count": 139,
   "metadata": {},
   "outputs": [],
   "source": [
    "hungry[\"hunger\"] = 1"
   ]
  },
  {
   "cell_type": "code",
   "execution_count": 140,
   "metadata": {},
   "outputs": [],
   "source": [
    "tweets = tweets[~tweets[\"clean_translation\"].str.contains(\"hungry\", na=False)]"
   ]
  },
  {
   "cell_type": "code",
   "execution_count": 141,
   "metadata": {},
   "outputs": [],
   "source": [
    "flour = tweets[tweets[\"clean_translation\"].str.contains(\"flour\", na=False)]"
   ]
  },
  {
   "cell_type": "code",
   "execution_count": 142,
   "metadata": {},
   "outputs": [],
   "source": [
    "flour[\"flour\"] = 1"
   ]
  },
  {
   "cell_type": "code",
   "execution_count": 143,
   "metadata": {},
   "outputs": [],
   "source": [
    "tweets = tweets[~tweets[\"clean_translation\"].str.contains(\"flour\", na=False)]"
   ]
  },
  {
   "cell_type": "code",
   "execution_count": 144,
   "metadata": {},
   "outputs": [],
   "source": [
    "sugar = tweets[tweets[\"clean_translation\"].str.contains(\"sugar\", na=False)]"
   ]
  },
  {
   "cell_type": "code",
   "execution_count": 145,
   "metadata": {},
   "outputs": [],
   "source": [
    "sugar[\"sugar\"] = 1"
   ]
  },
  {
   "cell_type": "code",
   "execution_count": 146,
   "metadata": {},
   "outputs": [],
   "source": [
    "tweets = tweets[~tweets[\"clean_translation\"].str.contains(\"sugar\", na=False)]"
   ]
  },
  {
   "cell_type": "code",
   "execution_count": 147,
   "metadata": {},
   "outputs": [],
   "source": [
    "wheat = tweets[tweets[\"clean_translation\"].str.contains(\"wheat\", na=False)]"
   ]
  },
  {
   "cell_type": "code",
   "execution_count": 148,
   "metadata": {},
   "outputs": [],
   "source": [
    "wheat[\"wheat\"] = 1"
   ]
  },
  {
   "cell_type": "code",
   "execution_count": 149,
   "metadata": {},
   "outputs": [],
   "source": [
    "tweets = tweets[~tweets[\"clean_translation\"].str.contains(\"wheat\", na=False)]"
   ]
  },
  {
   "cell_type": "code",
   "execution_count": 150,
   "metadata": {},
   "outputs": [],
   "source": [
    "food = pd.concat([food, security, prices, hungry, flour, sugar, wheat])"
   ]
  },
  {
   "cell_type": "code",
   "execution_count": 151,
   "metadata": {},
   "outputs": [],
   "source": [
    "food[\"hunger\"] = food[\"hunger\"].fillna(0)"
   ]
  },
  {
   "cell_type": "code",
   "execution_count": 152,
   "metadata": {},
   "outputs": [],
   "source": [
    "food[\"food security\"] = food[\"food security\"].fillna(0)"
   ]
  },
  {
   "cell_type": "code",
   "execution_count": 153,
   "metadata": {},
   "outputs": [],
   "source": [
    "food[\"prices\"] = food[\"prices\"].fillna(0)"
   ]
  },
  {
   "cell_type": "code",
   "execution_count": 154,
   "metadata": {},
   "outputs": [],
   "source": [
    "food[\"flour\"] = food[\"flour\"].fillna(0)"
   ]
  },
  {
   "cell_type": "code",
   "execution_count": 155,
   "metadata": {},
   "outputs": [],
   "source": [
    "food[\"sugar\"] = food[\"sugar\"].fillna(0)"
   ]
  },
  {
   "cell_type": "code",
   "execution_count": 156,
   "metadata": {},
   "outputs": [],
   "source": [
    "food[\"wheat\"] = food[\"wheat\"].fillna(0)"
   ]
  },
  {
   "cell_type": "code",
   "execution_count": 158,
   "metadata": {},
   "outputs": [],
   "source": [
    "sanitation = tweets[tweets[\"clean_translation\"].str.contains(\"sanitation\", na=False)]"
   ]
  },
  {
   "cell_type": "code",
   "execution_count": 159,
   "metadata": {},
   "outputs": [],
   "source": [
    "sanitation[\"sanitation\"] = 1"
   ]
  },
  {
   "cell_type": "code",
   "execution_count": 160,
   "metadata": {},
   "outputs": [],
   "source": [
    "tweets = tweets[~tweets[\"clean_translation\"].str.contains(\"sanitation\", na=False)]"
   ]
  },
  {
   "cell_type": "code",
   "execution_count": 161,
   "metadata": {},
   "outputs": [],
   "source": [
    "garbage = tweets[tweets[\"clean_translation\"].str.contains(\"garbage\", na=False)]"
   ]
  },
  {
   "cell_type": "code",
   "execution_count": 162,
   "metadata": {},
   "outputs": [],
   "source": [
    "garbage[\"garbage\"] = 1"
   ]
  },
  {
   "cell_type": "code",
   "execution_count": 163,
   "metadata": {},
   "outputs": [],
   "source": [
    "tweets = tweets[~tweets[\"clean_translation\"].str.contains(\"garbage\", na=False)]"
   ]
  },
  {
   "cell_type": "code",
   "execution_count": 164,
   "metadata": {},
   "outputs": [],
   "source": [
    "toilet = tweets[tweets[\"clean_translation\"].str.contains(\"toilet\", na=False)]"
   ]
  },
  {
   "cell_type": "code",
   "execution_count": 165,
   "metadata": {},
   "outputs": [],
   "source": [
    "toilet[\"toilet\"] = 1"
   ]
  },
  {
   "cell_type": "code",
   "execution_count": 166,
   "metadata": {},
   "outputs": [],
   "source": [
    "tweets = tweets[~tweets[\"clean_translation\"].str.contains(\"toilet\", na=False)]"
   ]
  },
  {
   "cell_type": "code",
   "execution_count": 167,
   "metadata": {},
   "outputs": [],
   "source": [
    "sanitation = pd.concat([sanitation, garbage, toilet])"
   ]
  },
  {
   "cell_type": "code",
   "execution_count": 168,
   "metadata": {},
   "outputs": [],
   "source": [
    "sanitation[\"sanitation\"] = sanitation[\"sanitation\"].fillna(0)"
   ]
  },
  {
   "cell_type": "code",
   "execution_count": 169,
   "metadata": {},
   "outputs": [],
   "source": [
    "sanitation[\"garbage\"] = sanitation[\"garbage\"].fillna(0)"
   ]
  },
  {
   "cell_type": "code",
   "execution_count": 170,
   "metadata": {},
   "outputs": [],
   "source": [
    "sanitation[\"toilet\"] = sanitation[\"toilet\"].fillna(0)"
   ]
  },
  {
   "cell_type": "code",
   "execution_count": 172,
   "metadata": {},
   "outputs": [],
   "source": [
    "energy = tweets[tweets[\"clean_translation\"].str.contains(\"energy\", na=False)]"
   ]
  },
  {
   "cell_type": "code",
   "execution_count": 173,
   "metadata": {},
   "outputs": [],
   "source": [
    "energy[\"energy\"] = 1"
   ]
  },
  {
   "cell_type": "code",
   "execution_count": 174,
   "metadata": {},
   "outputs": [],
   "source": [
    "tweets = tweets[~tweets[\"clean_translation\"].str.contains(\"energy\", na=False)]"
   ]
  },
  {
   "cell_type": "code",
   "execution_count": 175,
   "metadata": {},
   "outputs": [],
   "source": [
    "electric = tweets[tweets[\"clean_translation\"].str.contains(\"electric\", na=False)]"
   ]
  },
  {
   "cell_type": "code",
   "execution_count": 176,
   "metadata": {},
   "outputs": [],
   "source": [
    "electric[\"electric\"] = 1"
   ]
  },
  {
   "cell_type": "code",
   "execution_count": 177,
   "metadata": {},
   "outputs": [],
   "source": [
    "tweets = tweets[~tweets[\"clean_translation\"].str.contains(\"electric\", na=False)]"
   ]
  },
  {
   "cell_type": "code",
   "execution_count": 178,
   "metadata": {},
   "outputs": [],
   "source": [
    "gas = tweets[tweets[\"clean_translation\"].str.contains(\"gas\", na=False)]"
   ]
  },
  {
   "cell_type": "code",
   "execution_count": 179,
   "metadata": {},
   "outputs": [],
   "source": [
    "gas = gas[~gas.clean_translation.str.contains(\"tear\")]"
   ]
  },
  {
   "cell_type": "code",
   "execution_count": 180,
   "metadata": {},
   "outputs": [],
   "source": [
    "gas[\"gas\"] = 1"
   ]
  },
  {
   "cell_type": "code",
   "execution_count": 181,
   "metadata": {},
   "outputs": [],
   "source": [
    "tweets = tweets[~tweets[\"clean_translation\"].str.contains(\"gas\", na=False)]"
   ]
  },
  {
   "cell_type": "code",
   "execution_count": 182,
   "metadata": {},
   "outputs": [],
   "source": [
    "petrol = tweets[tweets[\"clean_translation\"].str.contains(\"petrol\", na=False)]"
   ]
  },
  {
   "cell_type": "code",
   "execution_count": 183,
   "metadata": {},
   "outputs": [],
   "source": [
    "petrol[\"petrol\"] = 1"
   ]
  },
  {
   "cell_type": "code",
   "execution_count": 184,
   "metadata": {},
   "outputs": [],
   "source": [
    "tweets = tweets[~tweets[\"clean_translation\"].str.contains(\"petrol\", na=False)]"
   ]
  },
  {
   "cell_type": "code",
   "execution_count": 185,
   "metadata": {},
   "outputs": [],
   "source": [
    "loadshedding = tweets[tweets[\"clean_translation\"].str.contains(\"shedding\", na=False)]"
   ]
  },
  {
   "cell_type": "code",
   "execution_count": 186,
   "metadata": {},
   "outputs": [],
   "source": [
    "loadshedding[\"loadshedding\"] = 1"
   ]
  },
  {
   "cell_type": "code",
   "execution_count": 187,
   "metadata": {},
   "outputs": [],
   "source": [
    "tweets = tweets[~tweets[\"clean_translation\"].str.contains(\"shedding\", na=False)]"
   ]
  },
  {
   "cell_type": "code",
   "execution_count": 188,
   "metadata": {},
   "outputs": [],
   "source": [
    "energy = pd.concat([energy, electric, gas, petrol, loadshedding])"
   ]
  },
  {
   "cell_type": "code",
   "execution_count": 189,
   "metadata": {},
   "outputs": [],
   "source": [
    "energy[\"energy\"] = energy[\"energy\"].fillna(0)"
   ]
  },
  {
   "cell_type": "code",
   "execution_count": 190,
   "metadata": {},
   "outputs": [],
   "source": [
    "energy[\"electric\"] = energy[\"electric\"].fillna(0)"
   ]
  },
  {
   "cell_type": "code",
   "execution_count": 191,
   "metadata": {},
   "outputs": [],
   "source": [
    "energy[\"gas\"] = energy[\"gas\"].fillna(0)"
   ]
  },
  {
   "cell_type": "code",
   "execution_count": 192,
   "metadata": {},
   "outputs": [],
   "source": [
    "energy[\"petrol\"] = energy[\"petrol\"].fillna(0)"
   ]
  },
  {
   "cell_type": "code",
   "execution_count": 193,
   "metadata": {},
   "outputs": [],
   "source": [
    "energy[\"loadshedding\"] = energy[\"loadshedding\"].fillna(0)"
   ]
  },
  {
   "cell_type": "code",
   "execution_count": 194,
   "metadata": {},
   "outputs": [],
   "source": [
    "internet = tweets[tweets[\"clean_translation\"].str.contains(\"internet\", na=False)]"
   ]
  },
  {
   "cell_type": "code",
   "execution_count": 195,
   "metadata": {},
   "outputs": [],
   "source": [
    "internet[\"internet\"] = 1"
   ]
  },
  {
   "cell_type": "code",
   "execution_count": 196,
   "metadata": {},
   "outputs": [],
   "source": [
    "tweets = tweets[~tweets[\"clean_translation\"].str.contains(\"internet\", na=False)]"
   ]
  },
  {
   "cell_type": "code",
   "execution_count": 197,
   "metadata": {},
   "outputs": [],
   "source": [
    "blackout = tweets[tweets[\"clean_translation\"].str.contains(\"blackout\", na=False)]"
   ]
  },
  {
   "cell_type": "code",
   "execution_count": 198,
   "metadata": {},
   "outputs": [],
   "source": [
    "blackout[\"blackout\"] = 1"
   ]
  },
  {
   "cell_type": "code",
   "execution_count": 199,
   "metadata": {},
   "outputs": [],
   "source": [
    "tweets = tweets[~tweets[\"clean_translation\"].str.contains(\"blackout\", na=False)]"
   ]
  },
  {
   "cell_type": "code",
   "execution_count": 200,
   "metadata": {},
   "outputs": [],
   "source": [
    "internet = pd.concat([internet, blackout])"
   ]
  },
  {
   "cell_type": "code",
   "execution_count": 201,
   "metadata": {},
   "outputs": [],
   "source": [
    "internet[\"internet\"] = internet[\"internet\"].fillna(0)"
   ]
  },
  {
   "cell_type": "code",
   "execution_count": 202,
   "metadata": {},
   "outputs": [],
   "source": [
    "internet[\"blackout\"] = internet[\"blackout\"].fillna(0)"
   ]
  },
  {
   "cell_type": "code",
   "execution_count": 203,
   "metadata": {},
   "outputs": [],
   "source": [
    "agriculture = tweets[tweets[\"clean_translation\"].str.contains(\"agriculture\", na=False)]"
   ]
  },
  {
   "cell_type": "code",
   "execution_count": 204,
   "metadata": {},
   "outputs": [],
   "source": [
    "agriculture[\"agriculture\"] = 1"
   ]
  },
  {
   "cell_type": "code",
   "execution_count": 205,
   "metadata": {},
   "outputs": [],
   "source": [
    "tweets = tweets[~tweets[\"clean_translation\"].str.contains(\"agriculture\", na=False)]"
   ]
  },
  {
   "cell_type": "code",
   "execution_count": 206,
   "metadata": {},
   "outputs": [],
   "source": [
    "farm = tweets[tweets[\"clean_translation\"].str.contains(\"farm\", na=False)]"
   ]
  },
  {
   "cell_type": "code",
   "execution_count": 207,
   "metadata": {},
   "outputs": [],
   "source": [
    "farm[\"farm\"] = 1"
   ]
  },
  {
   "cell_type": "code",
   "execution_count": 208,
   "metadata": {},
   "outputs": [],
   "source": [
    "tweets = tweets[~tweets[\"clean_translation\"].str.contains(\"farm\", na=False)]"
   ]
  },
  {
   "cell_type": "code",
   "execution_count": 209,
   "metadata": {},
   "outputs": [],
   "source": [
    "crop = tweets[tweets[\"clean_translation\"].str.contains(\"crop\", na=False)]"
   ]
  },
  {
   "cell_type": "code",
   "execution_count": 210,
   "metadata": {},
   "outputs": [],
   "source": [
    "crop[\"crop\"] = 1"
   ]
  },
  {
   "cell_type": "code",
   "execution_count": 211,
   "metadata": {},
   "outputs": [],
   "source": [
    "tweets = tweets[~tweets[\"clean_translation\"].str.contains(\"crop\", na=False)]"
   ]
  },
  {
   "cell_type": "code",
   "execution_count": 212,
   "metadata": {},
   "outputs": [],
   "source": [
    "irrigation = tweets[tweets[\"clean_translation\"].str.contains(\"irrigat\", na=False)]"
   ]
  },
  {
   "cell_type": "code",
   "execution_count": 213,
   "metadata": {},
   "outputs": [],
   "source": [
    "irrigation[\"irrigation\"] = 1"
   ]
  },
  {
   "cell_type": "code",
   "execution_count": 214,
   "metadata": {},
   "outputs": [],
   "source": [
    "tweets = tweets[~tweets[\"clean_translation\"].str.contains(\"irrigation\", na=False)]"
   ]
  },
  {
   "cell_type": "code",
   "execution_count": 215,
   "metadata": {},
   "outputs": [],
   "source": [
    "harvest = tweets[tweets[\"clean_translation\"].str.contains(\"harvest\", na=False)]"
   ]
  },
  {
   "cell_type": "code",
   "execution_count": 216,
   "metadata": {},
   "outputs": [],
   "source": [
    "harvest[\"harvest\"] = 1"
   ]
  },
  {
   "cell_type": "code",
   "execution_count": 217,
   "metadata": {},
   "outputs": [],
   "source": [
    "tweets = tweets[~tweets[\"clean_translation\"].str.contains(\"harvest\", na=False)]"
   ]
  },
  {
   "cell_type": "code",
   "execution_count": 218,
   "metadata": {},
   "outputs": [],
   "source": [
    "agriculture = pd.concat([agriculture, farm, crop, irrigation, harvest])"
   ]
  },
  {
   "cell_type": "code",
   "execution_count": 219,
   "metadata": {},
   "outputs": [],
   "source": [
    "agriculture[\"agriculture\"] = agriculture[\"agriculture\"].fillna(0)"
   ]
  },
  {
   "cell_type": "code",
   "execution_count": 220,
   "metadata": {},
   "outputs": [],
   "source": [
    "agriculture[\"farm\"] = agriculture[\"farm\"].fillna(0)"
   ]
  },
  {
   "cell_type": "code",
   "execution_count": 221,
   "metadata": {},
   "outputs": [],
   "source": [
    "agriculture[\"crop\"] = agriculture[\"crop\"].fillna(0)"
   ]
  },
  {
   "cell_type": "code",
   "execution_count": 222,
   "metadata": {},
   "outputs": [],
   "source": [
    "agriculture[\"irrigation\"] = agriculture[\"irrigation\"].fillna(0)"
   ]
  },
  {
   "cell_type": "code",
   "execution_count": 223,
   "metadata": {},
   "outputs": [],
   "source": [
    "agriculture[\"harvest\"] = agriculture[\"harvest\"].fillna(0)"
   ]
  },
  {
   "cell_type": "code",
   "execution_count": 224,
   "metadata": {},
   "outputs": [],
   "source": [
    "nr = tweets[tweets[\"clean_translation\"].str.contains(\"natural resource\", na=False)]"
   ]
  },
  {
   "cell_type": "code",
   "execution_count": 225,
   "metadata": {},
   "outputs": [],
   "source": [
    "nr[\"natural resources\"] = 1"
   ]
  },
  {
   "cell_type": "code",
   "execution_count": 226,
   "metadata": {},
   "outputs": [],
   "source": [
    "tweets = tweets[~tweets[\"clean_translation\"].str.contains(\"natural resource\", na=False)]"
   ]
  },
  {
   "cell_type": "code",
   "execution_count": 227,
   "metadata": {},
   "outputs": [],
   "source": [
    "mineral = tweets[tweets[\"clean_translation\"].str.contains(\"mineral\", na=False)]"
   ]
  },
  {
   "cell_type": "code",
   "execution_count": 228,
   "metadata": {},
   "outputs": [],
   "source": [
    "mineral[\"mineral\"] = 1"
   ]
  },
  {
   "cell_type": "code",
   "execution_count": 229,
   "metadata": {},
   "outputs": [],
   "source": [
    "mineral = mineral[~mineral.clean_translation.str.contains(\"water\")]"
   ]
  },
  {
   "cell_type": "code",
   "execution_count": 230,
   "metadata": {},
   "outputs": [],
   "source": [
    "tweets = tweets[~tweets[\"clean_translation\"].str.contains(\"mineral\", na=False)]"
   ]
  },
  {
   "cell_type": "code",
   "execution_count": 231,
   "metadata": {},
   "outputs": [],
   "source": [
    "forest = tweets[tweets[\"clean_translation\"].str.contains(\"forest\", na=False)]"
   ]
  },
  {
   "cell_type": "code",
   "execution_count": 232,
   "metadata": {},
   "outputs": [],
   "source": [
    "forest[\"forest\"] = 1"
   ]
  },
  {
   "cell_type": "code",
   "execution_count": 233,
   "metadata": {},
   "outputs": [],
   "source": [
    "tweets = tweets[~tweets[\"clean_translation\"].str.contains(\"forest\", na=False)]"
   ]
  },
  {
   "cell_type": "code",
   "execution_count": 234,
   "metadata": {},
   "outputs": [],
   "source": [
    "trees = tweets[tweets[\"clean_translation\"].str.contains(\"tree\", na=False)]"
   ]
  },
  {
   "cell_type": "code",
   "execution_count": 235,
   "metadata": {},
   "outputs": [],
   "source": [
    "trees[\"trees\"] = 1"
   ]
  },
  {
   "cell_type": "code",
   "execution_count": 236,
   "metadata": {},
   "outputs": [],
   "source": [
    "tweets = tweets[~tweets[\"clean_translation\"].str.contains(\"tree\", na=False)]"
   ]
  },
  {
   "cell_type": "code",
   "execution_count": 237,
   "metadata": {},
   "outputs": [],
   "source": [
    "climate = tweets[tweets[\"clean_translation\"].str.contains(\"climate\", na=False)]"
   ]
  },
  {
   "cell_type": "code",
   "execution_count": 238,
   "metadata": {},
   "outputs": [],
   "source": [
    "climate[\"climate\"] = 1"
   ]
  },
  {
   "cell_type": "code",
   "execution_count": 239,
   "metadata": {},
   "outputs": [],
   "source": [
    "tweets = tweets[~tweets[\"clean_translation\"].str.contains(\"climate\", na=False)]"
   ]
  },
  {
   "cell_type": "code",
   "execution_count": 240,
   "metadata": {},
   "outputs": [],
   "source": [
    "nr = pd.concat([nr, mineral, forest, trees, climate])"
   ]
  },
  {
   "cell_type": "code",
   "execution_count": 241,
   "metadata": {},
   "outputs": [],
   "source": [
    "nr[\"natural resources\"] = nr[\"natural resources\"].fillna(0)"
   ]
  },
  {
   "cell_type": "code",
   "execution_count": 242,
   "metadata": {},
   "outputs": [],
   "source": [
    "nr[\"mineral\"] = nr[\"mineral\"].fillna(0)"
   ]
  },
  {
   "cell_type": "code",
   "execution_count": 243,
   "metadata": {},
   "outputs": [],
   "source": [
    "nr[\"forest\"] = nr[\"forest\"].fillna(0)"
   ]
  },
  {
   "cell_type": "code",
   "execution_count": 244,
   "metadata": {},
   "outputs": [],
   "source": [
    "nr[\"trees\"] = nr[\"trees\"].fillna(0)"
   ]
  },
  {
   "cell_type": "code",
   "execution_count": 245,
   "metadata": {},
   "outputs": [],
   "source": [
    "nr[\"climate\"] = nr[\"climate\"].fillna(0)"
   ]
  },
  {
   "cell_type": "code",
   "execution_count": 246,
   "metadata": {},
   "outputs": [],
   "source": [
    "healthcare = tweets[tweets[\"clean_translation\"].str.contains(\"healthcare\", na=False)]"
   ]
  },
  {
   "cell_type": "code",
   "execution_count": 247,
   "metadata": {},
   "outputs": [],
   "source": [
    "healthcare[\"healthcare\"] = 1"
   ]
  },
  {
   "cell_type": "code",
   "execution_count": 248,
   "metadata": {},
   "outputs": [],
   "source": [
    "tweets = tweets[~tweets[\"clean_translation\"].str.contains(\"healthcare\", na=False)]"
   ]
  },
  {
   "cell_type": "code",
   "execution_count": 249,
   "metadata": {},
   "outputs": [],
   "source": [
    "medical = tweets[tweets[\"clean_translation\"].str.contains(\"medical\", na=False)]"
   ]
  },
  {
   "cell_type": "code",
   "execution_count": 250,
   "metadata": {},
   "outputs": [],
   "source": [
    "medical[\"medical\"] = 1"
   ]
  },
  {
   "cell_type": "code",
   "execution_count": 251,
   "metadata": {},
   "outputs": [],
   "source": [
    "tweets = tweets[~tweets[\"clean_translation\"].str.contains(\"medical\", na=False)]"
   ]
  },
  {
   "cell_type": "code",
   "execution_count": 254,
   "metadata": {},
   "outputs": [],
   "source": [
    "hospitals = tweets[tweets[\"clean_translation\"].str.contains(\"hospital\", na=False)]"
   ]
  },
  {
   "cell_type": "code",
   "execution_count": 255,
   "metadata": {},
   "outputs": [],
   "source": [
    "hospitals[\"hospitals\"] = 1"
   ]
  },
  {
   "cell_type": "code",
   "execution_count": 256,
   "metadata": {},
   "outputs": [],
   "source": [
    "tweets = tweets[~tweets[\"clean_translation\"].str.contains(\"hospital\", na=False)]"
   ]
  },
  {
   "cell_type": "code",
   "execution_count": 257,
   "metadata": {},
   "outputs": [],
   "source": [
    "vaccine = tweets[tweets[\"clean_translation\"].str.contains(\"vaccine\", na=False)]"
   ]
  },
  {
   "cell_type": "code",
   "execution_count": 258,
   "metadata": {},
   "outputs": [],
   "source": [
    "vaccine[\"vaccine\"] = 1"
   ]
  },
  {
   "cell_type": "code",
   "execution_count": 259,
   "metadata": {},
   "outputs": [],
   "source": [
    "tweets = tweets[~tweets[\"clean_translation\"].str.contains(\"vaccine\", na=False)]"
   ]
  },
  {
   "cell_type": "code",
   "execution_count": 262,
   "metadata": {},
   "outputs": [],
   "source": [
    "doctors = tweets[tweets[\"clean_translation\"].str.contains(\"doctor\", na=False)]"
   ]
  },
  {
   "cell_type": "code",
   "execution_count": 263,
   "metadata": {},
   "outputs": [],
   "source": [
    "doctors[\"doctors\"] = 1"
   ]
  },
  {
   "cell_type": "code",
   "execution_count": 264,
   "metadata": {},
   "outputs": [],
   "source": [
    "tweets = tweets[~tweets[\"clean_translation\"].str.contains(\"doctor\", na=False)]"
   ]
  },
  {
   "cell_type": "code",
   "execution_count": 265,
   "metadata": {},
   "outputs": [],
   "source": [
    "medicine = tweets[tweets[\"clean_translation\"].str.contains(\"medicine\", na=False)]"
   ]
  },
  {
   "cell_type": "code",
   "execution_count": 266,
   "metadata": {},
   "outputs": [],
   "source": [
    "medicine[\"medicine\"] = 1"
   ]
  },
  {
   "cell_type": "code",
   "execution_count": 267,
   "metadata": {},
   "outputs": [],
   "source": [
    "tweets = tweets[~tweets[\"clean_translation\"].str.contains(\"medicine\", na=False)]"
   ]
  },
  {
   "cell_type": "code",
   "execution_count": 268,
   "metadata": {},
   "outputs": [],
   "source": [
    "hi = tweets[tweets[\"clean_translation\"].str.contains(\"health insurance\", na=False)]"
   ]
  },
  {
   "cell_type": "code",
   "execution_count": 269,
   "metadata": {},
   "outputs": [],
   "source": [
    "hi[\"health insurance\"] = 1"
   ]
  },
  {
   "cell_type": "code",
   "execution_count": 270,
   "metadata": {},
   "outputs": [],
   "source": [
    "tweets = tweets[~tweets[\"clean_translation\"].str.contains(\"health insurance\", na=False)]"
   ]
  },
  {
   "cell_type": "code",
   "execution_count": 271,
   "metadata": {},
   "outputs": [],
   "source": [
    "polio = tweets[tweets[\"clean_translation\"].str.contains(\"polio\", na=False)]"
   ]
  },
  {
   "cell_type": "code",
   "execution_count": 272,
   "metadata": {},
   "outputs": [],
   "source": [
    "polio[\"polio\"] = 1"
   ]
  },
  {
   "cell_type": "code",
   "execution_count": 273,
   "metadata": {},
   "outputs": [],
   "source": [
    "tweets = tweets[~tweets[\"clean_translation\"].str.contains(\"polio\", na=False)]"
   ]
  },
  {
   "cell_type": "code",
   "execution_count": 274,
   "metadata": {},
   "outputs": [],
   "source": [
    "covid = tweets[tweets[\"clean_translation\"].str.contains(\"covid\", na=False)]"
   ]
  },
  {
   "cell_type": "code",
   "execution_count": 275,
   "metadata": {},
   "outputs": [],
   "source": [
    "covid[\"covid\"] = 1"
   ]
  },
  {
   "cell_type": "code",
   "execution_count": 276,
   "metadata": {},
   "outputs": [],
   "source": [
    "tweets = tweets[~tweets[\"clean_translation\"].str.contains(\"covid\", na=False)]"
   ]
  },
  {
   "cell_type": "code",
   "execution_count": 277,
   "metadata": {},
   "outputs": [],
   "source": [
    "corona = tweets[tweets[\"clean_translation\"].str.contains(\"corona\", na=False)]"
   ]
  },
  {
   "cell_type": "code",
   "execution_count": 278,
   "metadata": {},
   "outputs": [],
   "source": [
    "corona[\"covid\"] = 1"
   ]
  },
  {
   "cell_type": "code",
   "execution_count": 279,
   "metadata": {},
   "outputs": [],
   "source": [
    "tweets = tweets[~tweets[\"clean_translation\"].str.contains(\"covid\", na=False)]"
   ]
  },
  {
   "cell_type": "code",
   "execution_count": 280,
   "metadata": {},
   "outputs": [],
   "source": [
    "healthcare = pd.concat([healthcare, medical, hospitals, vaccine, doctors, medicine, hi, polio, covid, corona])"
   ]
  },
  {
   "cell_type": "code",
   "execution_count": 281,
   "metadata": {},
   "outputs": [],
   "source": [
    "healthcare[\"healthcare\"] = healthcare[\"healthcare\"].fillna(0)"
   ]
  },
  {
   "cell_type": "code",
   "execution_count": 282,
   "metadata": {},
   "outputs": [],
   "source": [
    "healthcare[\"medical\"] = healthcare[\"medical\"].fillna(0)"
   ]
  },
  {
   "cell_type": "code",
   "execution_count": 283,
   "metadata": {},
   "outputs": [],
   "source": [
    "healthcare[\"hospitals\"] = healthcare[\"hospitals\"].fillna(0)"
   ]
  },
  {
   "cell_type": "code",
   "execution_count": 284,
   "metadata": {},
   "outputs": [],
   "source": [
    "healthcare[\"vaccine\"] = healthcare[\"vaccine\"].fillna(0)"
   ]
  },
  {
   "cell_type": "code",
   "execution_count": 285,
   "metadata": {},
   "outputs": [],
   "source": [
    "healthcare[\"doctors\"] = healthcare[\"doctors\"].fillna(0)"
   ]
  },
  {
   "cell_type": "code",
   "execution_count": 286,
   "metadata": {},
   "outputs": [],
   "source": [
    "healthcare[\"medicine\"] = healthcare[\"medicine\"].fillna(0)"
   ]
  },
  {
   "cell_type": "code",
   "execution_count": 287,
   "metadata": {},
   "outputs": [],
   "source": [
    "healthcare[\"covid\"] = healthcare[\"covid\"].fillna(0)"
   ]
  },
  {
   "cell_type": "code",
   "execution_count": 288,
   "metadata": {},
   "outputs": [],
   "source": [
    "healthcare[\"polio\"] = healthcare[\"polio\"].fillna(0)"
   ]
  },
  {
   "cell_type": "code",
   "execution_count": 289,
   "metadata": {},
   "outputs": [],
   "source": [
    "healthcare[\"health insurance\"] = healthcare[\"health insurance\"].fillna(0)"
   ]
  },
  {
   "cell_type": "code",
   "execution_count": 290,
   "metadata": {},
   "outputs": [],
   "source": [
    "development = tweets[tweets[\"clean_translation\"].str.contains(\"development\", na=False)]"
   ]
  },
  {
   "cell_type": "code",
   "execution_count": 291,
   "metadata": {},
   "outputs": [],
   "source": [
    "development[\"development\"] = 1"
   ]
  },
  {
   "cell_type": "code",
   "execution_count": 292,
   "metadata": {},
   "outputs": [],
   "source": [
    "tweets = tweets[~tweets[\"clean_translation\"].str.contains(\"development\", na=False)]"
   ]
  },
  {
   "cell_type": "code",
   "execution_count": 293,
   "metadata": {},
   "outputs": [],
   "source": [
    "economic = tweets[tweets[\"clean_translation\"].str.contains(\"economic\", na=False)]"
   ]
  },
  {
   "cell_type": "code",
   "execution_count": 294,
   "metadata": {},
   "outputs": [],
   "source": [
    "economic[\"economic\"] = 1"
   ]
  },
  {
   "cell_type": "code",
   "execution_count": 295,
   "metadata": {},
   "outputs": [],
   "source": [
    "tweets = tweets[~tweets[\"clean_translation\"].str.contains(\"economic\", na=False)]"
   ]
  },
  {
   "cell_type": "code",
   "execution_count": 296,
   "metadata": {},
   "outputs": [],
   "source": [
    "poverty = tweets[tweets[\"clean_translation\"].str.contains(\"poverty\", na=False)]"
   ]
  },
  {
   "cell_type": "code",
   "execution_count": 297,
   "metadata": {},
   "outputs": [],
   "source": [
    "poverty[\"poverty\"] = 1"
   ]
  },
  {
   "cell_type": "code",
   "execution_count": 298,
   "metadata": {},
   "outputs": [],
   "source": [
    "tweets = tweets[~tweets[\"clean_translation\"].str.contains(\"poverty\", na=False)]"
   ]
  },
  {
   "cell_type": "code",
   "execution_count": 299,
   "metadata": {},
   "outputs": [],
   "source": [
    "poor = tweets[tweets[\"clean_translation\"].str.contains(\"poor\", na=False)]"
   ]
  },
  {
   "cell_type": "code",
   "execution_count": 300,
   "metadata": {},
   "outputs": [],
   "source": [
    "poor[\"poor\"] = 1"
   ]
  },
  {
   "cell_type": "code",
   "execution_count": 301,
   "metadata": {},
   "outputs": [],
   "source": [
    "tweets = tweets[~tweets[\"clean_translation\"].str.contains(\"poor\", na=False)]"
   ]
  },
  {
   "cell_type": "code",
   "execution_count": 302,
   "metadata": {},
   "outputs": [],
   "source": [
    "development = pd.concat([development, economic, poverty, poor])"
   ]
  },
  {
   "cell_type": "code",
   "execution_count": 303,
   "metadata": {},
   "outputs": [],
   "source": [
    "development[\"development\"] = development[\"development\"].fillna(0)"
   ]
  },
  {
   "cell_type": "code",
   "execution_count": 304,
   "metadata": {},
   "outputs": [],
   "source": [
    "development[\"economic\"] = development[\"economic\"].fillna(0)"
   ]
  },
  {
   "cell_type": "code",
   "execution_count": 305,
   "metadata": {},
   "outputs": [],
   "source": [
    "development[\"poverty\"] = development[\"poverty\"].fillna(0)"
   ]
  },
  {
   "cell_type": "code",
   "execution_count": 306,
   "metadata": {},
   "outputs": [],
   "source": [
    "development[\"poor\"] = development[\"poor\"].fillna(0)"
   ]
  },
  {
   "cell_type": "code",
   "execution_count": 307,
   "metadata": {},
   "outputs": [],
   "source": [
    "education = tweets[tweets[\"clean_translation\"].str.contains(\"education\", na=False)]"
   ]
  },
  {
   "cell_type": "code",
   "execution_count": 308,
   "metadata": {},
   "outputs": [],
   "source": [
    "education[\"education\"] = 1"
   ]
  },
  {
   "cell_type": "code",
   "execution_count": 309,
   "metadata": {},
   "outputs": [],
   "source": [
    "tweets = tweets[~tweets[\"clean_translation\"].str.contains(\"education\", na=False)]"
   ]
  },
  {
   "cell_type": "code",
   "execution_count": 312,
   "metadata": {},
   "outputs": [],
   "source": [
    "schools = tweets[tweets[\"clean_translation\"].str.contains(\"school\", na=False)]"
   ]
  },
  {
   "cell_type": "code",
   "execution_count": 313,
   "metadata": {},
   "outputs": [],
   "source": [
    "schools[\"schools\"] = 1"
   ]
  },
  {
   "cell_type": "code",
   "execution_count": 314,
   "metadata": {},
   "outputs": [],
   "source": [
    "tweets = tweets[~tweets[\"clean_translation\"].str.contains(\"school\", na=False)]"
   ]
  },
  {
   "cell_type": "code",
   "execution_count": 315,
   "metadata": {},
   "outputs": [],
   "source": [
    "universities = tweets[tweets[\"clean_translation\"].str.contains(\"universit\", na=False)]"
   ]
  },
  {
   "cell_type": "code",
   "execution_count": 316,
   "metadata": {},
   "outputs": [],
   "source": [
    "universities[\"universities\"] = 1"
   ]
  },
  {
   "cell_type": "code",
   "execution_count": 317,
   "metadata": {},
   "outputs": [],
   "source": [
    "tweets = tweets[~tweets[\"clean_translation\"].str.contains(\"universit\", na=False)]"
   ]
  },
  {
   "cell_type": "code",
   "execution_count": 318,
   "metadata": {},
   "outputs": [],
   "source": [
    "literacy = tweets[tweets[\"clean_translation\"].str.contains(\"literacy\", na=False)]"
   ]
  },
  {
   "cell_type": "code",
   "execution_count": 319,
   "metadata": {},
   "outputs": [],
   "source": [
    "literacy[\"literacy\"] = 1"
   ]
  },
  {
   "cell_type": "code",
   "execution_count": 320,
   "metadata": {},
   "outputs": [],
   "source": [
    "tweets = tweets[~tweets[\"clean_translation\"].str.contains(\"literacy\", na=False)]"
   ]
  },
  {
   "cell_type": "code",
   "execution_count": 323,
   "metadata": {},
   "outputs": [],
   "source": [
    "teachers = tweets[tweets[\"clean_translation\"].str.contains(\"teacher\", na=False)]"
   ]
  },
  {
   "cell_type": "code",
   "execution_count": 324,
   "metadata": {},
   "outputs": [],
   "source": [
    "teachers[\"teachers\"] = 1"
   ]
  },
  {
   "cell_type": "code",
   "execution_count": 325,
   "metadata": {},
   "outputs": [],
   "source": [
    "tweets = tweets[~tweets[\"clean_translation\"].str.contains(\"teacher\", na=False)]"
   ]
  },
  {
   "cell_type": "code",
   "execution_count": 326,
   "metadata": {},
   "outputs": [],
   "source": [
    "education = pd.concat([education, schools, universities, literacy, teachers])"
   ]
  },
  {
   "cell_type": "code",
   "execution_count": 327,
   "metadata": {},
   "outputs": [],
   "source": [
    "education[\"education\"] = education[\"education\"].fillna(0)"
   ]
  },
  {
   "cell_type": "code",
   "execution_count": 328,
   "metadata": {},
   "outputs": [],
   "source": [
    "education[\"schools\"] = education[\"schools\"].fillna(0)"
   ]
  },
  {
   "cell_type": "code",
   "execution_count": 329,
   "metadata": {},
   "outputs": [],
   "source": [
    "education[\"universities\"] = education[\"universities\"].fillna(0)"
   ]
  },
  {
   "cell_type": "code",
   "execution_count": 330,
   "metadata": {},
   "outputs": [],
   "source": [
    "education[\"literacy\"] = education[\"literacy\"].fillna(0)"
   ]
  },
  {
   "cell_type": "code",
   "execution_count": 331,
   "metadata": {},
   "outputs": [],
   "source": [
    "education[\"teachers\"] = education[\"teachers\"].fillna(0)"
   ]
  },
  {
   "cell_type": "code",
   "execution_count": null,
   "metadata": {},
   "outputs": [],
   "source": [
    "#Create counts for major sub-topics and create and save final service delivery dataframe."
   ]
  },
  {
   "cell_type": "code",
   "execution_count": 333,
   "metadata": {},
   "outputs": [],
   "source": [
    "water[\"water_total\"] = 1"
   ]
  },
  {
   "cell_type": "code",
   "execution_count": 334,
   "metadata": {},
   "outputs": [],
   "source": [
    "food[\"food_total\"] = 1"
   ]
  },
  {
   "cell_type": "code",
   "execution_count": 335,
   "metadata": {},
   "outputs": [],
   "source": [
    "sanitation[\"sanitation_total\"] = 1"
   ]
  },
  {
   "cell_type": "code",
   "execution_count": 336,
   "metadata": {},
   "outputs": [],
   "source": [
    "energy[\"energy_total\"] = 1"
   ]
  },
  {
   "cell_type": "code",
   "execution_count": 337,
   "metadata": {},
   "outputs": [],
   "source": [
    "internet[\"internet_total\"] = 1"
   ]
  },
  {
   "cell_type": "code",
   "execution_count": 338,
   "metadata": {},
   "outputs": [],
   "source": [
    "agriculture[\"agriculture_total\"] = 1"
   ]
  },
  {
   "cell_type": "code",
   "execution_count": 339,
   "metadata": {},
   "outputs": [],
   "source": [
    "natural_resources = nr"
   ]
  },
  {
   "cell_type": "code",
   "execution_count": 340,
   "metadata": {},
   "outputs": [],
   "source": [
    "natural_resources[\"natural_resources_total\"] = 1"
   ]
  },
  {
   "cell_type": "code",
   "execution_count": 341,
   "metadata": {},
   "outputs": [],
   "source": [
    "healthcare[\"healthcare_total\"] = 1"
   ]
  },
  {
   "cell_type": "code",
   "execution_count": 342,
   "metadata": {},
   "outputs": [],
   "source": [
    "development[\"development_total\"] = 1"
   ]
  },
  {
   "cell_type": "code",
   "execution_count": 343,
   "metadata": {},
   "outputs": [],
   "source": [
    "education[\"education_total\"] = 1"
   ]
  },
  {
   "cell_type": "code",
   "execution_count": null,
   "metadata": {},
   "outputs": [],
   "source": [
    "df = pd.concat([water, food, sanitation, energy, internet, agriculture, nr, healthcare, development, education])"
   ]
  },
  {
   "cell_type": "code",
   "execution_count": 346,
   "metadata": {},
   "outputs": [],
   "source": [
    "with open(\"FINAL_kp_service_delivery_tweets.pickle\", \"wb\") as f:\n",
    "    pickle.dump(df, f)"
   ]
  },
  {
   "cell_type": "code",
   "execution_count": null,
   "metadata": {},
   "outputs": [],
   "source": [
    "#Peace and Violent Extremism Keywords"
   ]
  },
  {
   "cell_type": "code",
   "execution_count": 72,
   "metadata": {},
   "outputs": [],
   "source": [
    "peace_total = tweets[tweets[\"clean_translation\"].str.contains(\"peace\", na=False)]\n",
    "peace_total[\"peace_total\"] = 1\n",
    "tweets = tweets[~tweets[\"clean_translation\"].str.contains(\"peace\", na=False)]"
   ]
  },
  {
   "cell_type": "code",
   "execution_count": 73,
   "metadata": {},
   "outputs": [],
   "source": [
    "taliban = tweets[tweets[\"clean_translation\"].str.contains(\"taliban\", na=False)]\n",
    "taliban[\"taliban\"] = 1\n",
    "tweets = tweets[~tweets[\"clean_translation\"].str.contains(\"taliban\", na=False)]"
   ]
  },
  {
   "cell_type": "code",
   "execution_count": 74,
   "metadata": {},
   "outputs": [],
   "source": [
    "religious_propaganda = tweets[tweets[\"clean_translation\"].str.contains(\"religious propaganda\", na=False)]\n",
    "religious_propaganda[\"religious_propaganda\"] = 1\n",
    "tweets = tweets[~tweets[\"clean_translation\"].str.contains(\"religious propaganda\", na=False)]"
   ]
  },
  {
   "cell_type": "code",
   "execution_count": 75,
   "metadata": {},
   "outputs": [],
   "source": [
    "black_day = tweets[tweets[\"clean_translation\"].str.contains(\"black day\", na=False)]\n",
    "black_day[\"black_day\"] = 1\n",
    "tweets = tweets[~tweets[\"clean_translation\"].str.contains(\"black day\", na=False)]"
   ]
  },
  {
   "cell_type": "code",
   "execution_count": 76,
   "metadata": {},
   "outputs": [],
   "source": [
    "radical = tweets[tweets[\"clean_translation\"].str.contains(\"radical\", na=False)]\n",
    "radical[\"radical\"] = 1\n",
    "tweets = tweets[~tweets[\"clean_translation\"].str.contains(\"radical\", na=False)]"
   ]
  },
  {
   "cell_type": "code",
   "execution_count": 77,
   "metadata": {},
   "outputs": [],
   "source": [
    "jihadi = tweets[tweets[\"clean_translation\"].str.contains(\"jihadi\", na=False)]\n",
    "jihadi[\"jihadi\"] = 1\n",
    "tweets = tweets[~tweets[\"clean_translation\"].str.contains(\"jihadi\", na=False)]"
   ]
  },
  {
   "cell_type": "code",
   "execution_count": 78,
   "metadata": {},
   "outputs": [],
   "source": [
    "madrassa = tweets[tweets[\"clean_translation\"].str.contains(\"madras\", na=False)]\n",
    "madrassa[\"madrassa\"] = 1\n",
    "tweets = tweets[~tweets[\"clean_translation\"].str.contains(\"madras\", na=False)]"
   ]
  },
  {
   "cell_type": "code",
   "execution_count": 79,
   "metadata": {},
   "outputs": [],
   "source": [
    "extremist = tweets[tweets[\"clean_translation\"].str.contains(\"extrem\", na=False)]\n",
    "extremist[\"extremist\"] = 1\n",
    "tweets = tweets[~tweets[\"clean_translation\"].str.contains(\"extrem\", na=False)]"
   ]
  },
  {
   "cell_type": "code",
   "execution_count": 80,
   "metadata": {},
   "outputs": [],
   "source": [
    "ideology = tweets[tweets[\"clean_translation\"].str.contains(\"ideology\", na=False)]\n",
    "ideology[\"ideology\"] = 1\n",
    "tweets = tweets[~tweets[\"clean_translation\"].str.contains(\"ideology\", na=False)]"
   ]
  },
  {
   "cell_type": "code",
   "execution_count": 81,
   "metadata": {},
   "outputs": [],
   "source": [
    "zarbeazb = tweets[tweets[\"clean_translation\"].str.contains(\"zarb\", na=False)]\n",
    "zarbeazb[\"zarbeazb\"] = 1\n",
    "tweets = tweets[~tweets[\"clean_translation\"].str.contains(\"zarb\", na=False)]"
   ]
  },
  {
   "cell_type": "code",
   "execution_count": 82,
   "metadata": {},
   "outputs": [],
   "source": [
    "rah_e_nijat = tweets[tweets[\"clean_translation\"].str.contains(\"rah e nijat\", na=False)]\n",
    "rah_e_nijat[\"rah_e_nijat\"] = 1\n",
    "tweets = tweets[~tweets[\"clean_translation\"].str.contains(\"rah e nijat\", na=False)]"
   ]
  },
  {
   "cell_type": "code",
   "execution_count": 83,
   "metadata": {},
   "outputs": [],
   "source": [
    "rahenijat = tweets[tweets[\"clean_translation\"].str.contains(\"rahenijat\", na=False)]\n",
    "rahenijat[\"rah_e_nijat\"] = 1\n",
    "tweets = tweets[~tweets[\"clean_translation\"].str.contains(\"rah e nijat\", na=False)]"
   ]
  },
  {
   "cell_type": "code",
   "execution_count": 84,
   "metadata": {},
   "outputs": [],
   "source": [
    "terror = tweets[tweets[\"clean_translation\"].str.contains(\"terror\", na=False)]\n",
    "terror[\"terror\"] = 1\n",
    "tweets = tweets[~tweets[\"clean_translation\"].str.contains(\"terror\", na=False)]"
   ]
  },
  {
   "cell_type": "code",
   "execution_count": null,
   "metadata": {},
   "outputs": [],
   "source": [
    "#Create violent extremism dataframe and count"
   ]
  },
  {
   "cell_type": "code",
   "execution_count": 85,
   "metadata": {},
   "outputs": [],
   "source": [
    "extremism = pd.concat([taliban, religious_propaganda, black_day, radical, jihadi, madrassa, extremist, ideology, zarbeazb, rah_e_nijat, rahenijat, terror])"
   ]
  },
  {
   "cell_type": "code",
   "execution_count": 86,
   "metadata": {},
   "outputs": [],
   "source": [
    "extremism[\"extremism_total\"] = 1"
   ]
  },
  {
   "cell_type": "code",
   "execution_count": null,
   "metadata": {},
   "outputs": [],
   "source": [
    "#Human Rights Keywords"
   ]
  },
  {
   "cell_type": "code",
   "execution_count": 368,
   "metadata": {},
   "outputs": [],
   "source": [
    "right = tweets[tweets[\"clean_translation\"].str.contains(\"right\", na=False)]\n",
    "right[\"right\"] = 1\n",
    "tweets = tweets[~tweets[\"clean_translation\"].str.contains(\"right\", na=False)]"
   ]
  },
  {
   "cell_type": "code",
   "execution_count": 369,
   "metadata": {},
   "outputs": [],
   "source": [
    "justice = tweets[tweets[\"clean_translation\"].str.contains(\"justice\", na=False)]\n",
    "justice[\"justice\"] = 1\n",
    "tweets = tweets[~tweets[\"clean_translation\"].str.contains(\"justice\", na=False)]"
   ]
  },
  {
   "cell_type": "code",
   "execution_count": 370,
   "metadata": {},
   "outputs": [],
   "source": [
    "oppression = tweets[tweets[\"clean_translation\"].str.contains(\"oppres\", na=False)]\n",
    "oppression[\"oppression\"] = 1\n",
    "tweets = tweets[~tweets[\"clean_translation\"].str.contains(\"oppres\", na=False)]"
   ]
  },
  {
   "cell_type": "code",
   "execution_count": 371,
   "metadata": {},
   "outputs": [],
   "source": [
    "freedom = tweets[tweets[\"clean_translation\"].str.contains(\"free\", na=False)]\n",
    "freedom[\"freedom\"] = 1\n",
    "tweets = tweets[~tweets[\"clean_translation\"].str.contains(\"free\", na=False)]"
   ]
  },
  {
   "cell_type": "code",
   "execution_count": 372,
   "metadata": {},
   "outputs": [],
   "source": [
    "discrim = tweets[tweets[\"clean_translation\"].str.contains(\"discrim\", na=False)]\n",
    "discrim[\"discrim\"] = 1\n",
    "tweets = tweets[~tweets[\"clean_translation\"].str.contains(\"discrim\", na=False)]"
   ]
  },
  {
   "cell_type": "code",
   "execution_count": 373,
   "metadata": {},
   "outputs": [],
   "source": [
    "violation = tweets[tweets[\"clean_translation\"].str.contains(\"violat\", na=False)]\n",
    "violation[\"violation\"] = 1\n",
    "tweets = tweets[~tweets[\"clean_translation\"].str.contains(\"violat\", na=False)]"
   ]
  },
  {
   "cell_type": "code",
   "execution_count": 374,
   "metadata": {},
   "outputs": [],
   "source": [
    "censor = tweets[tweets[\"clean_translation\"].str.contains(\"censor\", na=False)]\n",
    "censor[\"censor\"] = 1\n",
    "tweets = tweets[~tweets[\"clean_translation\"].str.contains(\"censor\", na=False)]"
   ]
  },
  {
   "cell_type": "code",
   "execution_count": null,
   "metadata": {},
   "outputs": [],
   "source": [
    "#Create human rights dataframe"
   ]
  },
  {
   "cell_type": "code",
   "execution_count": 375,
   "metadata": {},
   "outputs": [],
   "source": [
    "human_rights = pd.concat([right, justice, oppression, freedom, discrim, violation])"
   ]
  },
  {
   "cell_type": "code",
   "execution_count": null,
   "metadata": {},
   "outputs": [],
   "source": [
    "#Activism Keywords"
   ]
  },
  {
   "cell_type": "code",
   "execution_count": 377,
   "metadata": {},
   "outputs": [],
   "source": [
    "resist = tweets[tweets[\"clean_translation\"].str.contains(\"resist\", na=False)]\n",
    "censor[\"resist\"] = 1\n",
    "tweets = tweets[~tweets[\"clean_translation\"].str.contains(\"resist\", na=False)]"
   ]
  },
  {
   "cell_type": "code",
   "execution_count": 378,
   "metadata": {},
   "outputs": [],
   "source": [
    "detain = tweets[tweets[\"clean_translation\"].str.contains(\"detain\", na=False)]\n",
    "detain[\"detain\"] = 1\n",
    "tweets = tweets[~tweets[\"clean_translation\"].str.contains(\"detain\", na=False)]"
   ]
  },
  {
   "cell_type": "code",
   "execution_count": 379,
   "metadata": {},
   "outputs": [],
   "source": [
    "confession = tweets[tweets[\"clean_translation\"].str.contains(\"confes\", na=False)]\n",
    "confession[\"confession\"] = 1\n",
    "tweets = tweets[~tweets[\"clean_translation\"].str.contains(\"confes\", na=False)]"
   ]
  },
  {
   "cell_type": "code",
   "execution_count": 380,
   "metadata": {},
   "outputs": [],
   "source": [
    "activism = tweets[tweets[\"clean_translation\"].str.contains(\"activis\", na=False)]\n",
    "activism[\"activism\"] = 1\n",
    "tweets = tweets[~tweets[\"clean_translation\"].str.contains(\"activis\", na=False)]"
   ]
  },
  {
   "cell_type": "code",
   "execution_count": 381,
   "metadata": {},
   "outputs": [],
   "source": [
    "mohsin_dawar = tweets[tweets[\"clean_translation\"].str.contains(\"mohsin dawar\", na=False)]\n",
    "mohsin_dawar[\"mohsin_dawar\"] = 1\n",
    "tweets = tweets[~tweets[\"clean_translation\"].str.contains(\"mohsin dawar\", na=False)]"
   ]
  },
  {
   "cell_type": "code",
   "execution_count": 382,
   "metadata": {},
   "outputs": [],
   "source": [
    "ali_wazir = tweets[tweets[\"clean_translation\"].str.contains(\"ali wazir\", na=False)]\n",
    "ali_wazir[\"ali_wazir\"] = 1\n",
    "tweets = tweets[~tweets[\"clean_translation\"].str.contains(\"ali wazir\", na=False)]"
   ]
  },
  {
   "cell_type": "code",
   "execution_count": 383,
   "metadata": {},
   "outputs": [],
   "source": [
    "ptm = tweets[tweets[\"clean_translation\"].str.contains(\"ptm\", na=False)]\n",
    "ptm[\"ptm\"] = 1\n",
    "tweets = tweets[~tweets[\"clean_translation\"].str.contains(\"ptm\", na=False)]"
   ]
  },
  {
   "cell_type": "code",
   "execution_count": 384,
   "metadata": {},
   "outputs": [],
   "source": [
    "pashtun_tahafuz_movement = tweets[tweets[\"clean_translation\"].str.contains(\"pashtun taha\", na=False)]\n",
    "pashtun_tahafuz_movement[\"pashtun_tahafuz_movement\"] = 1\n",
    "tweets = tweets[~tweets[\"clean_translation\"].str.contains(\"pashtun taha\", na=False)]"
   ]
  },
  {
   "cell_type": "code",
   "execution_count": 385,
   "metadata": {},
   "outputs": [],
   "source": [
    "disappearances = tweets[tweets[\"clean_translation\"].str.contains(\"disapp\", na=False)]\n",
    "disappearances[\"disappearances\"] = 1\n",
    "tweets = tweets[~tweets[\"clean_translation\"].str.contains(\"disapp\", na=False)]"
   ]
  },
  {
   "cell_type": "code",
   "execution_count": 386,
   "metadata": {},
   "outputs": [],
   "source": [
    "free_tribes = tweets[tweets[\"clean_translation\"].str.contains(\"free tribe\", na=False)]\n",
    "free_tribes[\"free_tribes\"] = 1\n",
    "tweets = tweets[~tweets[\"clean_translation\"].str.contains(\"free tribe\", na=False)]"
   ]
  },
  {
   "cell_type": "code",
   "execution_count": 387,
   "metadata": {},
   "outputs": [],
   "source": [
    "ind_tribes = tweets[tweets[\"clean_translation\"].str.contains(\"independent tribe\", na=False)]\n",
    "ind_tribes[\"ind_tribes\"] = 1\n",
    "tweets = tweets[~tweets[\"clean_translation\"].str.contains(\"independent tribe\", na=False)]"
   ]
  },
  {
   "cell_type": "code",
   "execution_count": 388,
   "metadata": {},
   "outputs": [],
   "source": [
    "brave_tribal_sisters = tweets[tweets[\"clean_translation\"].str.contains(\"brave tribal sisters\", na=False)]\n",
    "brave_tribal_sisters[\"brave_tribal_sisters\"] = 1\n",
    "tweets = tweets[~tweets[\"clean_translation\"].str.contains(\"brave tribal sisters\", na=False)]"
   ]
  },
  {
   "cell_type": "code",
   "execution_count": 389,
   "metadata": {},
   "outputs": [],
   "source": [
    "pashtun = tweets[tweets[\"clean_translation\"].str.contains(\"pashtun\", na=False)]\n",
    "pashtun[\"pashtun\"] = 1\n",
    "tweets = tweets[~tweets[\"clean_translation\"].str.contains(\"pashtun\", na=False)]"
   ]
  },
  {
   "cell_type": "code",
   "execution_count": null,
   "metadata": {},
   "outputs": [],
   "source": [
    "#Create activism dataframe, merge with human rights dataframe, and save as rights and activism dataframe"
   ]
  },
  {
   "cell_type": "code",
   "execution_count": 393,
   "metadata": {},
   "outputs": [],
   "source": [
    "ptm = pd.concat([censor, resist, detain, confession, activism, mohsin_dawar, ali_wazir, ptm, pashtun_tahafuz_movement, disappearances, free_tribes, ind_tribes, brave_tribal_sisters, pashtun])"
   ]
  },
  {
   "cell_type": "code",
   "execution_count": 418,
   "metadata": {},
   "outputs": [],
   "source": [
    "rights_and_activism = pd.concat([human_rights, ptm])"
   ]
  },
  {
   "cell_type": "code",
   "execution_count": 419,
   "metadata": {},
   "outputs": [],
   "source": [
    "with open(\"FINAL_kp_rights_and_activism_tweets.pickle\", \"wb\") as f:\n",
    "    pickle.dump(rights_and_activism, f)"
   ]
  },
  {
   "cell_type": "code",
   "execution_count": 67,
   "metadata": {},
   "outputs": [],
   "source": [
    "#State Forces Keywords"
   ]
  },
  {
   "cell_type": "code",
   "execution_count": 87,
   "metadata": {},
   "outputs": [],
   "source": [
    "military = tweets[tweets[\"clean_translation\"].str.contains(\"military\", na=False)]\n",
    "military[\"military\"] = 1\n",
    "tweets = tweets[~tweets[\"clean_translation\"].str.contains(\"military\", na=False)]"
   ]
  },
  {
   "cell_type": "code",
   "execution_count": 88,
   "metadata": {},
   "outputs": [],
   "source": [
    "checkpoint = tweets[tweets[\"clean_translation\"].str.contains(\"checkpoint\", na=False)]\n",
    "checkpoint[\"checkpoint\"] = 1\n",
    "tweets = tweets[~tweets[\"clean_translation\"].str.contains(\"checkpoint\", na=False)]"
   ]
  },
  {
   "cell_type": "code",
   "execution_count": 89,
   "metadata": {},
   "outputs": [],
   "source": [
    "army = tweets[tweets[\"clean_translation\"].str.contains(\"army\", na=False)]\n",
    "army[\"army\"] = 1\n",
    "tweets = tweets[~tweets[\"clean_translation\"].str.contains(\"army\", na=False)]"
   ]
  },
  {
   "cell_type": "code",
   "execution_count": 90,
   "metadata": {},
   "outputs": [],
   "source": [
    "police = tweets[tweets[\"clean_translation\"].str.contains(\"police\", na=False)]\n",
    "police[\"police\"] = 1\n",
    "tweets = tweets[~tweets[\"clean_translation\"].str.contains(\"police\", na=False)]"
   ]
  },
  {
   "cell_type": "code",
   "execution_count": 91,
   "metadata": {},
   "outputs": [],
   "source": [
    "state_forces = tweets[tweets[\"clean_translation\"].str.contains(\"state force\", na=False)]\n",
    "state_forces[\"state_forces\"] = 1\n",
    "tweets = tweets[~tweets[\"clean_translation\"].str.contains(\"state forces\", na=False)]"
   ]
  },
  {
   "cell_type": "code",
   "execution_count": null,
   "metadata": {},
   "outputs": [],
   "source": [
    "#Create State Forces dataframe and count"
   ]
  },
  {
   "cell_type": "code",
   "execution_count": 92,
   "metadata": {},
   "outputs": [],
   "source": [
    "state_forces = pd.concat([military, checkpoint, army, police, state_forces])"
   ]
  },
  {
   "cell_type": "code",
   "execution_count": 93,
   "metadata": {},
   "outputs": [],
   "source": [
    "state_forces[\"state_forces_total\"] = 1"
   ]
  },
  {
   "cell_type": "code",
   "execution_count": null,
   "metadata": {},
   "outputs": [],
   "source": [
    "#Violence Keywords"
   ]
  },
  {
   "cell_type": "code",
   "execution_count": 94,
   "metadata": {},
   "outputs": [],
   "source": [
    "kidnap = tweets[tweets[\"clean_translation\"].str.contains(\"kidnap\", na=False)]\n",
    "kidnap[\"kidnap\"] = 1\n",
    "tweets = tweets[~tweets[\"clean_translation\"].str.contains(\"kidnap\", na=False)]"
   ]
  },
  {
   "cell_type": "code",
   "execution_count": 95,
   "metadata": {},
   "outputs": [],
   "source": [
    "abduction = tweets[tweets[\"clean_translation\"].str.contains(\"abduct\", na=False)]\n",
    "abduction[\"abduction\"] = 1\n",
    "tweets = tweets[~tweets[\"clean_translation\"].str.contains(\"abduct\", na=False)]"
   ]
  },
  {
   "cell_type": "code",
   "execution_count": 96,
   "metadata": {},
   "outputs": [],
   "source": [
    "violence = tweets[tweets[\"clean_translation\"].str.contains(\"violen\", na=False)]\n",
    "violence[\"violence\"] = 1\n",
    "tweets = tweets[~tweets[\"clean_translation\"].str.contains(\"violen\", na=False)]"
   ]
  },
  {
   "cell_type": "code",
   "execution_count": 97,
   "metadata": {},
   "outputs": [],
   "source": [
    "attack = tweets[tweets[\"clean_translation\"].str.contains(\"attack\", na=False)]\n",
    "attack[\"attack\"] = 1\n",
    "tweets = tweets[~tweets[\"clean_translation\"].str.contains(\"attack\", na=False)]"
   ]
  },
  {
   "cell_type": "code",
   "execution_count": 98,
   "metadata": {},
   "outputs": [],
   "source": [
    "incident = tweets[tweets[\"clean_translation\"].str.contains(\"incident\", na=False)]\n",
    "incident[\"incident\"] = 1\n",
    "tweets = tweets[~tweets[\"clean_translation\"].str.contains(\"incident\", na=False)]"
   ]
  },
  {
   "cell_type": "code",
   "execution_count": 99,
   "metadata": {},
   "outputs": [],
   "source": [
    "killed = tweets[tweets[\"clean_translation\"].str.contains(\"kill\", na=False)]\n",
    "killed[\"killed\"] = 1\n",
    "tweets = tweets[~tweets[\"clean_translation\"].str.contains(\"kill\", na=False)]"
   ]
  },
  {
   "cell_type": "code",
   "execution_count": 100,
   "metadata": {},
   "outputs": [],
   "source": [
    "dead = tweets[tweets[\"clean_translation\"].str.contains(\"dead\", na=False)]\n",
    "dead[\"dead\"] = 1\n",
    "tweets = tweets[~tweets[\"clean_translation\"].str.contains(\"dead\", na=False)]"
   ]
  },
  {
   "cell_type": "code",
   "execution_count": 101,
   "metadata": {},
   "outputs": [],
   "source": [
    "injured = tweets[tweets[\"clean_translation\"].str.contains(\"injur\", na=False)]\n",
    "injured[\"injured\"] = 1\n",
    "tweets = tweets[~tweets[\"clean_translation\"].str.contains(\"injur\", na=False)]"
   ]
  },
  {
   "cell_type": "code",
   "execution_count": 102,
   "metadata": {},
   "outputs": [],
   "source": [
    "landmine = tweets[tweets[\"clean_translation\"].str.contains(\"landmine\", na=False)]\n",
    "landmine[\"landmine\"] = 1\n",
    "tweets = tweets[~tweets[\"clean_translation\"].str.contains(\"landmine\", na=False)]"
   ]
  },
  {
   "cell_type": "code",
   "execution_count": 103,
   "metadata": {},
   "outputs": [],
   "source": [
    "explosion = tweets[tweets[\"clean_translation\"].str.contains(\"explo\", na=False)]\n",
    "explosion[\"explosion\"] = 1\n",
    "tweets = tweets[~tweets[\"clean_translation\"].str.contains(\"explo\", na=False)]"
   ]
  },
  {
   "cell_type": "code",
   "execution_count": 104,
   "metadata": {},
   "outputs": [],
   "source": [
    "shot = tweets[tweets[\"clean_translation\"].str.contains(\"shot\", na=False)]\n",
    "shot[\"shot\"] = 1\n",
    "tweets = tweets[~tweets[\"clean_translation\"].str.contains(\"shot\", na=False)]"
   ]
  },
  {
   "cell_type": "code",
   "execution_count": 105,
   "metadata": {},
   "outputs": [],
   "source": [
    "torture = tweets[tweets[\"clean_translation\"].str.contains(\"torture\", na=False)]\n",
    "torture[\"torture\"] = 1\n",
    "tweets = tweets[~tweets[\"clean_translation\"].str.contains(\"torture\", na=False)]"
   ]
  },
  {
   "cell_type": "code",
   "execution_count": 106,
   "metadata": {},
   "outputs": [],
   "source": [
    "blast = tweets[tweets[\"clean_translation\"].str.contains(\"blast\", na=False)]\n",
    "blast[\"blast\"] = 1\n",
    "tweets = tweets[~tweets[\"clean_translation\"].str.contains(\"blast\", na=False)]"
   ]
  },
  {
   "cell_type": "code",
   "execution_count": 107,
   "metadata": {},
   "outputs": [],
   "source": [
    "bomb = tweets[tweets[\"clean_translation\"].str.contains(\"bomb\", na=False)]\n",
    "bomb[\"bomb\"] = 1\n",
    "tweets = tweets[~tweets[\"clean_translation\"].str.contains(\"bomb\", na=False)]"
   ]
  },
  {
   "cell_type": "code",
   "execution_count": 108,
   "metadata": {},
   "outputs": [],
   "source": [
    "missing = tweets[tweets[\"clean_translation\"].str.contains(\"missing\", na=False)]\n",
    "missing[\"missing\"] = 1\n",
    "tweets = tweets[~tweets[\"clean_translation\"].str.contains(\"missing\", na=False)]"
   ]
  },
  {
   "cell_type": "code",
   "execution_count": null,
   "metadata": {},
   "outputs": [],
   "source": [
    "#Create violence dataframe and counts"
   ]
  },
  {
   "cell_type": "code",
   "execution_count": 109,
   "metadata": {},
   "outputs": [],
   "source": [
    "violence = pd.concat([abduction, kidnap, missing, violence, attack, landmine, explosion, shot, torture, blast, bomb])"
   ]
  },
  {
   "cell_type": "code",
   "execution_count": 110,
   "metadata": {},
   "outputs": [],
   "source": [
    "violence[\"violence_total\"] = 1"
   ]
  },
  {
   "cell_type": "code",
   "execution_count": null,
   "metadata": {},
   "outputs": [],
   "source": [
    "#Merge and create dataframe of peace tweets, violent extremism tweets, state forces tweets, and violence tweets and save as violent conflict tweets."
   ]
  },
  {
   "cell_type": "code",
   "execution_count": 111,
   "metadata": {},
   "outputs": [],
   "source": [
    "violent_conflict = pd.concat([peace_total, extremism, state_forces, violence])"
   ]
  },
  {
   "cell_type": "code",
   "execution_count": 112,
   "metadata": {},
   "outputs": [],
   "source": [
    "with open(\"FINAL_kp_violent_conflict_tweets.pickle\", \"wb\") as f:\n",
    "    pickle.dump(violent_conflict, f)"
   ]
  },
  {
   "cell_type": "code",
   "execution_count": null,
   "metadata": {},
   "outputs": [],
   "source": [
    "#Fata merger keywords"
   ]
  },
  {
   "cell_type": "code",
   "execution_count": 423,
   "metadata": {},
   "outputs": [],
   "source": [
    "merge = tweets[tweets[\"clean_translation\"].str.contains(\"merge\", na=False)]\n",
    "merge[\"merge\"] = 1\n",
    "tweets = tweets[~tweets[\"clean_translation\"].str.contains(\"merge\", na=False)]"
   ]
  },
  {
   "cell_type": "code",
   "execution_count": 424,
   "metadata": {},
   "outputs": [],
   "source": [
    "fata = tweets[tweets[\"clean_translation\"].str.contains(\"fata\", na=False)]\n",
    "fata[\"fata\"] = 1\n",
    "tweets = tweets[~tweets[\"clean_translation\"].str.contains(\"fata\", na=False)]"
   ]
  },
  {
   "cell_type": "code",
   "execution_count": 425,
   "metadata": {},
   "outputs": [],
   "source": [
    "fcr = tweets[tweets[\"clean_translation\"].str.contains(\"fcr\", na=False)]\n",
    "fcr[\"fcr\"] = 1\n",
    "tweets = tweets[~tweets[\"clean_translation\"].str.contains(\"fcr\", na=False)]"
   ]
  },
  {
   "cell_type": "code",
   "execution_count": 426,
   "metadata": {},
   "outputs": [],
   "source": [
    "reform = tweets[tweets[\"clean_translation\"].str.contains(\"reform\", na=False)]\n",
    "reform[\"reform\"] = 1\n",
    "tweets = tweets[~tweets[\"clean_translation\"].str.contains(\"reform\", na=False)]"
   ]
  },
  {
   "cell_type": "code",
   "execution_count": 427,
   "metadata": {},
   "outputs": [],
   "source": [
    "frontier = tweets[tweets[\"clean_translation\"].str.contains(\"frontier\", na=False)]\n",
    "frontier[\"frontier\"] = 1\n",
    "tweets = tweets[~tweets[\"clean_translation\"].str.contains(\"frontier\", na=False)]"
   ]
  },
  {
   "cell_type": "code",
   "execution_count": 428,
   "metadata": {},
   "outputs": [],
   "source": [
    "national_action_plan = tweets[tweets[\"clean_translation\"].str.contains(\"national action plan\", na=False)]\n",
    "national_action_plan[\"national_action_plan\"] = 1\n",
    "tweets = tweets[~tweets[\"clean_translation\"].str.contains(\"national action plan\", na=False)]"
   ]
  },
  {
   "cell_type": "code",
   "execution_count": 429,
   "metadata": {},
   "outputs": [],
   "source": [
    "nap = tweets[tweets[\"clean_translation\"].str.contains(\"nap\", na=False)]\n",
    "nap[\"nap\"] = 1\n",
    "tweets = tweets[~tweets[\"clean_translation\"].str.contains(\"nap\", na=False)]"
   ]
  },
  {
   "cell_type": "code",
   "execution_count": 430,
   "metadata": {},
   "outputs": [],
   "source": [
    "amendment = tweets[tweets[\"clean_translation\"].str.contains(\"amendment\", na=False)]\n",
    "amendment[\"amendment\"] = 1\n",
    "tweets = tweets[~tweets[\"clean_translation\"].str.contains(\"amendment\", na=False)]"
   ]
  },
  {
   "cell_type": "code",
   "execution_count": null,
   "metadata": {},
   "outputs": [],
   "source": [
    "#Create and save fata merger dataframe"
   ]
  },
  {
   "cell_type": "code",
   "execution_count": 431,
   "metadata": {},
   "outputs": [],
   "source": [
    "fata = pd.concat([merge, fata, fcr, reform, frontier, national_action_plan, nap, amendment])"
   ]
  },
  {
   "cell_type": "code",
   "execution_count": 433,
   "metadata": {},
   "outputs": [],
   "source": [
    "with open(\"FINAL_fata_merger_tweets.pickle\", \"wb\") as f:\n",
    "    pickle.dump(fata, f)"
   ]
  },
  {
   "cell_type": "code",
   "execution_count": null,
   "metadata": {},
   "outputs": [],
   "source": [
    "#Rule of Law Keywords"
   ]
  },
  {
   "cell_type": "code",
   "execution_count": 434,
   "metadata": {},
   "outputs": [],
   "source": [
    "legal = tweets[tweets[\"clean_translation\"].str.contains(\"legal\", na=False)]\n",
    "legal[\"legal\"] = 1\n",
    "tweets = tweets[~tweets[\"clean_translation\"].str.contains(\"legal\", na=False)]"
   ]
  },
  {
   "cell_type": "code",
   "execution_count": 435,
   "metadata": {},
   "outputs": [],
   "source": [
    "law = tweets[tweets[\"clean_translation\"].str.contains(\"law\", na=False)]\n",
    "law[\"law\"] = 1\n",
    "tweets = tweets[~tweets[\"clean_translation\"].str.contains(\"law\", na=False)]"
   ]
  },
  {
   "cell_type": "code",
   "execution_count": 436,
   "metadata": {},
   "outputs": [],
   "source": [
    "crime = tweets[tweets[\"clean_translation\"].str.contains(\"crime\", na=False)]\n",
    "crime[\"crime\"] = 1\n",
    "tweets = tweets[~tweets[\"clean_translation\"].str.contains(\"crime\", na=False)]"
   ]
  },
  {
   "cell_type": "code",
   "execution_count": 437,
   "metadata": {},
   "outputs": [],
   "source": [
    "trafficking = tweets[tweets[\"clean_translation\"].str.contains(\"trafficking\", na=False)]\n",
    "trafficking[\"trafficking\"] = 1\n",
    "tweets = tweets[~tweets[\"clean_translation\"].str.contains(\"trafficking\", na=False)]"
   ]
  },
  {
   "cell_type": "code",
   "execution_count": 438,
   "metadata": {},
   "outputs": [],
   "source": [
    "narc = tweets[tweets[\"clean_translation\"].str.contains(\"narc\", na=False)]\n",
    "narc[\"narc\"] = 1\n",
    "tweets = tweets[~tweets[\"clean_translation\"].str.contains(\"narc\", na=False)]"
   ]
  },
  {
   "cell_type": "code",
   "execution_count": 439,
   "metadata": {},
   "outputs": [],
   "source": [
    "bribe = tweets[tweets[\"clean_translation\"].str.contains(\"bribe\", na=False)]\n",
    "bribe[\"bribe\"] = 1\n",
    "tweets = tweets[~tweets[\"clean_translation\"].str.contains(\"bribe\", na=False)]"
   ]
  },
  {
   "cell_type": "code",
   "execution_count": 440,
   "metadata": {},
   "outputs": [],
   "source": [
    "judiciary = tweets[tweets[\"clean_translation\"].str.contains(\"judici\", na=False)]\n",
    "judiciary[\"judiciary\"] = 1\n",
    "tweets = tweets[~tweets[\"clean_translation\"].str.contains(\"judici\", na=False)]"
   ]
  },
  {
   "cell_type": "code",
   "execution_count": 441,
   "metadata": {},
   "outputs": [],
   "source": [
    "court = tweets[tweets[\"clean_translation\"].str.contains(\"court\", na=False)]\n",
    "court[\"court\"] = 1\n",
    "tweets = tweets[~tweets[\"clean_translation\"].str.contains(\"court\", na=False)]"
   ]
  },
  {
   "cell_type": "code",
   "execution_count": 442,
   "metadata": {},
   "outputs": [],
   "source": [
    "judge = tweets[tweets[\"clean_translation\"].str.contains(\"judge\", na=False)]\n",
    "judge[\"judge\"] = 1\n",
    "tweets = tweets[~tweets[\"clean_translation\"].str.contains(\"judge\", na=False)]"
   ]
  },
  {
   "cell_type": "code",
   "execution_count": 443,
   "metadata": {},
   "outputs": [],
   "source": [
    "corrupt = tweets[tweets[\"clean_translation\"].str.contains(\"corrupt\", na=False)]\n",
    "corrupt[\"corrupt\"] = 1\n",
    "tweets = tweets[~tweets[\"clean_translation\"].str.contains(\"corrupt\", na=False)]"
   ]
  },
  {
   "cell_type": "code",
   "execution_count": 444,
   "metadata": {},
   "outputs": [],
   "source": [
    "thieves = tweets[tweets[\"clean_translation\"].str.contains(\"thie\", na=False)]\n",
    "thieves[\"thieves\"] = 1\n",
    "tweets = tweets[~tweets[\"clean_translation\"].str.contains(\"thie\", na=False)]"
   ]
  },
  {
   "cell_type": "code",
   "execution_count": 445,
   "metadata": {},
   "outputs": [],
   "source": [
    "money = tweets[tweets[\"clean_translation\"].str.contains(\"money\", na=False)]\n",
    "money[\"money\"] = 1\n",
    "tweets = tweets[~tweets[\"clean_translation\"].str.contains(\"money\", na=False)]"
   ]
  },
  {
   "cell_type": "code",
   "execution_count": 446,
   "metadata": {},
   "outputs": [],
   "source": [
    "rupee = tweets[tweets[\"clean_translation\"].str.contains(\"rupee\", na=False)]\n",
    "rupee[\"rupee\"] = 1\n",
    "tweets = tweets[~tweets[\"clean_translation\"].str.contains(\"rupee\", na=False)]"
   ]
  },
  {
   "cell_type": "code",
   "execution_count": 447,
   "metadata": {},
   "outputs": [],
   "source": [
    "dollar = tweets[tweets[\"clean_translation\"].str.contains(\"dollar\", na=False)]\n",
    "dollar[\"dollar\"] = 1\n",
    "tweets = tweets[~tweets[\"clean_translation\"].str.contains(\"dollar\", na=False)]"
   ]
  },
  {
   "cell_type": "code",
   "execution_count": 448,
   "metadata": {},
   "outputs": [],
   "source": [
    "steal = tweets[tweets[\"clean_translation\"].str.contains(\"steal\", na=False)]\n",
    "steal[\"steal\"] = 1\n",
    "tweets = tweets[~tweets[\"clean_translation\"].str.contains(\"steal\", na=False)]"
   ]
  },
  {
   "cell_type": "code",
   "execution_count": null,
   "metadata": {},
   "outputs": [],
   "source": [
    "#Create and save rule of law dataframe"
   ]
  },
  {
   "cell_type": "code",
   "execution_count": 449,
   "metadata": {},
   "outputs": [],
   "source": [
    "law = pd.concat([legal, law, crime, trafficking, narc, bribe, judiciary, court, judge, corrupt, thieves, money, rupee, dollar, steal])"
   ]
  },
  {
   "cell_type": "code",
   "execution_count": 452,
   "metadata": {},
   "outputs": [],
   "source": [
    "with open(\"FINAL_rule_of_law_tweets.pickle\", \"wb\") as f:\n",
    "    pickle.dump(law, f)"
   ]
  },
  {
   "cell_type": "code",
   "execution_count": null,
   "metadata": {},
   "outputs": [],
   "source": [
    "#youth keywords"
   ]
  },
  {
   "cell_type": "code",
   "execution_count": 5,
   "metadata": {},
   "outputs": [],
   "source": [
    "youth = tweets[tweets[\"clean_translation\"].str.contains(\"youth\", na=False)]\n",
    "youth[\"youth\"] = 1\n",
    "tweets = tweets[~tweets[\"clean_translation\"].str.contains(\"youth\", na=False)]"
   ]
  },
  {
   "cell_type": "code",
   "execution_count": 6,
   "metadata": {},
   "outputs": [],
   "source": [
    "young = tweets[tweets[\"clean_translation\"].str.contains(\"young\", na=False)]\n",
    "young[\"young\"] = 1\n",
    "tweets = tweets[~tweets[\"clean_translation\"].str.contains(\"young\", na=False)]"
   ]
  },
  {
   "cell_type": "code",
   "execution_count": 7,
   "metadata": {},
   "outputs": [],
   "source": [
    "children = tweets[tweets[\"clean_translation\"].str.contains(\"child\", na=False)]\n",
    "children[\"children\"] = 1\n",
    "tweets = tweets[~tweets[\"clean_translation\"].str.contains(\"child\", na=False)]"
   ]
  },
  {
   "cell_type": "code",
   "execution_count": null,
   "metadata": {},
   "outputs": [],
   "source": [
    "#create and save youth dataframe"
   ]
  },
  {
   "cell_type": "code",
   "execution_count": 8,
   "metadata": {},
   "outputs": [],
   "source": [
    "youth = pd.concat([youth, young, children])"
   ]
  },
  {
   "cell_type": "code",
   "execution_count": 9,
   "metadata": {},
   "outputs": [],
   "source": [
    "with open(\"FINAL_youth_tweets.pickle\", \"wb\") as f:\n",
    "    pickle.dump(youth, f)"
   ]
  },
  {
   "cell_type": "code",
   "execution_count": null,
   "metadata": {},
   "outputs": [],
   "source": [
    "#elections keywords"
   ]
  },
  {
   "cell_type": "code",
   "execution_count": 462,
   "metadata": {},
   "outputs": [],
   "source": [
    "elections = tweets[tweets[\"clean_translation\"].str.contains(\"elect\", na=False)]\n",
    "elections[\"elections\"] = 1\n",
    "tweets = tweets[~tweets[\"clean_translation\"].str.contains(\"elect\", na=False)]"
   ]
  },
  {
   "cell_type": "code",
   "execution_count": 463,
   "metadata": {},
   "outputs": [],
   "source": [
    "vote = tweets[tweets[\"clean_translation\"].str.contains(\"vote\", na=False)]\n",
    "vote[\"vote\"] = 1\n",
    "tweets = tweets[~tweets[\"clean_translation\"].str.contains(\"vote\", na=False)]"
   ]
  },
  {
   "cell_type": "code",
   "execution_count": 464,
   "metadata": {},
   "outputs": [],
   "source": [
    "ballot = tweets[tweets[\"clean_translation\"].str.contains(\"ballot\", na=False)]\n",
    "ballot[\"ballot\"] = 1\n",
    "tweets = tweets[~tweets[\"clean_translation\"].str.contains(\"ballot\", na=False)]"
   ]
  },
  {
   "cell_type": "code",
   "execution_count": 465,
   "metadata": {},
   "outputs": [],
   "source": [
    "franchise = tweets[tweets[\"clean_translation\"].str.contains(\"franchise\", na=False)]\n",
    "franchise[\"franchise\"] = 1\n",
    "tweets = tweets[~tweets[\"clean_translation\"].str.contains(\"franchise\", na=False)]"
   ]
  },
  {
   "cell_type": "code",
   "execution_count": 277,
   "metadata": {},
   "outputs": [],
   "source": [
    "#Create and save elections dataframe"
   ]
  },
  {
   "cell_type": "code",
   "execution_count": 467,
   "metadata": {},
   "outputs": [],
   "source": [
    "elections = pd.concat([elections, vote, ballot, franchise])"
   ]
  },
  {
   "cell_type": "code",
   "execution_count": 496,
   "metadata": {},
   "outputs": [],
   "source": [
    "with open(\"FINAL_elections_tweets.pickle\", \"wb\") as f:\n",
    "    pickle.dump(elections, f)"
   ]
  },
  {
   "cell_type": "code",
   "execution_count": null,
   "metadata": {},
   "outputs": [],
   "source": [
    "#Internally displaced persons keywords"
   ]
  },
  {
   "cell_type": "code",
   "execution_count": 470,
   "metadata": {},
   "outputs": [],
   "source": [
    "displaced = tweets[tweets[\"clean_translation\"].str.contains(\"displac\", na=False)]\n",
    "displaced[\"displaced\"] = 1\n",
    "tweets = tweets[~tweets[\"clean_translation\"].str.contains(\"displac\", na=False)]"
   ]
  },
  {
   "cell_type": "code",
   "execution_count": 471,
   "metadata": {},
   "outputs": [],
   "source": [
    "idp = tweets[tweets[\"clean_translation\"].str.contains(\"idp\", na=False)]\n",
    "idp[\"idp\"] = 1\n",
    "tweets = tweets[~tweets[\"clean_translation\"].str.contains(\"idp\", na=False)]"
   ]
  },
  {
   "cell_type": "code",
   "execution_count": 472,
   "metadata": {},
   "outputs": [],
   "source": [
    "baka_khel = tweets[tweets[\"clean_translation\"].str.contains(\"baka khel\", na=False)]\n",
    "baka_khel[\"baka_khel\"] = 1\n",
    "tweets = tweets[~tweets[\"clean_translation\"].str.contains(\"baka khel\", na=False)]"
   ]
  },
  {
   "cell_type": "code",
   "execution_count": 473,
   "metadata": {},
   "outputs": [],
   "source": [
    "refugee = tweets[tweets[\"clean_translation\"].str.contains(\"refugee\", na=False)]\n",
    "refugee[\"refugee\"] = 1\n",
    "tweets = tweets[~tweets[\"clean_translation\"].str.contains(\"refugee\", na=False)]"
   ]
  },
  {
   "cell_type": "code",
   "execution_count": 474,
   "metadata": {},
   "outputs": [],
   "source": [
    "tdp = tweets[tweets[\"clean_translation\"].str.contains(\"tdp\", na=False)]\n",
    "tdp[\"tdp\"] = 1\n",
    "tweets = tweets[~tweets[\"clean_translation\"].str.contains(\"tdp\", na=False)]"
   ]
  },
  {
   "cell_type": "code",
   "execution_count": null,
   "metadata": {},
   "outputs": [],
   "source": [
    "#Create and save internally displaced persons dataframe"
   ]
  },
  {
   "cell_type": "code",
   "execution_count": 475,
   "metadata": {},
   "outputs": [],
   "source": [
    "displaced = pd.concat([displaced, idp, baka_khel, refugee, tdp])"
   ]
  },
  {
   "cell_type": "code",
   "execution_count": 477,
   "metadata": {},
   "outputs": [],
   "source": [
    "with open(\"FINAL_displaced_persons_tweets.pickle\", \"wb\") as f:\n",
    "    pickle.dump(displaced, f)"
   ]
  },
  {
   "cell_type": "code",
   "execution_count": null,
   "metadata": {},
   "outputs": [],
   "source": [
    "#Women keywords"
   ]
  },
  {
   "cell_type": "code",
   "execution_count": 10,
   "metadata": {},
   "outputs": [],
   "source": [
    "women = tweets[tweets[\"clean_translation\"].str.contains(\"wom\", na=False)]\n",
    "women[\"women\"] = 1\n",
    "tweets = tweets[~tweets[\"clean_translation\"].str.contains(\"wom\", na=False)]"
   ]
  },
  {
   "cell_type": "code",
   "execution_count": 11,
   "metadata": {},
   "outputs": [],
   "source": [
    "domestic_violence = tweets[tweets[\"clean_translation\"].str.contains(\"domestic violence\", na=False)]\n",
    "domestic_violence[\"domestic_violence\"] = 1\n",
    "tweets = tweets[~tweets[\"clean_translation\"].str.contains(\"domestic violence\", na=False)]"
   ]
  },
  {
   "cell_type": "code",
   "execution_count": 12,
   "metadata": {},
   "outputs": [],
   "source": [
    "forced_marriage = tweets[tweets[\"clean_translation\"].str.contains(\"forced marriage\", na=False)]\n",
    "forced_marriage[\"forced_marriage\"] = 1\n",
    "tweets = tweets[~tweets[\"clean_translation\"].str.contains(\"forced marriage\", na=False)]"
   ]
  },
  {
   "cell_type": "code",
   "execution_count": 13,
   "metadata": {},
   "outputs": [],
   "source": [
    "honour_killing = tweets[tweets[\"clean_translation\"].str.contains(\"honour kill\", na=False)]\n",
    "honour_killing[\"honour_killing\"] = 1\n",
    "tweets = tweets[~tweets[\"clean_translation\"].str.contains(\"forced marriage\", na=False)]"
   ]
  },
  {
   "cell_type": "code",
   "execution_count": null,
   "metadata": {},
   "outputs": [],
   "source": [
    "#Create and save women dataframe"
   ]
  },
  {
   "cell_type": "code",
   "execution_count": 14,
   "metadata": {},
   "outputs": [],
   "source": [
    "women = pd.concat([women, domestic_violence, forced_marriage, honour_killing])"
   ]
  },
  {
   "cell_type": "code",
   "execution_count": 16,
   "metadata": {},
   "outputs": [],
   "source": [
    "with open(\"FINAL_women_tweets.pickle\", \"wb\") as f:\n",
    "    pickle.dump(women, f)"
   ]
  },
  {
   "cell_type": "code",
   "execution_count": null,
   "metadata": {},
   "outputs": [],
   "source": [
    "#Create counts of each major category and save categorized tweets as one dataframe"
   ]
  },
  {
   "cell_type": "code",
   "execution_count": 499,
   "metadata": {},
   "outputs": [],
   "source": [
    "service_delivery[\"topic_service_delivery\"] = 1"
   ]
  },
  {
   "cell_type": "code",
   "execution_count": 500,
   "metadata": {},
   "outputs": [],
   "source": [
    "rights_and_activism[\"topic_rights_and_activism\"] = 1"
   ]
  },
  {
   "cell_type": "code",
   "execution_count": 501,
   "metadata": {},
   "outputs": [],
   "source": [
    "security_forces_extremism_violence[\"topic_security_forces_extremism_violence\"] = 1"
   ]
  },
  {
   "cell_type": "code",
   "execution_count": 504,
   "metadata": {},
   "outputs": [],
   "source": [
    "fata[\"topic_fata_merger\"] = 1"
   ]
  },
  {
   "cell_type": "code",
   "execution_count": 506,
   "metadata": {},
   "outputs": [],
   "source": [
    "youth[\"topic_youth\"] = 1"
   ]
  },
  {
   "cell_type": "code",
   "execution_count": 507,
   "metadata": {},
   "outputs": [],
   "source": [
    "youth[\"topic_youth\"] = 1"
   ]
  },
  {
   "cell_type": "code",
   "execution_count": 509,
   "metadata": {},
   "outputs": [],
   "source": [
    "displaced[\"topic_displaced_persons\"] = 1"
   ]
  },
  {
   "cell_type": "code",
   "execution_count": 510,
   "metadata": {},
   "outputs": [],
   "source": [
    "known_tweets = pd.concat([service_delivery, rights_and_activism, security_forces_extremism_violence, fata, law, youth, elections, displaced])"
   ]
  },
  {
   "cell_type": "code",
   "execution_count": 511,
   "metadata": {},
   "outputs": [],
   "source": [
    "with open(\"FINAL_kp_assigned_tweets.pickle\", \"wb\") as f:\n",
    "    pickle.dump(known_tweets, f)"
   ]
  }
 ],
 "metadata": {
  "kernelspec": {
   "display_name": "Python 3",
   "language": "python",
   "name": "python3"
  },
  "language_info": {
   "codemirror_mode": {
    "name": "ipython",
    "version": 3
   },
   "file_extension": ".py",
   "mimetype": "text/x-python",
   "name": "python",
   "nbconvert_exporter": "python",
   "pygments_lexer": "ipython3",
   "version": "3.5.5"
  }
 },
 "nbformat": 4,
 "nbformat_minor": 4
}
