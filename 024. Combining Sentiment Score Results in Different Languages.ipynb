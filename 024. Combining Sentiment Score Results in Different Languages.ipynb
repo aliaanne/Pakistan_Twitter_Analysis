{
 "cells": [
  {
   "cell_type": "code",
   "execution_count": null,
   "metadata": {},
   "outputs": [],
   "source": [
    "import pandas as pd\n",
    "import pickle\n",
    "import string\n",
    "import matplotlib.pyplot as plt\n",
    "import seaborn as sns\n",
    "import tokenizer\n",
    "import numpy as np\n",
    "import pandas as pd\n",
    "import pickle\n",
    "import string\n",
    "import matplotlib.pyplot as plt\n",
    "import seaborn as sns\n",
    "import nltk\n",
    "from nltk.tokenize import sent_tokenize\n",
    "nltk.download('punkt')\n",
    "import re\n",
    "import numpy as np\n",
    "import multiprocessing \n",
    "from multiprocessing import Pool\n",
    "import os\n",
    "import numpy as np\n",
    "import pandas as pd\n",
    "import matplotlib.pyplot as plt\n",
    "import seaborn as sns\n",
    "import itertools\n",
    "import collections\n",
    "# Import required modules\n",
    "import pandas as pd\n",
    "from sklearn import preprocessing"
   ]
  },
  {
   "cell_type": "code",
   "execution_count": null,
   "metadata": {},
   "outputs": [],
   "source": [
    "with open('FINAL_non_kp_english_hedonometer.pickle', \"rb\") as f:\n",
    "    non_english = pickle.load(f)"
   ]
  },
  {
   "cell_type": "code",
   "execution_count": null,
   "metadata": {},
   "outputs": [],
   "source": [
    "with open('NEW_non_kp_hedonometer_urdu_1.pickle', \"rb\") as f:\n",
    "    non_urdu1 = pickle.load(f)"
   ]
  },
  {
   "cell_type": "code",
   "execution_count": null,
   "metadata": {},
   "outputs": [],
   "source": [
    "with open('NEW_non_kp_hedonometer_urdu_1.pickle', \"rb\") as f:\n",
    "    non_urdu2 = pickle.load(f)"
   ]
  },
  {
   "cell_type": "code",
   "execution_count": null,
   "metadata": {},
   "outputs": [],
   "source": [
    "with open('NEW_non_kp_hedonometer_pashto.pickle', \"rb\") as f:\n",
    "    non_pashto = pickle.load(f)"
   ]
  },
  {
   "cell_type": "code",
   "execution_count": null,
   "metadata": {},
   "outputs": [],
   "source": [
    "with open('FINAL_kp_english_hedonometer.pickle', \"rb\") as f:\n",
    "    english = pickle.load(f)"
   ]
  },
  {
   "cell_type": "code",
   "execution_count": null,
   "metadata": {},
   "outputs": [],
   "source": [
    "with open('NEW_kp_hedonometer_urdu.pickle', \"rb\") as f:\n",
    "    urdu = pickle.load(f)"
   ]
  },
  {
   "cell_type": "code",
   "execution_count": null,
   "metadata": {},
   "outputs": [],
   "source": [
    "with open('NEW_kp_hedonometer_pashto.pickle', \"rb\") as f:\n",
    "    pashto = pickle.load(f)"
   ]
  },
  {
   "cell_type": "code",
   "execution_count": null,
   "metadata": {},
   "outputs": [],
   "source": [
    "#Combine sentiment scored tweets in Urdu outside of KP\n",
    "non_urdu = pd.concat([non_urdu1, non_urdu2])"
   ]
  },
  {
   "cell_type": "code",
   "execution_count": null,
   "metadata": {},
   "outputs": [],
   "source": [
    "#Combine sentiment scored tweets in Urdu, English, and Pasho outside of KP and save\n",
    "non = pd.concat([non_english, non_urdu, non_pashto])\n",
    "\n",
    "with open(\"non_kp_final_hedonometer.pickle\", \"wb\") as f:\n",
    "    pickle.dump(non, f)"
   ]
  },
  {
   "cell_type": "code",
   "execution_count": null,
   "metadata": {},
   "outputs": [],
   "source": [
    "#Combine sentiment scored tweets in Urdu, English, and Pashto inside KP and save\n",
    "kp = pd.concat([english, urdu, pashto])\n",
    "\n",
    "with open(\"kp_final_hedonometer.pickle\", \"wb\") as f:\n",
    "    pickle.dump(kp, f)"
   ]
  },
  {
   "cell_type": "code",
   "execution_count": null,
   "metadata": {},
   "outputs": [],
   "source": []
  },
  {
   "cell_type": "code",
   "execution_count": null,
   "metadata": {},
   "outputs": [],
   "source": []
  }
 ],
 "metadata": {
  "kernelspec": {
   "display_name": "Python 3",
   "language": "python",
   "name": "python3"
  },
  "language_info": {
   "codemirror_mode": {
    "name": "ipython",
    "version": 3
   },
   "file_extension": ".py",
   "mimetype": "text/x-python",
   "name": "python",
   "nbconvert_exporter": "python",
   "pygments_lexer": "ipython3",
   "version": "3.5.5"
  }
 },
 "nbformat": 4,
 "nbformat_minor": 4
}
