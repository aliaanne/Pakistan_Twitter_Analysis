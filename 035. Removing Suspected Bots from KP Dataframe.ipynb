{
 "cells": [
  {
   "cell_type": "code",
   "execution_count": 17,
   "metadata": {},
   "outputs": [],
   "source": [
    "# packages to store and manipulate data\n",
    "import pandas as pd\n",
    "import numpy as np\n",
    "import pickle\n",
    "\n",
    "# plotting packages\n",
    "import matplotlib.pyplot as plt\n",
    "import seaborn as sns\n",
    "\n",
    "# model building package\n",
    "import sklearn\n",
    "\n",
    "# package to clean text\n",
    "import re"
   ]
  },
  {
   "cell_type": "code",
   "execution_count": 32,
   "metadata": {},
   "outputs": [],
   "source": [
    "with open('FINAL_KP_TWEETS_WITH_TOPICS_SENTIMENTS.pickle', \"rb\") as f:\n",
    "    tweets = pickle.load(f)"
   ]
  },
  {
   "cell_type": "code",
   "execution_count": 21,
   "metadata": {},
   "outputs": [],
   "source": [
    "with open('potential_bots_based_on_std.pickle', \"rb\") as f:\n",
    "    sdbots = pickle.load(f)"
   ]
  },
  {
   "cell_type": "code",
   "execution_count": 22,
   "metadata": {},
   "outputs": [],
   "source": [
    "with open('potential_bots_based_on_tpd.pickle', \"rb\") as f:\n",
    "    tpdbots = pickle.load(f)"
   ]
  },
  {
   "cell_type": "code",
   "execution_count": 58,
   "metadata": {},
   "outputs": [],
   "source": [
    "#Create a dataframe of users whose first tweet was in 2019\n",
    "recent = tweets.set_index(\"index\")\n",
    "recent = recent.sort_index()\n",
    "users = recent[[\"user_id\"]]\n",
    "users = users.reset_index()\n",
    "users = users.groupby(\"user_id\").first()\n",
    "recent = recent[\"2019-01-01\":\"2020-05-05\"]"
   ]
  },
  {
   "cell_type": "code",
   "execution_count": 59,
   "metadata": {},
   "outputs": [],
   "source": [
    "#Put these user id's from recent users (since 2019) and suspected bots based on sd of tweet timing and tweets per day into lists \n",
    "bots = recent[\"user_id\"].tolist()\n",
    "bots1 = sdbots[\"user_id\"].tolist()\n",
    "bots2 = tpdbots[\"user_id\"].tolist()"
   ]
  },
  {
   "cell_type": "code",
   "execution_count": null,
   "metadata": {},
   "outputs": [],
   "source": [
    "#Remove each list of user id's from main tweets dataframe and save\n",
    "tweets = tweets[~tweets.user_id.isin(bots)]\n",
    "tweets = tweets[~tweets.user_id.isin(bots1)]\n",
    "tweets = tweets[~tweets.user_id.isin(bots2)]\n",
    "\n",
    "with open(\"FINAL_KP_TWEETS_NO_2019_BOTS.pickle\", \"wb\") as f:\n",
    "    pickle.dump(tweets, f)"
   ]
  },
  {
   "cell_type": "code",
   "execution_count": null,
   "metadata": {},
   "outputs": [],
   "source": []
  },
  {
   "cell_type": "code",
   "execution_count": null,
   "metadata": {},
   "outputs": [],
   "source": []
  }
 ],
 "metadata": {
  "kernelspec": {
   "display_name": "Python 3",
   "language": "python",
   "name": "python3"
  },
  "language_info": {
   "codemirror_mode": {
    "name": "ipython",
    "version": 3
   },
   "file_extension": ".py",
   "mimetype": "text/x-python",
   "name": "python",
   "nbconvert_exporter": "python",
   "pygments_lexer": "ipython3",
   "version": "3.5.5"
  }
 },
 "nbformat": 4,
 "nbformat_minor": 4
}
