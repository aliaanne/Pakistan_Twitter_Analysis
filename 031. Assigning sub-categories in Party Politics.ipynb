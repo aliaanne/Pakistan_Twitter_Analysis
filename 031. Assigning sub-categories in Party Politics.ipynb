{
 "cells": [
  {
   "cell_type": "code",
   "execution_count": 164,
   "metadata": {},
   "outputs": [],
   "source": [
    "import plotly\n",
    "import os\n",
    "import numpy as np\n",
    "import pandas as pd\n",
    "import matplotlib.pyplot as plt\n",
    "import seaborn as sns\n",
    "import itertools\n",
    "import collections\n",
    "\n",
    "import nltk\n",
    "from nltk import bigrams\n",
    "from nltk.corpus import stopwords\n",
    "import re\n",
    "import networkx as nx\n",
    "\n",
    "import warnings\n",
    "warnings.filterwarnings(\"ignore\")\n",
    "\n",
    "sns.set(font_scale=1.5)\n",
    "sns.set_style(\"whitegrid\")\n",
    "\n",
    "import pickle\n",
    "\n",
    "\n",
    "\n",
    "import os\n",
    "import pandas as pd\n",
    "import matplotlib.pyplot as plt\n",
    "import seaborn as sns\n",
    "import itertools\n",
    "import collections\n",
    "import pickle\n",
    "import geopandas as gpd\n",
    "\n",
    "import nltk\n",
    "from nltk.corpus import stopwords\n",
    "import re\n",
    "\n",
    "import warnings\n",
    "warnings.filterwarnings(\"ignore\")\n",
    "\n",
    "sns.set(font_scale=1.5)\n",
    "sns.set_style(\"whitegrid\")\n",
    "\n",
    "import multiprocessing \n",
    "from multiprocessing import Pool"
   ]
  },
  {
   "cell_type": "code",
   "execution_count": 2,
   "metadata": {},
   "outputs": [],
   "source": [
    "with open('FINAL_KP_TWEETS_WITH_TOPICS_SENTIMENTS.pickle', \"rb\") as f:\n",
    "    total_tweets = pickle.load(f)"
   ]
  },
  {
   "cell_type": "code",
   "execution_count": 3,
   "metadata": {},
   "outputs": [],
   "source": [
    "#Display max rows/columns\n",
    "pd.set_option('display.max_rows', None)\n",
    "pd.set_option('display.max_columns', None)\n",
    "pd.set_option('display.width', None)\n",
    "pd.set_option('display.max_colwidth', -1)"
   ]
  },
  {
   "cell_type": "code",
   "execution_count": 172,
   "metadata": {},
   "outputs": [],
   "source": [
    "#Select only party politics tweets since 2018\n",
    "tweets = total_tweets[total_tweets[\"topic_name\"]==\"Party Politics in KP\"]\n",
    "tweets = tweets.set_index(\"index\")\n",
    "tweets = tweets[\"2018-01-01\":]"
   ]
  },
  {
   "cell_type": "code",
   "execution_count": null,
   "metadata": {},
   "outputs": [],
   "source": [
    "#Use keyword search to create dataframes of sub-topics in tweets and remove each categorized tweet from main dataframe.\n",
    "#Combine related tweets into sub-topic dataframes."
   ]
  },
  {
   "cell_type": "code",
   "execution_count": 174,
   "metadata": {},
   "outputs": [],
   "source": [
    "khan = tweets[tweets[\"clean_translation\"].str.contains(\"khan\", na=False)]\n",
    "tweets = tweets[~tweets[\"clean_translation\"].str.contains(\"khan\", na=False)]"
   ]
  },
  {
   "cell_type": "code",
   "execution_count": 175,
   "metadata": {},
   "outputs": [],
   "source": [
    "minister = tweets[tweets[\"clean_translation\"].str.contains(\"minister\", na=False)]\n",
    "tweets = tweets[~tweets[\"clean_translation\"].str.contains(\"minister\", na=False)]"
   ]
  },
  {
   "cell_type": "code",
   "execution_count": 176,
   "metadata": {},
   "outputs": [],
   "source": [
    "pti = tweets[tweets[\"clean_translation\"].str.contains(\"pti\", na=False)]\n",
    "tweets = tweets[~tweets[\"clean_translation\"].str.contains(\"pti\", na=False)]"
   ]
  },
  {
   "cell_type": "code",
   "execution_count": 177,
   "metadata": {},
   "outputs": [],
   "source": [
    "imran = tweets[tweets[\"clean_translation\"].str.contains(\"imran\", na=False)]\n",
    "tweets = tweets[~tweets[\"clean_translation\"].str.contains(\"imran\", na=False)]"
   ]
  },
  {
   "cell_type": "code",
   "execution_count": 178,
   "metadata": {},
   "outputs": [],
   "source": [
    "assembly = tweets[tweets[\"clean_translation\"].str.contains(\"assembly\", na=False)]\n",
    "tweets = tweets[~tweets[\"clean_translation\"].str.contains(\"assembly\", na=False)]"
   ]
  },
  {
   "cell_type": "code",
   "execution_count": 179,
   "metadata": {},
   "outputs": [],
   "source": [
    "chairman = tweets[tweets[\"clean_translation\"].str.contains(\"chairman\", na=False)]\n",
    "tweets = tweets[~tweets[\"clean_translation\"].str.contains(\"chairman\", na=False)]"
   ]
  },
  {
   "cell_type": "code",
   "execution_count": 180,
   "metadata": {},
   "outputs": [],
   "source": [
    "rehman  = tweets[tweets[\"clean_translation\"].str.contains(\"rehman\", na=False)]\n",
    "tweets = tweets[~tweets[\"clean_translation\"].str.contains(\"rehman\", na=False)]"
   ]
  },
  {
   "cell_type": "code",
   "execution_count": 181,
   "metadata": {},
   "outputs": [],
   "source": [
    "fazlur = tweets[tweets[\"clean_translation\"].str.contains(\"fazlur\", na=False)]\n",
    "tweets = tweets[~tweets[\"clean_translation\"].str.contains(\"fazlur\", na=False)]"
   ]
  },
  {
   "cell_type": "code",
   "execution_count": 182,
   "metadata": {},
   "outputs": [],
   "source": [
    "prime = tweets[tweets[\"clean_translation\"].str.contains(\"prime\", na=False)]\n",
    "tweets = tweets[~tweets[\"clean_translation\"].str.contains(\"prime\", na=False)]"
   ]
  },
  {
   "cell_type": "code",
   "execution_count": 183,
   "metadata": {},
   "outputs": [],
   "source": [
    "awami = tweets[tweets[\"clean_translation\"].str.contains(\"awami\", na=False)]\n",
    "tweets = tweets[~tweets[\"clean_translation\"].str.contains(\"awami\", na=False)]"
   ]
  },
  {
   "cell_type": "code",
   "execution_count": 184,
   "metadata": {},
   "outputs": [],
   "source": [
    "dawar = tweets[tweets[\"clean_translation\"].str.contains(\"dawar\", na=False)]\n",
    "tweets = tweets[~tweets[\"clean_translation\"].str.contains(\"dawar\", na=False)]"
   ]
  },
  {
   "cell_type": "code",
   "execution_count": 185,
   "metadata": {},
   "outputs": [],
   "source": [
    "watan = tweets[tweets[\"clean_translation\"].str.contains(\"watan\", na=False)]\n",
    "tweets = tweets[~tweets[\"clean_translation\"].str.contains(\"watan\", na=False)]"
   ]
  },
  {
   "cell_type": "code",
   "execution_count": 186,
   "metadata": {},
   "outputs": [],
   "source": [
    "wazir = tweets[tweets[\"clean_translation\"].str.contains(\"wazir\", na=False)]\n",
    "tweets = tweets[~tweets[\"clean_translation\"].str.contains(\"wazir\", na=False)]"
   ]
  },
  {
   "cell_type": "code",
   "execution_count": 187,
   "metadata": {},
   "outputs": [],
   "source": [
    "jamiat = tweets[tweets[\"clean_translation\"].str.contains(\"jamiat\", na=False)]\n",
    "tweets = tweets[~tweets[\"clean_translation\"].str.contains(\"jamiat\", na=False)]"
   ]
  },
  {
   "cell_type": "code",
   "execution_count": 188,
   "metadata": {},
   "outputs": [],
   "source": [
    "ulemaeislam = tweets[tweets[\"clean_translation\"].str.contains(\"ulemaeislam\", na=False)]\n",
    "tweets = tweets[~tweets[\"clean_translation\"].str.contains(\"ulemaeislam\", na=False)]"
   ]
  },
  {
   "cell_type": "code",
   "execution_count": 189,
   "metadata": {},
   "outputs": [],
   "source": [
    "mian_iftikhar = tweets[tweets[\"clean_translation\"].str.contains(\"mian iftikhar\", na=False)]\n",
    "tweets = tweets[~tweets[\"clean_translation\"].str.contains(\"mian iftikhar\", na=False)]"
   ]
  },
  {
   "cell_type": "code",
   "execution_count": 190,
   "metadata": {},
   "outputs": [],
   "source": [
    "district_commissioner = tweets[tweets[\"clean_translation\"].str.contains(\"commissioner\", na=False)]\n",
    "tweets = tweets[~tweets[\"clean_translation\"].str.contains(\"commissioner\", na=False)]"
   ]
  },
  {
   "cell_type": "code",
   "execution_count": 191,
   "metadata": {},
   "outputs": [],
   "source": [
    "afridi = tweets[tweets[\"clean_translation\"].str.contains(\"afridi\", na=False)]\n",
    "tweets = tweets[~tweets[\"clean_translation\"].str.contains(\"afridi\", na=False)]"
   ]
  },
  {
   "cell_type": "code",
   "execution_count": 192,
   "metadata": {},
   "outputs": [],
   "source": [
    "ispr = tweets[tweets[\"clean_translation\"].str.contains(\"ispr\", na=False)]\n",
    "tweets = tweets[~tweets[\"clean_translation\"].str.contains(\"ispr\", na=False)]"
   ]
  },
  {
   "cell_type": "code",
   "execution_count": 193,
   "metadata": {},
   "outputs": [],
   "source": [
    "arif = tweets[tweets[\"clean_translation\"].str.contains(\"arif\", na=False)]\n",
    "tweets = tweets[~tweets[\"clean_translation\"].str.contains(\"arif\", na=False)]"
   ]
  },
  {
   "cell_type": "code",
   "execution_count": 194,
   "metadata": {},
   "outputs": [],
   "source": [
    "alvi = tweets[tweets[\"clean_translation\"].str.contains(\"alvi\", na=False)]\n",
    "tweets = tweets[~tweets[\"clean_translation\"].str.contains(\"alvi\", na=False)]"
   ]
  },
  {
   "cell_type": "code",
   "execution_count": 195,
   "metadata": {},
   "outputs": [],
   "source": [
    "muhammad_tahir = tweets[tweets[\"clean_translation\"].str.contains(\"muhammad tahir\", na=False)]\n",
    "tweets = tweets[~tweets[\"clean_translation\"].str.contains(\"muhammad tahir\", na=False)]"
   ]
  },
  {
   "cell_type": "code",
   "execution_count": 196,
   "metadata": {},
   "outputs": [],
   "source": [
    "ali_shah = tweets[tweets[\"clean_translation\"].str.contains(\"ali shah\", na=False)]\n",
    "tweets = tweets[~tweets[\"clean_translation\"].str.contains(\"ali shah\", na=False)]"
   ]
  },
  {
   "cell_type": "code",
   "execution_count": 197,
   "metadata": {},
   "outputs": [],
   "source": [
    "nawaz_sharif = tweets[tweets[\"clean_translation\"].str.contains(\"nawaz sharif\", na=False)]\n",
    "tweets = tweets[~tweets[\"clean_translation\"].str.contains(\"nawaz sharif\", na=False)]"
   ]
  },
  {
   "cell_type": "code",
   "execution_count": 198,
   "metadata": {},
   "outputs": [],
   "source": [
    "bilawal_bhutto = tweets[tweets[\"clean_translation\"].str.contains(\"bilawal bhutto\", na=False)]\n",
    "tweets = tweets[~tweets[\"clean_translation\"].str.contains(\"bilawal bhutto\", na=False)]"
   ]
  },
  {
   "cell_type": "code",
   "execution_count": 245,
   "metadata": {},
   "outputs": [],
   "source": [
    "manzoor = tweets[tweets[\"clean_translation\"].str.contains(\"manzoor\", na=False)]\n",
    "tweets = tweets[~tweets[\"clean_translation\"].str.contains(\"manzoor\", na=False)]"
   ]
  },
  {
   "cell_type": "code",
   "execution_count": 200,
   "metadata": {},
   "outputs": [],
   "source": [
    "president = tweets[tweets[\"clean_translation\"].str.contains(\"president\", na=False)]\n",
    "tweets = tweets[~tweets[\"clean_translation\"].str.contains(\"president\", na=False)]"
   ]
  },
  {
   "cell_type": "code",
   "execution_count": 201,
   "metadata": {},
   "outputs": [],
   "source": [
    "khyber = tweets[tweets[\"clean_translation\"].str.contains(\"khyber\", na=False)]\n",
    "tweets = tweets[~tweets[\"clean_translation\"].str.contains(\"khyber\", na=False)]"
   ]
  },
  {
   "cell_type": "code",
   "execution_count": 202,
   "metadata": {},
   "outputs": [],
   "source": [
    "army = tweets[tweets[\"clean_translation\"].str.contains(\"army\", na=False)]\n",
    "tweets = tweets[~tweets[\"clean_translation\"].str.contains(\"army\", na=False)]"
   ]
  },
  {
   "cell_type": "code",
   "execution_count": 203,
   "metadata": {},
   "outputs": [],
   "source": [
    "election = tweets[tweets[\"clean_translation\"].str.contains(\"elect\", na=False)]\n",
    "tweets = tweets[~tweets[\"clean_translation\"].str.contains(\"elect\", na=False)]"
   ]
  },
  {
   "cell_type": "code",
   "execution_count": 204,
   "metadata": {},
   "outputs": [],
   "source": [
    "pakhtunkhwa = tweets[tweets[\"clean_translation\"].str.contains(\"pakhtunkhwa\", na=False)]\n",
    "tweets = tweets[~tweets[\"clean_translation\"].str.contains(\"pakhtunkhwa\", na=False)]"
   ]
  },
  {
   "cell_type": "code",
   "execution_count": 205,
   "metadata": {},
   "outputs": [],
   "source": [
    "ppp = tweets[tweets[\"clean_translation\"].str.contains(\"ppp\", na=False)]\n",
    "tweets = tweets[~tweets[\"clean_translation\"].str.contains(\"ppp\", na=False)]"
   ]
  },
  {
   "cell_type": "code",
   "execution_count": 206,
   "metadata": {},
   "outputs": [],
   "source": [
    "pmln = tweets[tweets[\"clean_translation\"].str.contains(\"pmln\", na=False)]\n",
    "tweets = tweets[~tweets[\"clean_translation\"].str.contains(\"pmln\", na=False)]"
   ]
  },
  {
   "cell_type": "code",
   "execution_count": 207,
   "metadata": {},
   "outputs": [],
   "source": [
    "media = tweets[tweets[\"clean_translation\"].str.contains(\"media\", na=False)]\n",
    "tweets = tweets[~tweets[\"clean_translation\"].str.contains(\"media\", na=False)]"
   ]
  },
  {
   "cell_type": "code",
   "execution_count": 208,
   "metadata": {},
   "outputs": [],
   "source": [
    "chief_justice = tweets[tweets[\"clean_translation\"].str.contains(\"chief justice\", na=False)]\n",
    "tweets = tweets[~tweets[\"clean_translation\"].str.contains(\"chief justice\", na=False)]"
   ]
  },
  {
   "cell_type": "code",
   "execution_count": 209,
   "metadata": {},
   "outputs": [],
   "source": [
    "ptm = tweets[tweets[\"clean_translation\"].str.contains(\"ptm\", na=False)]\n",
    "tweets = tweets[~tweets[\"clean_translation\"].str.contains(\"ptm\", na=False)]"
   ]
  },
  {
   "cell_type": "code",
   "execution_count": 210,
   "metadata": {},
   "outputs": [],
   "source": [
    "jamaateislami = tweets[tweets[\"clean_translation\"].str.contains(\"jamaateislami\", na=False)]\n",
    "tweets = tweets[~tweets[\"clean_translation\"].str.contains(\"jamaateislami\", na=False)]"
   ]
  },
  {
   "cell_type": "code",
   "execution_count": 211,
   "metadata": {},
   "outputs": [],
   "source": [
    "khattak = tweets[tweets[\"clean_translation\"].str.contains(\"khattak\", na=False)]\n",
    "tweets = tweets[~tweets[\"clean_translation\"].str.contains(\"khattak\", na=False)]"
   ]
  },
  {
   "cell_type": "code",
   "execution_count": 212,
   "metadata": {},
   "outputs": [],
   "source": [
    "kp = tweets[tweets[\"clean_translation\"].str.contains(\"kp\", na=False)]\n",
    "tweets = tweets[~tweets[\"clean_translation\"].str.contains(\"kp\", na=False)]"
   ]
  },
  {
   "cell_type": "code",
   "execution_count": 213,
   "metadata": {},
   "outputs": [],
   "source": [
    "pm = tweets[tweets[\"clean_translation\"].str.contains(\"pm\", na=False)]\n",
    "tweets = tweets[~tweets[\"clean_translation\"].str.contains(\"pm\", na=False)]"
   ]
  },
  {
   "cell_type": "code",
   "execution_count": 214,
   "metadata": {},
   "outputs": [],
   "source": [
    "movement = tweets[tweets[\"clean_translation\"].str.contains(\"movement\", na=False)]\n",
    "tweets = tweets[~tweets[\"clean_translation\"].str.contains(\"movement\", na=False)]"
   ]
  },
  {
   "cell_type": "code",
   "execution_count": 215,
   "metadata": {},
   "outputs": [],
   "source": [
    "amir = tweets[tweets[\"clean_translation\"].str.contains(\"amir\", na=False)]\n",
    "tweets = tweets[~tweets[\"clean_translation\"].str.contains(\"amir\", na=False)]"
   ]
  },
  {
   "cell_type": "code",
   "execution_count": 216,
   "metadata": {},
   "outputs": [],
   "source": [
    "hussain = tweets[tweets[\"clean_translation\"].str.contains(\"hussain\", na=False)]\n",
    "tweets = tweets[~tweets[\"clean_translation\"].str.contains(\"hussain\", na=False)]"
   ]
  },
  {
   "cell_type": "code",
   "execution_count": 217,
   "metadata": {},
   "outputs": [],
   "source": [
    "bhutto = tweets[tweets[\"clean_translation\"].str.contains(\"bhutto\", na=False)]\n",
    "tweets = tweets[~tweets[\"clean_translation\"].str.contains(\"bhutto\", na=False)]"
   ]
  },
  {
   "cell_type": "code",
   "execution_count": 218,
   "metadata": {},
   "outputs": [],
   "source": [
    "pashtun = tweets[tweets[\"clean_translation\"].str.contains(\"pashtun\", na=False)]\n",
    "tweets = tweets[~tweets[\"clean_translation\"].str.contains(\"pashtun\", na=False)]"
   ]
  },
  {
   "cell_type": "code",
   "execution_count": 219,
   "metadata": {},
   "outputs": [],
   "source": [
    "kashmir = tweets[tweets[\"clean_translation\"].str.contains(\"kashmir\", na=False)]\n",
    "tweets = tweets[~tweets[\"clean_translation\"].str.contains(\"kashmir\", na=False)]"
   ]
  },
  {
   "cell_type": "code",
   "execution_count": 220,
   "metadata": {},
   "outputs": [],
   "source": [
    "mpa = tweets[tweets[\"clean_translation\"].str.contains(\"mpa\", na=False)]\n",
    "tweets = tweets[~tweets[\"clean_translation\"].str.contains(\"mpa\", na=False)]"
   ]
  },
  {
   "cell_type": "code",
   "execution_count": 221,
   "metadata": {},
   "outputs": [],
   "source": [
    "mna = tweets[tweets[\"clean_translation\"].str.contains(\"mna\", na=False)]\n",
    "tweets = tweets[~tweets[\"clean_translation\"].str.contains(\"mna\", na=False)]"
   ]
  },
  {
   "cell_type": "code",
   "execution_count": 222,
   "metadata": {},
   "outputs": [],
   "source": [
    "police = tweets[tweets[\"clean_translation\"].str.contains(\"police\", na=False)]\n",
    "tweets = tweets[~tweets[\"clean_translation\"].str.contains(\"police\", na=False)]"
   ]
  },
  {
   "cell_type": "code",
   "execution_count": 223,
   "metadata": {},
   "outputs": [],
   "source": [
    "governor = tweets[tweets[\"clean_translation\"].str.contains(\"governor\", na=False)]\n",
    "tweets = tweets[~tweets[\"clean_translation\"].str.contains(\"governor\", na=False)]"
   ]
  },
  {
   "cell_type": "code",
   "execution_count": 224,
   "metadata": {},
   "outputs": [],
   "source": [
    "tribal = tweets[tweets[\"clean_translation\"].str.contains(\"tribal\", na=False)]\n",
    "tweets = tweets[~tweets[\"clean_translation\"].str.contains(\"tribal\", na=False)]"
   ]
  },
  {
   "cell_type": "code",
   "execution_count": 225,
   "metadata": {},
   "outputs": [],
   "source": [
    "fata = tweets[tweets[\"clean_translation\"].str.contains(\"fata\", na=False)]\n",
    "tweets = tweets[~tweets[\"clean_translation\"].str.contains(\"fata\", na=False)]"
   ]
  },
  {
   "cell_type": "code",
   "execution_count": 226,
   "metadata": {},
   "outputs": [],
   "source": [
    "haq = tweets[tweets[\"clean_translation\"].str.contains(\"haq\", na=False)]\n",
    "tweets = tweets[~tweets[\"clean_translation\"].str.contains(\"haq\", na=False)]"
   ]
  },
  {
   "cell_type": "code",
   "execution_count": 227,
   "metadata": {},
   "outputs": [],
   "source": [
    "isf = tweets[tweets[\"clean_translation\"].str.contains(\"isf\", na=False)]\n",
    "tweets = tweets[~tweets[\"clean_translation\"].str.contains(\"isf\", na=False)]"
   ]
  },
  {
   "cell_type": "code",
   "execution_count": 228,
   "metadata": {},
   "outputs": [],
   "source": [
    "mufti = tweets[tweets[\"clean_translation\"].str.contains(\"mufti\", na=False)]\n",
    "tweets = tweets[~tweets[\"clean_translation\"].str.contains(\"mufti\", na=False)]"
   ]
  },
  {
   "cell_type": "code",
   "execution_count": 229,
   "metadata": {},
   "outputs": [],
   "source": [
    "protest = tweets[tweets[\"clean_translation\"].str.contains(\"protest\", na=False)]\n",
    "tweets = tweets[~tweets[\"clean_translation\"].str.contains(\"protest\", na=False)]"
   ]
  },
  {
   "cell_type": "code",
   "execution_count": 230,
   "metadata": {},
   "outputs": [],
   "source": [
    "youth = tweets[tweets[\"clean_translation\"].str.contains(\"youth\", na=False)]\n",
    "tweets = tweets[~tweets[\"clean_translation\"].str.contains(\"youth\", na=False)]"
   ]
  },
  {
   "cell_type": "code",
   "execution_count": 231,
   "metadata": {},
   "outputs": [],
   "source": [
    "anp = tweets[tweets[\"clean_translation\"].str.contains(\"anp\", na=False)]\n",
    "tweets = tweets[~tweets[\"clean_translation\"].str.contains(\"anp\", na=False)]"
   ]
  },
  {
   "cell_type": "code",
   "execution_count": 232,
   "metadata": {},
   "outputs": [],
   "source": [
    "university = tweets[tweets[\"clean_translation\"].str.contains(\"universit\", na=False)]\n",
    "tweets = tweets[~tweets[\"clean_translation\"].str.contains(\"universit\", na=False)]"
   ]
  },
  {
   "cell_type": "code",
   "execution_count": 233,
   "metadata": {},
   "outputs": [],
   "source": [
    "rally = tweets[tweets[\"clean_translation\"].str.contains(\"rally\", na=False)]\n",
    "tweets = tweets[~tweets[\"clean_translation\"].str.contains(\"rally\", na=False)]"
   ]
  },
  {
   "cell_type": "code",
   "execution_count": 234,
   "metadata": {},
   "outputs": [],
   "source": [
    "student = tweets[tweets[\"clean_translation\"].str.contains(\"student\", na=False)]\n",
    "tweets = tweets[~tweets[\"clean_translation\"].str.contains(\"student\", na=False)]"
   ]
  },
  {
   "cell_type": "code",
   "execution_count": 235,
   "metadata": {},
   "outputs": [],
   "source": [
    "na = tweets[tweets[\"clean_translation\"].str.contains(\"na\", na=False)]\n",
    "tweets = tweets[~tweets[\"clean_translation\"].str.contains(\"na\", na=False)]"
   ]
  },
  {
   "cell_type": "code",
   "execution_count": 236,
   "metadata": {},
   "outputs": [],
   "source": [
    "senate = tweets[tweets[\"clean_translation\"].str.contains(\"senat\", na=False)]\n",
    "tweets = tweets[~tweets[\"clean_translation\"].str.contains(\"senat\", na=False)]"
   ]
  },
  {
   "cell_type": "code",
   "execution_count": 237,
   "metadata": {},
   "outputs": [],
   "source": [
    "fcr = tweets[tweets[\"clean_translation\"].str.contains(\"fcr\", na=False)]\n",
    "tweets = tweets[~tweets[\"clean_translation\"].str.contains(\"fcr\", na=False)]"
   ]
  },
  {
   "cell_type": "code",
   "execution_count": 239,
   "metadata": {},
   "outputs": [],
   "source": [
    "federal_executive = pd.concat([khan, minister, pti, imran, prime, arif, alvi, president, pm, isf])\n",
    "federal_executive [\"category\"] = \"federal executive \""
   ]
  },
  {
   "cell_type": "code",
   "execution_count": 240,
   "metadata": {},
   "outputs": [],
   "source": [
    "national_assembly = pd.concat([assembly, afridi, amir, hussain, mna, na])\n",
    "national_assembly[\"category\"] = \"national assembly\""
   ]
  },
  {
   "cell_type": "code",
   "execution_count": 241,
   "metadata": {},
   "outputs": [],
   "source": [
    "senate = pd.concat([senate, chairman])\n",
    "senate[\"category\"] = \"senate\""
   ]
  },
  {
   "cell_type": "code",
   "execution_count": 242,
   "metadata": {},
   "outputs": [],
   "source": [
    "jamiat_ulema_party = pd.concat([rehman, fazlur, jamiat, ulemaeislam, jamaateislami])\n",
    "jamiat_ulema_party[\"category\"] = \"jamiat ulema party\""
   ]
  },
  {
   "cell_type": "code",
   "execution_count": 243,
   "metadata": {},
   "outputs": [],
   "source": [
    "pmln = pd.concat([nawaz_sharif, pmln])\n",
    "pmln[\"category\"] = \"pmln\""
   ]
  },
  {
   "cell_type": "code",
   "execution_count": 246,
   "metadata": {},
   "outputs": [],
   "source": [
    "ptm = pd.concat([ptm, rally, dawar, wazir, manzoor, movement, pashtun, protest])\n",
    "ptm[\"category\"] = \"ptm\""
   ]
  },
  {
   "cell_type": "code",
   "execution_count": 247,
   "metadata": {},
   "outputs": [],
   "source": [
    "ppp = pd.concat([watan, ali_shah, bhutto])\n",
    "ppp[\"category\"] = \"ppp\""
   ]
  },
  {
   "cell_type": "code",
   "execution_count": 250,
   "metadata": {},
   "outputs": [],
   "source": [
    "merger = pd.concat([fata, tribal, khyber, pakhtunkhwa, khattak, kp, mpa, governor, fcr])\n",
    "merger[\"category\"] = \"merger\""
   ]
  },
  {
   "cell_type": "code",
   "execution_count": 252,
   "metadata": {},
   "outputs": [],
   "source": [
    "awami_tehreek_party = pd.concat([awami, muhammad_tahir])\n",
    "awami_tehreek_party[\"category\"] = \"awami tehreek party\""
   ]
  },
  {
   "cell_type": "code",
   "execution_count": 253,
   "metadata": {},
   "outputs": [],
   "source": [
    "awami_national_party = pd.concat([anp, mian_iftikhar])\n",
    "awami_national_party[\"category\"] = \"awami national party\""
   ]
  },
  {
   "cell_type": "code",
   "execution_count": 254,
   "metadata": {},
   "outputs": [],
   "source": [
    "#Combine all categorized tweets and drop duplicates\n",
    "cat_tweets = pd.concat([federal_executive, national_assembly, senate, jamiat_ulema_party, pmln, ptm, ppp, merger, awami_tehreek_party, awami_national_party])\n",
    "cat_tweets = cat_tweets.reset_index()\n",
    "cat_tweets = cat_tweets.drop_duplicates([\"index\", \"clean_translation\", \"hashtags\", \"user_id\", \"user_location\"])"
   ]
  },
  {
   "cell_type": "code",
   "execution_count": 255,
   "metadata": {},
   "outputs": [],
   "source": [
    "#Set uncategorized tweets equal to \"None\" and combine categorized and uncategorized dataframes and save\n",
    "uncat = tweets\n",
    "uncat[\"category\"] = \"None\"\n",
    "tweets = pd.concat([cat_tweets, uncat])\n",
    "with open(\"kp_party_politics_tweets_categorized.pickle\", \"wb\") as f:\n",
    "    pickle.dump(tweets, f)"
   ]
  }
 ],
 "metadata": {
  "kernelspec": {
   "display_name": "Python 3",
   "language": "python",
   "name": "python3"
  },
  "language_info": {
   "codemirror_mode": {
    "name": "ipython",
    "version": 3
   },
   "file_extension": ".py",
   "mimetype": "text/x-python",
   "name": "python",
   "nbconvert_exporter": "python",
   "pygments_lexer": "ipython3",
   "version": "3.5.5"
  }
 },
 "nbformat": 4,
 "nbformat_minor": 4
}
